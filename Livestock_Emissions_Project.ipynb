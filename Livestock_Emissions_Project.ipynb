{
  "cells": [
    {
      "cell_type": "markdown",
      "metadata": {
        "colab_type": "text",
        "id": "view-in-github"
      },
      "source": [
        "<a href=\"https://colab.research.google.com/github/yusufokunlola/Livestock_Emissions/blob/main/Livestock_Emissions_Project.ipynb\" target=\"_parent\"><img src=\"https://colab.research.google.com/assets/colab-badge.svg\" alt=\"Open In Colab\"/></a>"
      ]
    },
    {
      "cell_type": "markdown",
      "metadata": {
        "colab": {
          "base_uri": "https://localhost:8080/"
        },
        "collapsed": true,
        "id": "nxceGKgWKZv8",
        "outputId": "a3c85d1e-bb49-47a2-e7cd-5d7d3e639b40"
      },
      "source": [
        "#### Libraries to install\n",
        "\n",
        "##### pycountry-convert provides conversion functions between ISO country names, country-codes, and continent names.\n",
        "! pip install pycountry-convert\n",
        "\n",
        "##### To install Facebook Prophet, use this command:\n",
        "! pip install prophet"
      ]
    },
    {
      "cell_type": "code",
      "execution_count": 56,
      "metadata": {
        "id": "wB9XuKyR2iuT"
      },
      "outputs": [],
      "source": [
        "# Import libraries\n",
        "import os\n",
        "import pandas as pd\n",
        "import numpy as np\n",
        "import pycountry_convert as pc\n",
        "import pycountry\n",
        "import matplotlib\n",
        "# matplotlib.use('Agg')  # Use a non-interactive backend\n",
        "import matplotlib.pyplot as plt\n",
        "\n",
        "import seaborn as sns\n",
        "import plotly.express as px\n",
        "import plotly.graph_objects as go\n",
        "from plotly.subplots import make_subplots\n",
        "\n",
        "# Set display options to show full dataset\n",
        "pd.set_option('display.max_rows', None)   # Show all rows\n",
        "pd.set_option('display.max_columns', None) # Show all columns\n",
        "pd.set_option('display.width', None)      # Do not truncate output"
      ]
    },
    {
      "cell_type": "code",
      "execution_count": 2,
      "metadata": {
        "id": "hAoOfNtX2owp"
      },
      "outputs": [],
      "source": [
        "# mainpath=\"/content/drive\"\n",
        "# inpath=mainpath+\"/MyDrive/Livestock_Emissions_Project\""
      ]
    },
    {
      "cell_type": "code",
      "execution_count": 3,
      "metadata": {
        "colab": {
          "base_uri": "https://localhost:8080/"
        },
        "id": "IQ15MPLh21RA",
        "outputId": "addb4f7f-3d72-4f6c-ff5b-79574b6f6ef1"
      },
      "outputs": [],
      "source": [
        "# from google.colab import drive\n",
        "# drive.mount(mainpath)"
      ]
    },
    {
      "cell_type": "code",
      "execution_count": 4,
      "metadata": {
        "id": "YDEYl0rr9TqU"
      },
      "outputs": [],
      "source": [
        "# Function to retrieve continent using ISO2 code\n",
        "def country_to_continent(country_code):\n",
        "    if pd.isna(country_code) or not isinstance(country_code, str):\n",
        "        return \"Unknown\"\n",
        "    try:\n",
        "        country_continent_code = pc.country_alpha2_to_continent_code(country_code)\n",
        "        country_continent_name = pc.convert_continent_code_to_continent_name(country_continent_code)\n",
        "        return country_continent_name\n",
        "    except KeyError:\n",
        "        return \"Unknown\"\n",
        "\n",
        "\n",
        "# Function to retrieve ISO3 code using ISO2 code\n",
        "def iso2_to_iso3(country_code):\n",
        "    if pd.isna(country_code) or not isinstance(country_code, str):\n",
        "        return \"Unknown\"\n",
        "    try:\n",
        "        # Using pycountry to get the ISO3 code from ISO2\n",
        "        country = pycountry.countries.get(alpha_2=country_code.upper())\n",
        "        return country.alpha_3\n",
        "    except AttributeError:\n",
        "        return \"Unknown\"\n",
        "    \n",
        "\n",
        "# Function to save the plot\n",
        "def save_plot(title, directory=\"visualization\"):\n",
        "    \"\"\"\n",
        "    Save a plot with a given title in the specified directory.\n",
        "\n",
        "    Parameters:\n",
        "    - title: The title of the plot, which will also be used as the filename.\n",
        "    - directory: The folder where the plot should be saved (default: 'visualization').\n",
        "    \"\"\"\n",
        "    if not os.path.exists(directory):\n",
        "        os.makedirs(directory)\n",
        "    \n",
        "    valid_filename = \"\".join([c if c.isalnum() else \"_\" for c in title]) + \".jpg\"\n",
        "    file_path = os.path.join(directory, valid_filename)\n",
        "    \n",
        "    plt.savefig(file_path, bbox_inches=\"tight\", dpi=300)\n",
        "    print(f\"Plot saved to {file_path}\")\n",
        "    \n",
        "\n",
        "# # Data wrangling function for data cleaning\n",
        "# def wrangle(df):\n",
        "\n",
        "#     # Drop columns with single values\n",
        "#     df.drop(['Domain Code', 'Domain', 'Element Code', 'Element', 'Item Code (CPC)', 'Item',\n",
        "#        'Year Code','Source Code', 'Source'], axis=1, inplace=True)\n",
        "\n",
        "#     # Ensure 'Area Code (ISO2)' column contains strings\n",
        "#     df['Area Code (ISO2)'] = df['Area Code (ISO2)'].astype(str)\n",
        "\n",
        "#     # Add the Continent column\n",
        "#     df['Continent'] = df['Area Code (ISO2)'].apply(country_to_continent)\n",
        "\n",
        "#     # Define the continent mapping for specific areas without recent ISO2 codes - ISO 3166-1 alpha-2 (https://en.wikipedia.org/wiki/ISO_3166-1_alpha-2)\n",
        "#     special_cases = {\n",
        "#         'China': 'Asia',\n",
        "#         'Timor-Leste': 'Asia',\n",
        "#         'Namibia': 'Africa',\n",
        "#         'Palestine': 'Asia',\n",
        "#         'Sudan (former)': 'Africa',\n",
        "#         'Serbia and Montenegro': 'Europe'\n",
        "#     }\n",
        "\n",
        "#     # Apply lambda function to replace 'Unknown' with the appropriate continent\n",
        "#     df['Continent'] = df.apply(\n",
        "#         lambda row: special_cases.get(row['Area'], 'Unknown') if row['Continent'] == 'Unknown' else row['Continent'],\n",
        "#         axis=1)\n",
        "\n",
        "#     df = df.copy()\n",
        "\n",
        "#     # Filter the DataFrame by dropping areas with a count less than 22\n",
        "#     df = df[~df['Area'].isin(df['Area'].value_counts()[df['Area'].value_counts() < 22].index)]\n",
        "\n",
        "#     # Drop rows where 'Area' is 'China, mainland'\n",
        "#     df = df[df['Area'] != 'China, mainland']\n",
        "\n",
        "#     # Drop ISO2 code column\n",
        "#     df.drop('Area Code (ISO2)', axis=1, inplace=True)\n",
        "\n",
        "#     # Return the cleaned DataFrame\n",
        "#     return df"
      ]
    },
    {
      "cell_type": "code",
      "execution_count": 5,
      "metadata": {
        "id": "A9TFsx7XtyT0"
      },
      "outputs": [],
      "source": [
        "# Data wrangling function for data cleaning\n",
        "def wrangle(df):\n",
        "\n",
        "    # Check if columns exist before attempting to drop them\n",
        "    columns_to_drop = ['Domain Code', 'Domain', 'Element Code', 'Element', 'Item Code (CPC)', 'Item',\n",
        "                       'Year Code', 'Source Code', 'Source']\n",
        "\n",
        "    # Drop columns only if they exist in the DataFrame\n",
        "    df = df.drop(columns=[col for col in columns_to_drop if col in df.columns], axis=1, errors='ignore')\n",
        "\n",
        "    # Ensure 'Area Code (ISO2)' column exists and contains strings\n",
        "    if 'Area Code (ISO2)' in df.columns:\n",
        "        df['Area Code (ISO2)'] = df['Area Code (ISO2)'].astype(str)\n",
        "    else:\n",
        "        print(\"'Area Code (ISO2)' column is missing from the DataFrame.\")\n",
        "\n",
        "    # Add the Continent column if 'country_to_continent' function is available\n",
        "    if 'Area Code (ISO2)' in df.columns:\n",
        "        df['Continent'] = df['Area Code (ISO2)'].apply(country_to_continent)\n",
        "        \n",
        "    # Add the Continent column if 'country_to_continent' function is available\n",
        "    if 'Area Code (ISO2)' in df.columns:\n",
        "        df['Area Code (ISO3)'] = df['Area Code (ISO2)'].apply(iso2_to_iso3)\n",
        "\n",
        "    # Define the continent mapping for specific areas without recent ISO2 codes\n",
        "    special_cases = {\n",
        "        'China': 'Asia',\n",
        "        'Timor-Leste': 'Asia',\n",
        "        'Namibia': 'Africa',\n",
        "        'Palestine': 'Asia',\n",
        "        'Sudan (former)': 'Africa',\n",
        "        'Serbia and Montenegro': 'Europe'\n",
        "    }\n",
        "\n",
        "    # Apply lambda function to replace 'Unknown' with the appropriate continent from special cases\n",
        "    if 'Continent' in df.columns and 'Area' in df.columns:\n",
        "        df['Continent'] = df.apply(\n",
        "            lambda row: special_cases.get(row['Area'], row['Continent']) if row['Continent'] == 'Unknown' else row['Continent'],\n",
        "            axis=1\n",
        "        )\n",
        "\n",
        "    # Ensure a clean copy of the DataFrame\n",
        "    df = df.copy()\n",
        "\n",
        "    # Check if 'Area' exists before filtering\n",
        "    if 'Area' in df.columns:\n",
        "        # Filter the DataFrame by dropping areas with a count less than 22\n",
        "        area_counts = df['Area'].value_counts()\n",
        "        df = df[~df['Area'].isin(area_counts[area_counts < 22].index)]\n",
        "\n",
        "        # Drop rows where 'Area' is 'China' because 'China' and 'China, mainland' records were same\n",
        "        df = df[df['Area'] != 'China']\n",
        "    else:\n",
        "        print(\"'Area' column is missing from the DataFrame.\")\n",
        "           \n",
        "    \n",
        "    # Set Area Code (ISO2) and Country Code for Namibia and Palestine Source: https://www.iban.com/country-codes\n",
        "    df.loc[df['Area'] == 'Namibia', ['Area Code (ISO2)', 'Area Code (ISO3)']] = ['NA', 'NAM']\n",
        "    df.loc[df['Area'] == 'Palestine', ['Area Code (ISO2)', 'Area Code (ISO3)']] = ['PS', 'PSE']\n",
        "\n",
        "\n",
        "    # Drop 'Area Code (ISO2)' column if it exists\n",
        "    if 'Area Code (ISO2)' in df.columns:\n",
        "        df.drop('Area Code (ISO2)', axis=1, inplace=True)\n",
        "\n",
        "    # Return the cleaned DataFrame\n",
        "    return df"
      ]
    },
    {
      "cell_type": "code",
      "execution_count": 6,
      "metadata": {
        "colab": {
          "base_uri": "https://localhost:8080/",
          "height": 206
        },
        "id": "XRNXmHWOKI9z",
        "outputId": "7d4525e9-2231-45ab-bade-6178fa5d0eec"
      },
      "outputs": [
        {
          "data": {
            "text/html": [
              "<div>\n",
              "<style scoped>\n",
              "    .dataframe tbody tr th:only-of-type {\n",
              "        vertical-align: middle;\n",
              "    }\n",
              "\n",
              "    .dataframe tbody tr th {\n",
              "        vertical-align: top;\n",
              "    }\n",
              "\n",
              "    .dataframe thead th {\n",
              "        text-align: right;\n",
              "    }\n",
              "</style>\n",
              "<table border=\"1\" class=\"dataframe\">\n",
              "  <thead>\n",
              "    <tr style=\"text-align: right;\">\n",
              "      <th></th>\n",
              "      <th>Domain Code</th>\n",
              "      <th>Domain</th>\n",
              "      <th>Area Code (ISO2)</th>\n",
              "      <th>Area</th>\n",
              "      <th>Element Code</th>\n",
              "      <th>Element</th>\n",
              "      <th>Item Code (CPC)</th>\n",
              "      <th>Item</th>\n",
              "      <th>Year Code</th>\n",
              "      <th>Year</th>\n",
              "      <th>Source Code</th>\n",
              "      <th>Source</th>\n",
              "      <th>Value</th>\n",
              "    </tr>\n",
              "  </thead>\n",
              "  <tbody>\n",
              "    <tr>\n",
              "      <th>0</th>\n",
              "      <td>GLE</td>\n",
              "      <td>Emissions from Livestock</td>\n",
              "      <td>AF</td>\n",
              "      <td>Afghanistan</td>\n",
              "      <td>72441</td>\n",
              "      <td>Livestock total (Emissions CH4)</td>\n",
              "      <td>F1757</td>\n",
              "      <td>Cattle</td>\n",
              "      <td>2000</td>\n",
              "      <td>2000</td>\n",
              "      <td>3050</td>\n",
              "      <td>FAO TIER 1</td>\n",
              "      <td>152.100</td>\n",
              "    </tr>\n",
              "    <tr>\n",
              "      <th>1</th>\n",
              "      <td>GLE</td>\n",
              "      <td>Emissions from Livestock</td>\n",
              "      <td>AF</td>\n",
              "      <td>Afghanistan</td>\n",
              "      <td>72441</td>\n",
              "      <td>Livestock total (Emissions CH4)</td>\n",
              "      <td>F1757</td>\n",
              "      <td>Cattle</td>\n",
              "      <td>2001</td>\n",
              "      <td>2001</td>\n",
              "      <td>3050</td>\n",
              "      <td>FAO TIER 1</td>\n",
              "      <td>119.621</td>\n",
              "    </tr>\n",
              "    <tr>\n",
              "      <th>2</th>\n",
              "      <td>GLE</td>\n",
              "      <td>Emissions from Livestock</td>\n",
              "      <td>AF</td>\n",
              "      <td>Afghanistan</td>\n",
              "      <td>72441</td>\n",
              "      <td>Livestock total (Emissions CH4)</td>\n",
              "      <td>F1757</td>\n",
              "      <td>Cattle</td>\n",
              "      <td>2002</td>\n",
              "      <td>2002</td>\n",
              "      <td>3050</td>\n",
              "      <td>FAO TIER 1</td>\n",
              "      <td>196.135</td>\n",
              "    </tr>\n",
              "    <tr>\n",
              "      <th>3</th>\n",
              "      <td>GLE</td>\n",
              "      <td>Emissions from Livestock</td>\n",
              "      <td>AF</td>\n",
              "      <td>Afghanistan</td>\n",
              "      <td>72441</td>\n",
              "      <td>Livestock total (Emissions CH4)</td>\n",
              "      <td>F1757</td>\n",
              "      <td>Cattle</td>\n",
              "      <td>2003</td>\n",
              "      <td>2003</td>\n",
              "      <td>3050</td>\n",
              "      <td>FAO TIER 1</td>\n",
              "      <td>199.441</td>\n",
              "    </tr>\n",
              "    <tr>\n",
              "      <th>4</th>\n",
              "      <td>GLE</td>\n",
              "      <td>Emissions from Livestock</td>\n",
              "      <td>AF</td>\n",
              "      <td>Afghanistan</td>\n",
              "      <td>72441</td>\n",
              "      <td>Livestock total (Emissions CH4)</td>\n",
              "      <td>F1757</td>\n",
              "      <td>Cattle</td>\n",
              "      <td>2004</td>\n",
              "      <td>2004</td>\n",
              "      <td>3050</td>\n",
              "      <td>FAO TIER 1</td>\n",
              "      <td>182.926</td>\n",
              "    </tr>\n",
              "  </tbody>\n",
              "</table>\n",
              "</div>"
            ],
            "text/plain": [
              "  Domain Code                    Domain Area Code (ISO2)         Area  \\\n",
              "0         GLE  Emissions from Livestock               AF  Afghanistan   \n",
              "1         GLE  Emissions from Livestock               AF  Afghanistan   \n",
              "2         GLE  Emissions from Livestock               AF  Afghanistan   \n",
              "3         GLE  Emissions from Livestock               AF  Afghanistan   \n",
              "4         GLE  Emissions from Livestock               AF  Afghanistan   \n",
              "\n",
              "   Element Code                          Element Item Code (CPC)    Item  \\\n",
              "0         72441  Livestock total (Emissions CH4)           F1757  Cattle   \n",
              "1         72441  Livestock total (Emissions CH4)           F1757  Cattle   \n",
              "2         72441  Livestock total (Emissions CH4)           F1757  Cattle   \n",
              "3         72441  Livestock total (Emissions CH4)           F1757  Cattle   \n",
              "4         72441  Livestock total (Emissions CH4)           F1757  Cattle   \n",
              "\n",
              "   Year Code  Year  Source Code      Source    Value  \n",
              "0       2000  2000         3050  FAO TIER 1  152.100  \n",
              "1       2001  2001         3050  FAO TIER 1  119.621  \n",
              "2       2002  2002         3050  FAO TIER 1  196.135  \n",
              "3       2003  2003         3050  FAO TIER 1  199.441  \n",
              "4       2004  2004         3050  FAO TIER 1  182.926  "
            ]
          },
          "execution_count": 6,
          "metadata": {},
          "output_type": "execute_result"
        }
      ],
      "source": [
        "# Load the original dataset\n",
        "# data = pd.read_csv(inpath+'/datasets/Cattle_CH4_dataset_1961_2021.csv') #- (1961 - 2022)\n",
        "\n",
        "# data = pd.read_csv(inpath+'/datasets/Cattle_CH4_dataset_2000_2021.csv') #- (2000 - 2022)\n",
        "\n",
        "# local machine dataset loading\n",
        "data = pd.read_csv('dataset/Cattle_CH4_dataset_2000_2021.csv')\n",
        "data.head()"
      ]
    },
    {
      "cell_type": "code",
      "execution_count": 7,
      "metadata": {
        "colab": {
          "base_uri": "https://localhost:8080/",
          "height": 492
        },
        "id": "nkdekCQsL0KG",
        "outputId": "0d2d10f1-3060-40d0-a94d-50f4b6d0741a"
      },
      "outputs": [
        {
          "data": {
            "text/plain": [
              "Domain Code            1\n",
              "Domain                 1\n",
              "Area Code (ISO2)     198\n",
              "Area                 199\n",
              "Element Code           1\n",
              "Element                1\n",
              "Item Code (CPC)        1\n",
              "Item                   1\n",
              "Year Code             22\n",
              "Year                  22\n",
              "Source Code            1\n",
              "Source                 1\n",
              "Value               4106\n",
              "dtype: int64"
            ]
          },
          "execution_count": 7,
          "metadata": {},
          "output_type": "execute_result"
        }
      ],
      "source": [
        "# check unique features\n",
        "data.nunique()"
      ]
    },
    {
      "cell_type": "code",
      "execution_count": 8,
      "metadata": {
        "colab": {
          "base_uri": "https://localhost:8080/",
          "height": 206
        },
        "id": "gZd59zOyXJ6u",
        "outputId": "0510a8f5-51e9-4832-c2af-af50afe1e724"
      },
      "outputs": [
        {
          "data": {
            "text/html": [
              "<div>\n",
              "<style scoped>\n",
              "    .dataframe tbody tr th:only-of-type {\n",
              "        vertical-align: middle;\n",
              "    }\n",
              "\n",
              "    .dataframe tbody tr th {\n",
              "        vertical-align: top;\n",
              "    }\n",
              "\n",
              "    .dataframe thead th {\n",
              "        text-align: right;\n",
              "    }\n",
              "</style>\n",
              "<table border=\"1\" class=\"dataframe\">\n",
              "  <thead>\n",
              "    <tr style=\"text-align: right;\">\n",
              "      <th></th>\n",
              "      <th>Area</th>\n",
              "      <th>Year</th>\n",
              "      <th>Value</th>\n",
              "      <th>Continent</th>\n",
              "      <th>Area Code (ISO3)</th>\n",
              "    </tr>\n",
              "  </thead>\n",
              "  <tbody>\n",
              "    <tr>\n",
              "      <th>0</th>\n",
              "      <td>Afghanistan</td>\n",
              "      <td>2000</td>\n",
              "      <td>152.100</td>\n",
              "      <td>Asia</td>\n",
              "      <td>AFG</td>\n",
              "    </tr>\n",
              "    <tr>\n",
              "      <th>1</th>\n",
              "      <td>Afghanistan</td>\n",
              "      <td>2001</td>\n",
              "      <td>119.621</td>\n",
              "      <td>Asia</td>\n",
              "      <td>AFG</td>\n",
              "    </tr>\n",
              "    <tr>\n",
              "      <th>2</th>\n",
              "      <td>Afghanistan</td>\n",
              "      <td>2002</td>\n",
              "      <td>196.135</td>\n",
              "      <td>Asia</td>\n",
              "      <td>AFG</td>\n",
              "    </tr>\n",
              "    <tr>\n",
              "      <th>3</th>\n",
              "      <td>Afghanistan</td>\n",
              "      <td>2003</td>\n",
              "      <td>199.441</td>\n",
              "      <td>Asia</td>\n",
              "      <td>AFG</td>\n",
              "    </tr>\n",
              "    <tr>\n",
              "      <th>4</th>\n",
              "      <td>Afghanistan</td>\n",
              "      <td>2004</td>\n",
              "      <td>182.926</td>\n",
              "      <td>Asia</td>\n",
              "      <td>AFG</td>\n",
              "    </tr>\n",
              "  </tbody>\n",
              "</table>\n",
              "</div>"
            ],
            "text/plain": [
              "          Area  Year    Value Continent Area Code (ISO3)\n",
              "0  Afghanistan  2000  152.100      Asia              AFG\n",
              "1  Afghanistan  2001  119.621      Asia              AFG\n",
              "2  Afghanistan  2002  196.135      Asia              AFG\n",
              "3  Afghanistan  2003  199.441      Asia              AFG\n",
              "4  Afghanistan  2004  182.926      Asia              AFG"
            ]
          },
          "execution_count": 8,
          "metadata": {},
          "output_type": "execute_result"
        }
      ],
      "source": [
        "# Apply the wrangle function built for data cleaning\n",
        "df = wrangle(data)\n",
        "\n",
        "# print\n",
        "df.head()"
      ]
    },
    {
      "cell_type": "code",
      "execution_count": 9,
      "metadata": {
        "colab": {
          "base_uri": "https://localhost:8080/"
        },
        "id": "5JaklUfdPc1X",
        "outputId": "13553205-73d3-414e-a54b-b1563fbaa298"
      },
      "outputs": [
        {
          "data": {
            "text/plain": [
              "(4224, 5)"
            ]
          },
          "execution_count": 9,
          "metadata": {},
          "output_type": "execute_result"
        }
      ],
      "source": [
        "# check dataset shape\n",
        "df.shape"
      ]
    },
    {
      "cell_type": "code",
      "execution_count": 10,
      "metadata": {
        "colab": {
          "base_uri": "https://localhost:8080/",
          "height": 210
        },
        "id": "xlaUOz8qXhsZ",
        "outputId": "3c692875-5ebc-44d5-c5e8-0b12f0cd713e"
      },
      "outputs": [
        {
          "data": {
            "text/plain": [
              "Area                 192\n",
              "Year                  22\n",
              "Value               4014\n",
              "Continent              6\n",
              "Area Code (ISO3)     192\n",
              "dtype: int64"
            ]
          },
          "execution_count": 10,
          "metadata": {},
          "output_type": "execute_result"
        }
      ],
      "source": [
        "df.nunique()"
      ]
    },
    {
      "cell_type": "code",
      "execution_count": 11,
      "metadata": {
        "colab": {
          "base_uri": "https://localhost:8080/"
        },
        "id": "qHuuu3vd-AQz",
        "outputId": "9c1fdc6e-6035-4c88-a9e8-055e83bbc808"
      },
      "outputs": [
        {
          "data": {
            "text/plain": [
              "array(['Asia', 'Europe', 'Africa', 'North America', 'South America',\n",
              "       'Oceania'], dtype=object)"
            ]
          },
          "execution_count": 11,
          "metadata": {},
          "output_type": "execute_result"
        }
      ],
      "source": [
        "df['Continent'].unique()"
      ]
    },
    {
      "cell_type": "code",
      "execution_count": 12,
      "metadata": {},
      "outputs": [
        {
          "data": {
            "text/plain": [
              "Area                0\n",
              "Year                0\n",
              "Value               0\n",
              "Continent           0\n",
              "Area Code (ISO3)    0\n",
              "dtype: int64"
            ]
          },
          "execution_count": 12,
          "metadata": {},
          "output_type": "execute_result"
        }
      ],
      "source": [
        "df.isnull().sum()"
      ]
    },
    {
      "cell_type": "code",
      "execution_count": 13,
      "metadata": {
        "id": "WzEC6DV7NHQf"
      },
      "outputs": [],
      "source": [
        "# save cleaned dataset\n",
        "df.to_csv('dataset/Cattle_CH4_dataset_cleaned_2000_2021.csv', index=False)"
      ]
    },
    {
      "cell_type": "markdown",
      "metadata": {
        "id": "DesBPNOZlq2k"
      },
      "source": [
        "## **Global Analysis**"
      ]
    },
    {
      "cell_type": "code",
      "execution_count": 14,
      "metadata": {
        "colab": {
          "base_uri": "https://localhost:8080/"
        },
        "id": "oEvczjSqzzD2",
        "outputId": "fa988bb9-5303-4a31-88f0-a6c75c382302"
      },
      "outputs": [
        {
          "name": "stdout",
          "output_type": "stream",
          "text": [
            "Continent\n",
            "Africa           53\n",
            "Asia             49\n",
            "Europe           38\n",
            "North America    26\n",
            "Oceania          13\n",
            "South America    13\n",
            "Name: Area, dtype: int64\n"
          ]
        }
      ],
      "source": [
        "# Display the number of unique countries in each continent\n",
        "print(df.groupby('Continent')['Area'].nunique())"
      ]
    },
    {
      "cell_type": "code",
      "execution_count": 15,
      "metadata": {
        "colab": {
          "base_uri": "https://localhost:8080/",
          "height": 428
        },
        "id": "MpqlLcNw-olE",
        "outputId": "b749afdc-d037-4797-8459-fd3476c64523"
      },
      "outputs": [
        {
          "name": "stderr",
          "output_type": "stream",
          "text": [
            "C:\\Users\\user\\AppData\\Local\\Temp\\ipykernel_24952\\3437649012.py:29: UserWarning: Matplotlib is currently using agg, which is a non-GUI backend, so cannot show the figure.\n",
            "  plt.show()\n"
          ]
        },
        {
          "name": "stdout",
          "output_type": "stream",
          "text": [
            "Plot saved to visualization\\Number_of_Unique_Countries_in_Each_Continent.jpg\n"
          ]
        }
      ],
      "source": [
        "# @title Number of Unique Countries in Each Continent\n",
        "\n",
        "# Group by continent and count unique areas (countries), sorted in descending order\n",
        "continent_area_counts = df.groupby('Continent')['Area'].nunique().sort_values(ascending=True)\n",
        "\n",
        "# Plotting the horizontal bar chart\n",
        "plt.figure(figsize=(10, 6))\n",
        "bars = continent_area_counts.plot(kind='barh', color='teal')\n",
        "\n",
        "# Add labels at the end of each bar\n",
        "for index, value in enumerate(continent_area_counts):\n",
        "    plt.text(value + 0.5, index, str(value), va='center', ha='left', fontsize=12, color='black')\n",
        "\n",
        "# Remove the top, right, and bottom border (spines)\n",
        "bars.spines['top'].set_visible(False)\n",
        "bars.spines['right'].set_visible(False)\n",
        "bars.spines['bottom'].set_visible(False)\n",
        "\n",
        "# Remove the x-axis ticks\n",
        "plt.xticks([])\n",
        "\n",
        "# Add titles and labels\n",
        "title = 'Number of Unique Countries in Each Continent'\n",
        "plt.title(title, fontsize=14)\n",
        "plt.ylabel('Continent')\n",
        "\n",
        "# Display the plot\n",
        "plt.tight_layout()\n",
        "plt.show()\n",
        "\n",
        "# Save the plot\n",
        "save_plot(title)"
      ]
    },
    {
      "cell_type": "code",
      "execution_count": 16,
      "metadata": {
        "colab": {
          "base_uri": "https://localhost:8080/",
          "height": 564
        },
        "id": "WKGI6QZSdKaS",
        "outputId": "01d0f5ab-9718-4e4f-e3cb-4a1977598f3c"
      },
      "outputs": [
        {
          "name": "stdout",
          "output_type": "stream",
          "text": [
            "Plot saved to visualization\\Average_Global_Methane_Emissions_from_Cattle__2000_2021_.jpg\n"
          ]
        }
      ],
      "source": [
        "# @title Average Global Methane Emissions from Cattle (2000-2021)\n",
        "\n",
        "emissions_by_year = df.groupby('Year')['Value'].mean()\n",
        "\n",
        "# Create a line chart\n",
        "plt.figure(figsize=(10, 6))\n",
        "plt.plot(emissions_by_year.index, emissions_by_year.values)\n",
        "plt.xlabel('Year')\n",
        "plt.ylabel('Total Methane Emissions (kt)')\n",
        "title = 'Average Global Methane Emissions from Cattle (2000-2021)'\n",
        "plt.title(title)\n",
        "\n",
        "# Save the plot\n",
        "save_plot(title)"
      ]
    },
    {
      "cell_type": "code",
      "execution_count": 17,
      "metadata": {
        "colab": {
          "base_uri": "https://localhost:8080/",
          "height": 564
        },
        "id": "I_9m0WD_Z3Ge",
        "outputId": "b09801d0-e315-4fa6-a1b9-3c6cc2a2e219"
      },
      "outputs": [
        {
          "name": "stdout",
          "output_type": "stream",
          "text": [
            "Plot saved to visualization\\Average_Methane_Emmission_from_Cattle_by_Continent__2000_2021_.jpg\n"
          ]
        }
      ],
      "source": [
        "# @title Average Methane Emissions from Cattle by Continent (2000-2021)\n",
        "\n",
        "# Group by Continent and Year, then calculate the mean of the 'Value' (temperature)\n",
        "mean_temp_by_year_continent = df.groupby(['Year', 'Continent'])['Value'].mean().unstack()\n",
        "\n",
        "# Plotting the mean Methane Emmission for each continent across the years\n",
        "mean_temp_by_year_continent.plot(figsize=(10,6))\n",
        "\n",
        "plt.xlabel('Year')\n",
        "plt.ylabel('Mean Methane Emmission')\n",
        "plt.legend(title='Continent')\n",
        "title = 'Average Methane Emmission from Cattle by Continent (2000-2021)'\n",
        "plt.title(title)\n",
        "\n",
        "# Save the plot\n",
        "save_plot(title)"
      ]
    },
    {
      "cell_type": "code",
      "execution_count": 18,
      "metadata": {
        "colab": {
          "base_uri": "https://localhost:8080/",
          "height": 542
        },
        "id": "BZ_Nqt5gFtJf",
        "outputId": "81fe7b6d-354f-41ca-a091-74dedf553a5b"
      },
      "outputs": [
        {
          "data": {
            "application/vnd.plotly.v1+json": {
              "config": {
                "plotlyServerURL": "https://plot.ly"
              },
              "data": [
                {
                  "mode": "lines+markers",
                  "name": "Africa",
                  "type": "scatter",
                  "visible": true,
                  "x": [
                    2000,
                    2001,
                    2002,
                    2003,
                    2004,
                    2005,
                    2006,
                    2007,
                    2008,
                    2009,
                    2010,
                    2011,
                    2012,
                    2013,
                    2014,
                    2015,
                    2016,
                    2017,
                    2018,
                    2019,
                    2020,
                    2021
                  ],
                  "y": [
                    127.2368603773585,
                    129.08680754716983,
                    132.74911509433963,
                    136.02098679245282,
                    138.03920000000002,
                    142.6615037735849,
                    146.6018962264151,
                    155.08428679245282,
                    160.5132037735849,
                    164.78563018867925,
                    168.81958113207546,
                    173.4671849056604,
                    180.1561,
                    183.43578867924526,
                    187.724179245283,
                    192.3063245283019,
                    197.26720566037733,
                    197.26002264150944,
                    200.0903075471698,
                    205.17013207547168,
                    214.14946981132076,
                    212.5969962264151
                  ]
                },
                {
                  "mode": "lines+markers",
                  "name": "Asia",
                  "type": "scatter",
                  "visible": false,
                  "x": [
                    2000,
                    2001,
                    2002,
                    2003,
                    2004,
                    2005,
                    2006,
                    2007,
                    2008,
                    2009,
                    2010,
                    2011,
                    2012,
                    2013,
                    2014,
                    2015,
                    2016,
                    2017,
                    2018,
                    2019,
                    2020,
                    2021
                  ],
                  "y": [
                    374.16495918367343,
                    369.4562632653061,
                    365.2085693877551,
                    364.364487755102,
                    369.0920551020408,
                    374.48558163265307,
                    382.80624489795923,
                    387.10514693877553,
                    391.058706122449,
                    382.74309999999997,
                    384.82970408163266,
                    384.0110673469388,
                    386.05718775510206,
                    384.1462734693877,
                    387.2024183673469,
                    391.4813142857143,
                    399.095687755102,
                    402.92952653061224,
                    404.18425306122447,
                    410.69623877551015,
                    415.4800428571429,
                    417.54447346938775
                  ]
                },
                {
                  "mode": "lines+markers",
                  "name": "Europe",
                  "type": "scatter",
                  "visible": false,
                  "x": [
                    2000,
                    2001,
                    2002,
                    2003,
                    2004,
                    2005,
                    2006,
                    2007,
                    2008,
                    2009,
                    2010,
                    2011,
                    2012,
                    2013,
                    2014,
                    2015,
                    2016,
                    2017,
                    2018,
                    2019,
                    2020,
                    2021
                  ],
                  "y": [
                    324.5897394736842,
                    315.43644736842106,
                    310.6785105263158,
                    304.12554473684213,
                    294.51399736842103,
                    286.0105894736842,
                    279.92886052631576,
                    278.80021315789475,
                    276.7587105263158,
                    272.52050263157895,
                    268.8717973684211,
                    262.32345263157896,
                    262.6600394736842,
                    262.7464973684211,
                    263.3246052631579,
                    262.7557684210526,
                    261.5768,
                    259.34895,
                    254.85365526315786,
                    251.68896315789473,
                    248.97109736842106,
                    245.56489736842104
                  ]
                },
                {
                  "mode": "lines+markers",
                  "name": "North America",
                  "type": "scatter",
                  "visible": false,
                  "x": [
                    2000,
                    2001,
                    2002,
                    2003,
                    2004,
                    2005,
                    2006,
                    2007,
                    2008,
                    2009,
                    2010,
                    2011,
                    2012,
                    2013,
                    2014,
                    2015,
                    2016,
                    2017,
                    2018,
                    2019,
                    2020,
                    2021
                  ],
                  "y": [
                    393.77091923076927,
                    393.64347307692304,
                    395.54067692307694,
                    393.96957692307694,
                    393.1718730769231,
                    393.3169846153847,
                    397.1250653846154,
                    398.1310884615384,
                    398.80370769230774,
                    396.25981923076927,
                    395.3091730769231,
                    393.67807692307696,
                    389.1693576923077,
                    388.2131153846154,
                    387.0002653846154,
                    389.1774153846154,
                    395.60440384615384,
                    400.24368461538467,
                    403.9847230769231,
                    406.0646923076923,
                    404.5185346153846,
                    405.2599
                  ]
                },
                {
                  "mode": "lines+markers",
                  "name": "Oceania",
                  "type": "scatter",
                  "visible": false,
                  "x": [
                    2000,
                    2001,
                    2002,
                    2003,
                    2004,
                    2005,
                    2006,
                    2007,
                    2008,
                    2009,
                    2010,
                    2011,
                    2012,
                    2013,
                    2014,
                    2015,
                    2016,
                    2017,
                    2018,
                    2019,
                    2020,
                    2021
                  ],
                  "y": [
                    200.63745384615385,
                    203.3900692307692,
                    206.28147692307692,
                    201.32826923076922,
                    205.19016153846152,
                    205.86733846153845,
                    209.0571230769231,
                    207.4839769230769,
                    204.43026923076923,
                    209.54496923076925,
                    203.27533076923075,
                    213.1889230769231,
                    214.7955,
                    218.94613076923076,
                    218.36082307692308,
                    208.2902076923077,
                    197.00166153846155,
                    201.85663846153847,
                    202.80250769230767,
                    193.86042307692307,
                    187.46818461538462,
                    191.85056153846153
                  ]
                },
                {
                  "mode": "lines+markers",
                  "name": "South America",
                  "type": "scatter",
                  "visible": false,
                  "x": [
                    2000,
                    2001,
                    2002,
                    2003,
                    2004,
                    2005,
                    2006,
                    2007,
                    2008,
                    2009,
                    2010,
                    2011,
                    2012,
                    2013,
                    2014,
                    2015,
                    2016,
                    2017,
                    2018,
                    2019,
                    2020,
                    2021
                  ],
                  "y": [
                    1348.9004846153844,
                    1381.7371615384616,
                    1440.6430076923077,
                    1509.990176923077,
                    1556.5734923076923,
                    1576.774753846154,
                    1581.4183692307693,
                    1559.4374461538464,
                    1571.9280923076924,
                    1578.1240923076923,
                    1566.6319076923075,
                    1571.0031461538465,
                    1580.5013846153847,
                    1582.4144615384614,
                    1588.068876923077,
                    1589.978953846154,
                    1606.8673230769232,
                    1603.0443461538462,
                    1603.0874230769232,
                    1618.2580923076926,
                    1636.4163999999998,
                    1668.5061615384616
                  ]
                }
              ],
              "layout": {
                "template": {
                  "data": {
                    "bar": [
                      {
                        "error_x": {
                          "color": "#2a3f5f"
                        },
                        "error_y": {
                          "color": "#2a3f5f"
                        },
                        "marker": {
                          "line": {
                            "color": "#E5ECF6",
                            "width": 0.5
                          },
                          "pattern": {
                            "fillmode": "overlay",
                            "size": 10,
                            "solidity": 0.2
                          }
                        },
                        "type": "bar"
                      }
                    ],
                    "barpolar": [
                      {
                        "marker": {
                          "line": {
                            "color": "#E5ECF6",
                            "width": 0.5
                          },
                          "pattern": {
                            "fillmode": "overlay",
                            "size": 10,
                            "solidity": 0.2
                          }
                        },
                        "type": "barpolar"
                      }
                    ],
                    "carpet": [
                      {
                        "aaxis": {
                          "endlinecolor": "#2a3f5f",
                          "gridcolor": "white",
                          "linecolor": "white",
                          "minorgridcolor": "white",
                          "startlinecolor": "#2a3f5f"
                        },
                        "baxis": {
                          "endlinecolor": "#2a3f5f",
                          "gridcolor": "white",
                          "linecolor": "white",
                          "minorgridcolor": "white",
                          "startlinecolor": "#2a3f5f"
                        },
                        "type": "carpet"
                      }
                    ],
                    "choropleth": [
                      {
                        "colorbar": {
                          "outlinewidth": 0,
                          "ticks": ""
                        },
                        "type": "choropleth"
                      }
                    ],
                    "contour": [
                      {
                        "colorbar": {
                          "outlinewidth": 0,
                          "ticks": ""
                        },
                        "colorscale": [
                          [
                            0,
                            "#0d0887"
                          ],
                          [
                            0.1111111111111111,
                            "#46039f"
                          ],
                          [
                            0.2222222222222222,
                            "#7201a8"
                          ],
                          [
                            0.3333333333333333,
                            "#9c179e"
                          ],
                          [
                            0.4444444444444444,
                            "#bd3786"
                          ],
                          [
                            0.5555555555555556,
                            "#d8576b"
                          ],
                          [
                            0.6666666666666666,
                            "#ed7953"
                          ],
                          [
                            0.7777777777777778,
                            "#fb9f3a"
                          ],
                          [
                            0.8888888888888888,
                            "#fdca26"
                          ],
                          [
                            1,
                            "#f0f921"
                          ]
                        ],
                        "type": "contour"
                      }
                    ],
                    "contourcarpet": [
                      {
                        "colorbar": {
                          "outlinewidth": 0,
                          "ticks": ""
                        },
                        "type": "contourcarpet"
                      }
                    ],
                    "heatmap": [
                      {
                        "colorbar": {
                          "outlinewidth": 0,
                          "ticks": ""
                        },
                        "colorscale": [
                          [
                            0,
                            "#0d0887"
                          ],
                          [
                            0.1111111111111111,
                            "#46039f"
                          ],
                          [
                            0.2222222222222222,
                            "#7201a8"
                          ],
                          [
                            0.3333333333333333,
                            "#9c179e"
                          ],
                          [
                            0.4444444444444444,
                            "#bd3786"
                          ],
                          [
                            0.5555555555555556,
                            "#d8576b"
                          ],
                          [
                            0.6666666666666666,
                            "#ed7953"
                          ],
                          [
                            0.7777777777777778,
                            "#fb9f3a"
                          ],
                          [
                            0.8888888888888888,
                            "#fdca26"
                          ],
                          [
                            1,
                            "#f0f921"
                          ]
                        ],
                        "type": "heatmap"
                      }
                    ],
                    "heatmapgl": [
                      {
                        "colorbar": {
                          "outlinewidth": 0,
                          "ticks": ""
                        },
                        "colorscale": [
                          [
                            0,
                            "#0d0887"
                          ],
                          [
                            0.1111111111111111,
                            "#46039f"
                          ],
                          [
                            0.2222222222222222,
                            "#7201a8"
                          ],
                          [
                            0.3333333333333333,
                            "#9c179e"
                          ],
                          [
                            0.4444444444444444,
                            "#bd3786"
                          ],
                          [
                            0.5555555555555556,
                            "#d8576b"
                          ],
                          [
                            0.6666666666666666,
                            "#ed7953"
                          ],
                          [
                            0.7777777777777778,
                            "#fb9f3a"
                          ],
                          [
                            0.8888888888888888,
                            "#fdca26"
                          ],
                          [
                            1,
                            "#f0f921"
                          ]
                        ],
                        "type": "heatmapgl"
                      }
                    ],
                    "histogram": [
                      {
                        "marker": {
                          "pattern": {
                            "fillmode": "overlay",
                            "size": 10,
                            "solidity": 0.2
                          }
                        },
                        "type": "histogram"
                      }
                    ],
                    "histogram2d": [
                      {
                        "colorbar": {
                          "outlinewidth": 0,
                          "ticks": ""
                        },
                        "colorscale": [
                          [
                            0,
                            "#0d0887"
                          ],
                          [
                            0.1111111111111111,
                            "#46039f"
                          ],
                          [
                            0.2222222222222222,
                            "#7201a8"
                          ],
                          [
                            0.3333333333333333,
                            "#9c179e"
                          ],
                          [
                            0.4444444444444444,
                            "#bd3786"
                          ],
                          [
                            0.5555555555555556,
                            "#d8576b"
                          ],
                          [
                            0.6666666666666666,
                            "#ed7953"
                          ],
                          [
                            0.7777777777777778,
                            "#fb9f3a"
                          ],
                          [
                            0.8888888888888888,
                            "#fdca26"
                          ],
                          [
                            1,
                            "#f0f921"
                          ]
                        ],
                        "type": "histogram2d"
                      }
                    ],
                    "histogram2dcontour": [
                      {
                        "colorbar": {
                          "outlinewidth": 0,
                          "ticks": ""
                        },
                        "colorscale": [
                          [
                            0,
                            "#0d0887"
                          ],
                          [
                            0.1111111111111111,
                            "#46039f"
                          ],
                          [
                            0.2222222222222222,
                            "#7201a8"
                          ],
                          [
                            0.3333333333333333,
                            "#9c179e"
                          ],
                          [
                            0.4444444444444444,
                            "#bd3786"
                          ],
                          [
                            0.5555555555555556,
                            "#d8576b"
                          ],
                          [
                            0.6666666666666666,
                            "#ed7953"
                          ],
                          [
                            0.7777777777777778,
                            "#fb9f3a"
                          ],
                          [
                            0.8888888888888888,
                            "#fdca26"
                          ],
                          [
                            1,
                            "#f0f921"
                          ]
                        ],
                        "type": "histogram2dcontour"
                      }
                    ],
                    "mesh3d": [
                      {
                        "colorbar": {
                          "outlinewidth": 0,
                          "ticks": ""
                        },
                        "type": "mesh3d"
                      }
                    ],
                    "parcoords": [
                      {
                        "line": {
                          "colorbar": {
                            "outlinewidth": 0,
                            "ticks": ""
                          }
                        },
                        "type": "parcoords"
                      }
                    ],
                    "pie": [
                      {
                        "automargin": true,
                        "type": "pie"
                      }
                    ],
                    "scatter": [
                      {
                        "fillpattern": {
                          "fillmode": "overlay",
                          "size": 10,
                          "solidity": 0.2
                        },
                        "type": "scatter"
                      }
                    ],
                    "scatter3d": [
                      {
                        "line": {
                          "colorbar": {
                            "outlinewidth": 0,
                            "ticks": ""
                          }
                        },
                        "marker": {
                          "colorbar": {
                            "outlinewidth": 0,
                            "ticks": ""
                          }
                        },
                        "type": "scatter3d"
                      }
                    ],
                    "scattercarpet": [
                      {
                        "marker": {
                          "colorbar": {
                            "outlinewidth": 0,
                            "ticks": ""
                          }
                        },
                        "type": "scattercarpet"
                      }
                    ],
                    "scattergeo": [
                      {
                        "marker": {
                          "colorbar": {
                            "outlinewidth": 0,
                            "ticks": ""
                          }
                        },
                        "type": "scattergeo"
                      }
                    ],
                    "scattergl": [
                      {
                        "marker": {
                          "colorbar": {
                            "outlinewidth": 0,
                            "ticks": ""
                          }
                        },
                        "type": "scattergl"
                      }
                    ],
                    "scattermapbox": [
                      {
                        "marker": {
                          "colorbar": {
                            "outlinewidth": 0,
                            "ticks": ""
                          }
                        },
                        "type": "scattermapbox"
                      }
                    ],
                    "scatterpolar": [
                      {
                        "marker": {
                          "colorbar": {
                            "outlinewidth": 0,
                            "ticks": ""
                          }
                        },
                        "type": "scatterpolar"
                      }
                    ],
                    "scatterpolargl": [
                      {
                        "marker": {
                          "colorbar": {
                            "outlinewidth": 0,
                            "ticks": ""
                          }
                        },
                        "type": "scatterpolargl"
                      }
                    ],
                    "scatterternary": [
                      {
                        "marker": {
                          "colorbar": {
                            "outlinewidth": 0,
                            "ticks": ""
                          }
                        },
                        "type": "scatterternary"
                      }
                    ],
                    "surface": [
                      {
                        "colorbar": {
                          "outlinewidth": 0,
                          "ticks": ""
                        },
                        "colorscale": [
                          [
                            0,
                            "#0d0887"
                          ],
                          [
                            0.1111111111111111,
                            "#46039f"
                          ],
                          [
                            0.2222222222222222,
                            "#7201a8"
                          ],
                          [
                            0.3333333333333333,
                            "#9c179e"
                          ],
                          [
                            0.4444444444444444,
                            "#bd3786"
                          ],
                          [
                            0.5555555555555556,
                            "#d8576b"
                          ],
                          [
                            0.6666666666666666,
                            "#ed7953"
                          ],
                          [
                            0.7777777777777778,
                            "#fb9f3a"
                          ],
                          [
                            0.8888888888888888,
                            "#fdca26"
                          ],
                          [
                            1,
                            "#f0f921"
                          ]
                        ],
                        "type": "surface"
                      }
                    ],
                    "table": [
                      {
                        "cells": {
                          "fill": {
                            "color": "#EBF0F8"
                          },
                          "line": {
                            "color": "white"
                          }
                        },
                        "header": {
                          "fill": {
                            "color": "#C8D4E3"
                          },
                          "line": {
                            "color": "white"
                          }
                        },
                        "type": "table"
                      }
                    ]
                  },
                  "layout": {
                    "annotationdefaults": {
                      "arrowcolor": "#2a3f5f",
                      "arrowhead": 0,
                      "arrowwidth": 1
                    },
                    "autotypenumbers": "strict",
                    "coloraxis": {
                      "colorbar": {
                        "outlinewidth": 0,
                        "ticks": ""
                      }
                    },
                    "colorscale": {
                      "diverging": [
                        [
                          0,
                          "#8e0152"
                        ],
                        [
                          0.1,
                          "#c51b7d"
                        ],
                        [
                          0.2,
                          "#de77ae"
                        ],
                        [
                          0.3,
                          "#f1b6da"
                        ],
                        [
                          0.4,
                          "#fde0ef"
                        ],
                        [
                          0.5,
                          "#f7f7f7"
                        ],
                        [
                          0.6,
                          "#e6f5d0"
                        ],
                        [
                          0.7,
                          "#b8e186"
                        ],
                        [
                          0.8,
                          "#7fbc41"
                        ],
                        [
                          0.9,
                          "#4d9221"
                        ],
                        [
                          1,
                          "#276419"
                        ]
                      ],
                      "sequential": [
                        [
                          0,
                          "#0d0887"
                        ],
                        [
                          0.1111111111111111,
                          "#46039f"
                        ],
                        [
                          0.2222222222222222,
                          "#7201a8"
                        ],
                        [
                          0.3333333333333333,
                          "#9c179e"
                        ],
                        [
                          0.4444444444444444,
                          "#bd3786"
                        ],
                        [
                          0.5555555555555556,
                          "#d8576b"
                        ],
                        [
                          0.6666666666666666,
                          "#ed7953"
                        ],
                        [
                          0.7777777777777778,
                          "#fb9f3a"
                        ],
                        [
                          0.8888888888888888,
                          "#fdca26"
                        ],
                        [
                          1,
                          "#f0f921"
                        ]
                      ],
                      "sequentialminus": [
                        [
                          0,
                          "#0d0887"
                        ],
                        [
                          0.1111111111111111,
                          "#46039f"
                        ],
                        [
                          0.2222222222222222,
                          "#7201a8"
                        ],
                        [
                          0.3333333333333333,
                          "#9c179e"
                        ],
                        [
                          0.4444444444444444,
                          "#bd3786"
                        ],
                        [
                          0.5555555555555556,
                          "#d8576b"
                        ],
                        [
                          0.6666666666666666,
                          "#ed7953"
                        ],
                        [
                          0.7777777777777778,
                          "#fb9f3a"
                        ],
                        [
                          0.8888888888888888,
                          "#fdca26"
                        ],
                        [
                          1,
                          "#f0f921"
                        ]
                      ]
                    },
                    "colorway": [
                      "#636efa",
                      "#EF553B",
                      "#00cc96",
                      "#ab63fa",
                      "#FFA15A",
                      "#19d3f3",
                      "#FF6692",
                      "#B6E880",
                      "#FF97FF",
                      "#FECB52"
                    ],
                    "font": {
                      "color": "#2a3f5f"
                    },
                    "geo": {
                      "bgcolor": "white",
                      "lakecolor": "white",
                      "landcolor": "#E5ECF6",
                      "showlakes": true,
                      "showland": true,
                      "subunitcolor": "white"
                    },
                    "hoverlabel": {
                      "align": "left"
                    },
                    "hovermode": "closest",
                    "mapbox": {
                      "style": "light"
                    },
                    "paper_bgcolor": "white",
                    "plot_bgcolor": "#E5ECF6",
                    "polar": {
                      "angularaxis": {
                        "gridcolor": "white",
                        "linecolor": "white",
                        "ticks": ""
                      },
                      "bgcolor": "#E5ECF6",
                      "radialaxis": {
                        "gridcolor": "white",
                        "linecolor": "white",
                        "ticks": ""
                      }
                    },
                    "scene": {
                      "xaxis": {
                        "backgroundcolor": "#E5ECF6",
                        "gridcolor": "white",
                        "gridwidth": 2,
                        "linecolor": "white",
                        "showbackground": true,
                        "ticks": "",
                        "zerolinecolor": "white"
                      },
                      "yaxis": {
                        "backgroundcolor": "#E5ECF6",
                        "gridcolor": "white",
                        "gridwidth": 2,
                        "linecolor": "white",
                        "showbackground": true,
                        "ticks": "",
                        "zerolinecolor": "white"
                      },
                      "zaxis": {
                        "backgroundcolor": "#E5ECF6",
                        "gridcolor": "white",
                        "gridwidth": 2,
                        "linecolor": "white",
                        "showbackground": true,
                        "ticks": "",
                        "zerolinecolor": "white"
                      }
                    },
                    "shapedefaults": {
                      "line": {
                        "color": "#2a3f5f"
                      }
                    },
                    "ternary": {
                      "aaxis": {
                        "gridcolor": "white",
                        "linecolor": "white",
                        "ticks": ""
                      },
                      "baxis": {
                        "gridcolor": "white",
                        "linecolor": "white",
                        "ticks": ""
                      },
                      "bgcolor": "#E5ECF6",
                      "caxis": {
                        "gridcolor": "white",
                        "linecolor": "white",
                        "ticks": ""
                      }
                    },
                    "title": {
                      "x": 0.05
                    },
                    "xaxis": {
                      "automargin": true,
                      "gridcolor": "white",
                      "linecolor": "white",
                      "ticks": "",
                      "title": {
                        "standoff": 15
                      },
                      "zerolinecolor": "white",
                      "zerolinewidth": 2
                    },
                    "yaxis": {
                      "automargin": true,
                      "gridcolor": "white",
                      "linecolor": "white",
                      "ticks": "",
                      "title": {
                        "standoff": 15
                      },
                      "zerolinecolor": "white",
                      "zerolinewidth": 2
                    }
                  }
                },
                "title": {
                  "text": "Average Methane Emissions from Cattle in Africa (2000-2021)"
                },
                "updatemenus": [
                  {
                    "active": 0,
                    "buttons": [
                      {
                        "args": [
                          {
                            "visible": [
                              true,
                              false,
                              false,
                              false,
                              false,
                              false
                            ]
                          },
                          {
                            "title": "Average Methane Emissions from Cattle in Africa (2000-2021)"
                          }
                        ],
                        "label": "Africa",
                        "method": "update"
                      },
                      {
                        "args": [
                          {
                            "visible": [
                              false,
                              true,
                              false,
                              false,
                              false,
                              false
                            ]
                          },
                          {
                            "title": "Average Methane Emissions from Cattle in Asia (2000-2021)"
                          }
                        ],
                        "label": "Asia",
                        "method": "update"
                      },
                      {
                        "args": [
                          {
                            "visible": [
                              false,
                              false,
                              true,
                              false,
                              false,
                              false
                            ]
                          },
                          {
                            "title": "Average Methane Emissions from Cattle in Europe (2000-2021)"
                          }
                        ],
                        "label": "Europe",
                        "method": "update"
                      },
                      {
                        "args": [
                          {
                            "visible": [
                              false,
                              false,
                              false,
                              true,
                              false,
                              false
                            ]
                          },
                          {
                            "title": "Average Methane Emissions from Cattle in North America (2000-2021)"
                          }
                        ],
                        "label": "North America",
                        "method": "update"
                      },
                      {
                        "args": [
                          {
                            "visible": [
                              false,
                              false,
                              false,
                              false,
                              true,
                              false
                            ]
                          },
                          {
                            "title": "Average Methane Emissions from Cattle in Oceania (2000-2021)"
                          }
                        ],
                        "label": "Oceania",
                        "method": "update"
                      },
                      {
                        "args": [
                          {
                            "visible": [
                              false,
                              false,
                              false,
                              false,
                              false,
                              true
                            ]
                          },
                          {
                            "title": "Average Methane Emissions from Cattle in South America (2000-2021)"
                          }
                        ],
                        "label": "South America",
                        "method": "update"
                      }
                    ],
                    "x": 1.15,
                    "y": 1.25
                  }
                ],
                "xaxis": {
                  "title": {
                    "text": "Year"
                  }
                },
                "yaxis": {
                  "title": {
                    "text": "Total Methane Emissions (kt)"
                  }
                }
              }
            }
          },
          "metadata": {},
          "output_type": "display_data"
        }
      ],
      "source": [
        "#@title Average Methane Emissions from Cattle by Continent (2000-2021) - Interactive Chart\n",
        "\n",
        "# Group the data by continent and year, and calculate the mean of the 'Value' column\n",
        "emissions_by_continent_year = df.groupby(['Continent', 'Year'])['Value'].mean().reset_index()\n",
        "\n",
        "# Create an empty figure\n",
        "fig = go.Figure()\n",
        "\n",
        "# Add a trace for each continent\n",
        "continents = emissions_by_continent_year['Continent'].unique()\n",
        "for continent in continents:\n",
        "    continent_data = emissions_by_continent_year[emissions_by_continent_year['Continent'] == continent]\n",
        "    fig.add_trace(go.Scatter(x=continent_data['Year'], y=continent_data['Value'], mode='lines+markers', name=continent, visible=False))\n",
        "\n",
        "# Make only the first continent visible\n",
        "fig.data[0].visible = True\n",
        "\n",
        "# Create dropdown menu options\n",
        "dropdown_buttons = []\n",
        "for i, continent in enumerate(continents):\n",
        "    dropdown_buttons.append(dict(method='update',\n",
        "                                 label=continent,\n",
        "                                 args=[{'visible': [j == i for j in range(len(continents))]},\n",
        "                                       {'title': f'Average Methane Emissions from Cattle in {continent} (2000-2021)'}]))\n",
        "\n",
        "# Add dropdown to the layout\n",
        "fig.update_layout(\n",
        "    updatemenus=[dict(active=0, buttons=dropdown_buttons, x=1.15, y=1.25)],\n",
        "    title=f'Average Methane Emissions from Cattle in {continents[0]} (2000-2021)',\n",
        "    xaxis_title='Year',\n",
        "    yaxis_title='Total Methane Emissions (kt)',\n",
        ")\n",
        "\n",
        "# Show the figure\n",
        "fig.show()"
      ]
    },
    {
      "cell_type": "code",
      "execution_count": 19,
      "metadata": {},
      "outputs": [
        {
          "name": "stdout",
          "output_type": "stream",
          "text": [
            "Plot saved to visualization\\Average_Methane_Emissions_from_Cattle_in_Africa__2000_2021_.jpg\n"
          ]
        },
        {
          "name": "stderr",
          "output_type": "stream",
          "text": [
            "C:\\Users\\user\\AppData\\Local\\Temp\\ipykernel_24952\\99852927.py:17: UserWarning:\n",
            "\n",
            "Matplotlib is currently using agg, which is a non-GUI backend, so cannot show the figure.\n",
            "\n"
          ]
        },
        {
          "name": "stdout",
          "output_type": "stream",
          "text": [
            "Plot saved to visualization\\Average_Methane_Emissions_from_Cattle_in_Asia__2000_2021_.jpg\n"
          ]
        },
        {
          "name": "stderr",
          "output_type": "stream",
          "text": [
            "C:\\Users\\user\\AppData\\Local\\Temp\\ipykernel_24952\\99852927.py:17: UserWarning:\n",
            "\n",
            "Matplotlib is currently using agg, which is a non-GUI backend, so cannot show the figure.\n",
            "\n"
          ]
        },
        {
          "name": "stdout",
          "output_type": "stream",
          "text": [
            "Plot saved to visualization\\Average_Methane_Emissions_from_Cattle_in_Europe__2000_2021_.jpg\n"
          ]
        },
        {
          "name": "stderr",
          "output_type": "stream",
          "text": [
            "C:\\Users\\user\\AppData\\Local\\Temp\\ipykernel_24952\\99852927.py:17: UserWarning:\n",
            "\n",
            "Matplotlib is currently using agg, which is a non-GUI backend, so cannot show the figure.\n",
            "\n"
          ]
        },
        {
          "name": "stdout",
          "output_type": "stream",
          "text": [
            "Plot saved to visualization\\Average_Methane_Emissions_from_Cattle_in_North_America__2000_2021_.jpg\n"
          ]
        },
        {
          "name": "stderr",
          "output_type": "stream",
          "text": [
            "C:\\Users\\user\\AppData\\Local\\Temp\\ipykernel_24952\\99852927.py:17: UserWarning:\n",
            "\n",
            "Matplotlib is currently using agg, which is a non-GUI backend, so cannot show the figure.\n",
            "\n"
          ]
        },
        {
          "name": "stdout",
          "output_type": "stream",
          "text": [
            "Plot saved to visualization\\Average_Methane_Emissions_from_Cattle_in_Oceania__2000_2021_.jpg\n"
          ]
        },
        {
          "name": "stderr",
          "output_type": "stream",
          "text": [
            "C:\\Users\\user\\AppData\\Local\\Temp\\ipykernel_24952\\99852927.py:17: UserWarning:\n",
            "\n",
            "Matplotlib is currently using agg, which is a non-GUI backend, so cannot show the figure.\n",
            "\n"
          ]
        },
        {
          "name": "stdout",
          "output_type": "stream",
          "text": [
            "Plot saved to visualization\\Average_Methane_Emissions_from_Cattle_in_South_America__2000_2021_.jpg\n"
          ]
        },
        {
          "name": "stderr",
          "output_type": "stream",
          "text": [
            "C:\\Users\\user\\AppData\\Local\\Temp\\ipykernel_24952\\99852927.py:17: UserWarning:\n",
            "\n",
            "Matplotlib is currently using agg, which is a non-GUI backend, so cannot show the figure.\n",
            "\n"
          ]
        }
      ],
      "source": [
        "# @title Average Methane Emissions from Cattle by Continent (2000-2021) \n",
        "emissions_by_continent_year = df.groupby(['Continent', 'Year'])['Value'].mean().unstack('Continent')\n",
        "\n",
        "# Create a line chart for each continent\n",
        "for continent in emissions_by_continent_year.columns:\n",
        "    plt.figure(figsize=(10, 5))\n",
        "    plt.plot(emissions_by_continent_year.index, emissions_by_continent_year[continent], marker='o', linestyle='-')\n",
        "    plt.xlabel('Year')\n",
        "    plt.ylabel('Total Methane Emissions (kt)')\n",
        "    title = f'Average Methane Emissions from Cattle in {continent} (2000-2021)'\n",
        "    plt.title(title)\n",
        "\n",
        "    # Save the plot to the visualization folder\n",
        "    save_plot(title)\n",
        "\n",
        "    plt.tight_layout()\n",
        "    plt.show()"
      ]
    },
    {
      "cell_type": "code",
      "execution_count": 20,
      "metadata": {
        "colab": {
          "base_uri": "https://localhost:8080/",
          "height": 641
        },
        "id": "Z0YsK0a_RH8s",
        "outputId": "e9ac4ee5-7fab-476a-ffd6-8e9d9bd510b5"
      },
      "outputs": [
        {
          "name": "stderr",
          "output_type": "stream",
          "text": [
            "C:\\Users\\user\\AppData\\Local\\Temp\\ipykernel_24952\\2175067269.py:25: UserWarning:\n",
            "\n",
            "Matplotlib is currently using agg, which is a non-GUI backend, so cannot show the figure.\n",
            "\n"
          ]
        },
        {
          "name": "stdout",
          "output_type": "stream",
          "text": [
            "Plot saved to visualization\\Methane_Emissions_from_Cattle_in_the_Top_5_Countries_Worldwide__2000_2021_.jpg\n"
          ]
        }
      ],
      "source": [
        "# @title Methane Emissions from Cattle in the Top 5 Countries Worldwide (2000-2021)\n",
        "\n",
        "# Calculate total emissions by country\n",
        "total_emissions_by_country = df.groupby('Area')['Value'].sum()\n",
        "\n",
        "# Get the top 5 countries with the highest total emissions\n",
        "top_5_countries = total_emissions_by_country.nlargest(5).index\n",
        "\n",
        "# Filter the DataFrame for these top 5 countries\n",
        "df_top_5 = df[df['Area'].isin(top_5_countries)]\n",
        "\n",
        "# Group by Country and Year\n",
        "emissions_by_country_year = df_top_5.groupby(['Area', 'Year'])['Value'].sum().unstack('Area')\n",
        "\n",
        "# Plot line charts for the top 5 countries\n",
        "plt.figure(figsize=(14, 7))\n",
        "for country in emissions_by_country_year.columns:\n",
        "    plt.plot(emissions_by_country_year.index, emissions_by_country_year[country], marker='o', linestyle='-', label=country)\n",
        "\n",
        "plt.xlabel('Year')\n",
        "plt.ylabel('Total Methane Emissions (kt)')\n",
        "title = 'Methane Emissions from Cattle in the Top 5 Countries Worldwide (2000-2021)'\n",
        "plt.title(title)\n",
        "plt.legend(title='Country')\n",
        "plt.show()\n",
        "\n",
        "# Save the plot to the visualization folder\n",
        "save_plot(title)"
      ]
    },
    {
      "cell_type": "code",
      "execution_count": 21,
      "metadata": {
        "colab": {
          "base_uri": "https://localhost:8080/",
          "height": 641
        },
        "id": "YOKHxGBfRuOw",
        "outputId": "a90e6450-e2be-4afc-9ee9-1ec02ae72cc1"
      },
      "outputs": [
        {
          "name": "stderr",
          "output_type": "stream",
          "text": [
            "C:\\Users\\user\\AppData\\Local\\Temp\\ipykernel_24952\\3897667771.py:22: UserWarning:\n",
            "\n",
            "Matplotlib is currently using agg, which is a non-GUI backend, so cannot show the figure.\n",
            "\n"
          ]
        },
        {
          "name": "stdout",
          "output_type": "stream",
          "text": [
            "Plot saved to visualization\\Methane_Emissions_from_Cattle_in_the_Bottom_5_Countries_Worldwide__2000_2021_.jpg\n"
          ]
        }
      ],
      "source": [
        "# @title Methane Emissions from Cattle in the Bottom 5 Countries Worldwide (2000-2021)\n",
        "\n",
        "# Get the bottom 5 countries with the lowest total emissions\n",
        "bottom_5_countries = total_emissions_by_country.nsmallest(5).index\n",
        "\n",
        "# Filter the DataFrame for these bottom 5 countries\n",
        "df_bottom_5 = df[df['Area'].isin(bottom_5_countries)]\n",
        "\n",
        "# Group by Country and Year\n",
        "emissions_by_country_year = df_bottom_5.groupby(['Area', 'Year'])['Value'].sum().unstack('Area')\n",
        "\n",
        "# Plot line charts for the bottom 5 countries\n",
        "plt.figure(figsize=(14, 7))\n",
        "for country in emissions_by_country_year.columns:\n",
        "    plt.plot(emissions_by_country_year.index, emissions_by_country_year[country], marker='o', linestyle='-', label=country)\n",
        "\n",
        "plt.xlabel('Year')\n",
        "plt.ylabel('Total Methane Emissions (kt)')\n",
        "title = 'Methane Emissions from Cattle in the Bottom 5 Countries Worldwide (2000-2021)'\n",
        "plt.title(title)\n",
        "plt.legend(title='Country')\n",
        "plt.show()\n",
        "\n",
        "# Save the plot to the visualization folder\n",
        "save_plot(title)"
      ]
    },
    {
      "cell_type": "code",
      "execution_count": 22,
      "metadata": {},
      "outputs": [
        {
          "data": {
            "application/vnd.plotly.v1+json": {
              "config": {
                "plotlyServerURL": "https://plot.ly"
              },
              "data": [
                {
                  "mode": "lines+markers",
                  "name": "Brazil",
                  "type": "scatter",
                  "x": [
                    2000,
                    2001,
                    2002,
                    2003,
                    2004,
                    2005,
                    2006,
                    2007,
                    2008,
                    2009,
                    2010,
                    2011,
                    2012,
                    2013,
                    2014,
                    2015,
                    2016,
                    2017,
                    2018,
                    2019,
                    2020,
                    2021
                  ],
                  "y": [
                    9969.0652,
                    10345.2606,
                    10868.967,
                    11454.5301,
                    11977.5896,
                    12137.9465,
                    12070.6009,
                    11723.8219,
                    11876.8481,
                    12061.518,
                    12310.6418,
                    12502.1398,
                    12407.764,
                    12437.8372,
                    12473.3167,
                    12605.3436,
                    12749.8193,
                    12524.8325,
                    12448.7878,
                    12516.3964,
                    12693.249,
                    13057.4337
                  ]
                },
                {
                  "mode": "lines+markers",
                  "name": "India",
                  "type": "scatter",
                  "x": [
                    2000,
                    2001,
                    2002,
                    2003,
                    2004,
                    2005,
                    2006,
                    2007,
                    2008,
                    2009,
                    2010,
                    2011,
                    2012,
                    2013,
                    2014,
                    2015,
                    2016,
                    2017,
                    2018,
                    2019,
                    2020,
                    2021
                  ],
                  "y": [
                    6683.818,
                    6659.812,
                    6612.998,
                    6587.5508,
                    6693.448,
                    6812.5328,
                    6910.7672,
                    7123.9612,
                    7103.6528,
                    7088.3092,
                    7085.0348,
                    7070.4732,
                    7049.6723,
                    7003.9027,
                    6985.2714,
                    7057.9031,
                    7155.8329,
                    7254.849,
                    7362.3755,
                    7459.8362,
                    7611.0007,
                    7560.2065
                  ]
                },
                {
                  "mode": "lines+markers",
                  "name": "United States of America",
                  "type": "scatter",
                  "x": [
                    2000,
                    2001,
                    2002,
                    2003,
                    2004,
                    2005,
                    2006,
                    2007,
                    2008,
                    2009,
                    2010,
                    2011,
                    2012,
                    2013,
                    2014,
                    2015,
                    2016,
                    2017,
                    2018,
                    2019,
                    2020,
                    2021
                  ],
                  "y": [
                    6425.024,
                    6364.631,
                    6338,
                    6297.282,
                    6223.172,
                    6235.072,
                    6336.5952,
                    6336,
                    6322.171,
                    6237.578,
                    6193.3908,
                    6138.1976,
                    6049.5648,
                    5990.4688,
                    5909.758,
                    5949.1638,
                    6098.0648,
                    6198.6854,
                    6242.8082,
                    6260.5687,
                    6204.6354,
                    6216.6058
                  ]
                },
                {
                  "mode": "lines+markers",
                  "name": "China, mainland",
                  "type": "scatter",
                  "x": [
                    2000,
                    2001,
                    2002,
                    2003,
                    2004,
                    2005,
                    2006,
                    2007,
                    2008,
                    2009,
                    2010,
                    2011,
                    2012,
                    2013,
                    2014,
                    2015,
                    2016,
                    2017,
                    2018,
                    2019,
                    2020,
                    2021
                  ],
                  "y": [
                    5150.208,
                    4978.875,
                    4743.782,
                    4661.109,
                    4678.004,
                    4640.984,
                    4551.944,
                    4297.942,
                    4326.355,
                    3725.559,
                    3657.8629,
                    3508.042,
                    3422.466,
                    3370.1154,
                    3381.7154,
                    3368.6171,
                    3409.7694,
                    3315.0836,
                    3388.9833,
                    3397.9604,
                    3280.1361,
                    3250.1731
                  ]
                },
                {
                  "mode": "lines+markers",
                  "name": "Argentina",
                  "type": "scatter",
                  "x": [
                    2000,
                    2001,
                    2002,
                    2003,
                    2004,
                    2005,
                    2006,
                    2007,
                    2008,
                    2009,
                    2010,
                    2011,
                    2012,
                    2013,
                    2014,
                    2015,
                    2016,
                    2017,
                    2018,
                    2019,
                    2020,
                    2021
                  ],
                  "y": [
                    2813.6408,
                    2823.7298,
                    2998.4,
                    3216.9185,
                    3272.1091,
                    3284.5111,
                    3359.5357,
                    3382.3602,
                    3316.6378,
                    3138.0407,
                    2823.7354,
                    2768.8416,
                    2877.4422,
                    2941.8826,
                    2975.053,
                    2965.1013,
                    3028.6686,
                    3150.7324,
                    3148.746,
                    3161.2877,
                    3129.0223,
                    3069.1703
                  ]
                },
                {
                  "mode": "lines+markers",
                  "name": "Cook Islands",
                  "type": "scatter",
                  "visible": "legendonly",
                  "x": [
                    2000,
                    2001,
                    2002,
                    2003,
                    2004,
                    2005,
                    2006,
                    2007,
                    2008,
                    2009,
                    2010,
                    2011,
                    2012,
                    2013,
                    2014,
                    2015,
                    2016,
                    2017,
                    2018,
                    2019,
                    2020,
                    2021
                  ],
                  "y": [
                    0.0132,
                    0.0117,
                    0.0103,
                    0.0099,
                    0.0088,
                    0.0088,
                    0.0088,
                    0.0092,
                    0.0092,
                    0.0092,
                    0.0095,
                    0.0095,
                    0.0095,
                    0.0095,
                    0.0095,
                    0.0089,
                    0.0091,
                    0.0091,
                    0.0088,
                    0.0084,
                    0.0082,
                    0.0079
                  ]
                },
                {
                  "mode": "lines+markers",
                  "name": "Singapore",
                  "type": "scatter",
                  "visible": "legendonly",
                  "x": [
                    2000,
                    2001,
                    2002,
                    2003,
                    2004,
                    2005,
                    2006,
                    2007,
                    2008,
                    2009,
                    2010,
                    2011,
                    2012,
                    2013,
                    2014,
                    2015,
                    2016,
                    2017,
                    2018,
                    2019,
                    2020,
                    2021
                  ],
                  "y": [
                    0.0102,
                    0.0102,
                    0.0102,
                    0.0102,
                    0.0102,
                    0.0102,
                    0.0101,
                    0.0102,
                    0.0102,
                    0.0103,
                    0.0103,
                    0.0102,
                    0.0103,
                    0.0103,
                    0.0103,
                    0.0092,
                    0.0098,
                    0.0098,
                    0.0097,
                    0.0094,
                    0.0093,
                    0.0092
                  ]
                },
                {
                  "mode": "lines+markers",
                  "name": "Niue",
                  "type": "scatter",
                  "visible": "legendonly",
                  "x": [
                    2000,
                    2001,
                    2002,
                    2003,
                    2004,
                    2005,
                    2006,
                    2007,
                    2008,
                    2009,
                    2010,
                    2011,
                    2012,
                    2013,
                    2014,
                    2015,
                    2016,
                    2017,
                    2018,
                    2019,
                    2020,
                    2021
                  ],
                  "y": [
                    0.0112,
                    0.0112,
                    0.0112,
                    0.0112,
                    0.0112,
                    0.0113,
                    0.0112,
                    0.0115,
                    0.0113,
                    0.0113,
                    0.0113,
                    0.0113,
                    0.0113,
                    0.0113,
                    0.0113,
                    0.0113,
                    0.0113,
                    0.0113,
                    0.0113,
                    0.0113,
                    0.0114,
                    0.0114
                  ]
                },
                {
                  "mode": "lines+markers",
                  "name": "Seychelles",
                  "type": "scatter",
                  "visible": "legendonly",
                  "x": [
                    2000,
                    2001,
                    2002,
                    2003,
                    2004,
                    2005,
                    2006,
                    2007,
                    2008,
                    2009,
                    2010,
                    2011,
                    2012,
                    2013,
                    2014,
                    2015,
                    2016,
                    2017,
                    2018,
                    2019,
                    2020,
                    2021
                  ],
                  "y": [
                    0.0563,
                    0.047,
                    0.0541,
                    0.0475,
                    0.0403,
                    0.032,
                    0.0224,
                    0.0277,
                    0.021,
                    0.0151,
                    0.0146,
                    0.0065,
                    0.0087,
                    0.0126,
                    0.0123,
                    0.011,
                    0.0107,
                    0.0112,
                    0.0113,
                    0.0113,
                    0.0115,
                    0.0114
                  ]
                },
                {
                  "mode": "lines+markers",
                  "name": "Brunei Darussalam",
                  "type": "scatter",
                  "visible": "legendonly",
                  "x": [
                    2000,
                    2001,
                    2002,
                    2003,
                    2004,
                    2005,
                    2006,
                    2007,
                    2008,
                    2009,
                    2010,
                    2011,
                    2012,
                    2013,
                    2014,
                    2015,
                    2016,
                    2017,
                    2018,
                    2019,
                    2020,
                    2021
                  ],
                  "y": [
                    0.0945,
                    0.0913,
                    0.081,
                    0.0809,
                    0.0668,
                    0.0594,
                    0.0531,
                    0.0492,
                    0.0525,
                    0.0475,
                    0.0475,
                    0.0485,
                    0.0441,
                    0.0435,
                    0.0411,
                    0.0432,
                    0.0445,
                    0.037,
                    0.0386,
                    0.0352,
                    0.0334,
                    0.0211
                  ]
                }
              ],
              "layout": {
                "legend": {
                  "title": {
                    "text": "Country"
                  }
                },
                "template": {
                  "data": {
                    "bar": [
                      {
                        "error_x": {
                          "color": "#2a3f5f"
                        },
                        "error_y": {
                          "color": "#2a3f5f"
                        },
                        "marker": {
                          "line": {
                            "color": "white",
                            "width": 0.5
                          },
                          "pattern": {
                            "fillmode": "overlay",
                            "size": 10,
                            "solidity": 0.2
                          }
                        },
                        "type": "bar"
                      }
                    ],
                    "barpolar": [
                      {
                        "marker": {
                          "line": {
                            "color": "white",
                            "width": 0.5
                          },
                          "pattern": {
                            "fillmode": "overlay",
                            "size": 10,
                            "solidity": 0.2
                          }
                        },
                        "type": "barpolar"
                      }
                    ],
                    "carpet": [
                      {
                        "aaxis": {
                          "endlinecolor": "#2a3f5f",
                          "gridcolor": "#C8D4E3",
                          "linecolor": "#C8D4E3",
                          "minorgridcolor": "#C8D4E3",
                          "startlinecolor": "#2a3f5f"
                        },
                        "baxis": {
                          "endlinecolor": "#2a3f5f",
                          "gridcolor": "#C8D4E3",
                          "linecolor": "#C8D4E3",
                          "minorgridcolor": "#C8D4E3",
                          "startlinecolor": "#2a3f5f"
                        },
                        "type": "carpet"
                      }
                    ],
                    "choropleth": [
                      {
                        "colorbar": {
                          "outlinewidth": 0,
                          "ticks": ""
                        },
                        "type": "choropleth"
                      }
                    ],
                    "contour": [
                      {
                        "colorbar": {
                          "outlinewidth": 0,
                          "ticks": ""
                        },
                        "colorscale": [
                          [
                            0,
                            "#0d0887"
                          ],
                          [
                            0.1111111111111111,
                            "#46039f"
                          ],
                          [
                            0.2222222222222222,
                            "#7201a8"
                          ],
                          [
                            0.3333333333333333,
                            "#9c179e"
                          ],
                          [
                            0.4444444444444444,
                            "#bd3786"
                          ],
                          [
                            0.5555555555555556,
                            "#d8576b"
                          ],
                          [
                            0.6666666666666666,
                            "#ed7953"
                          ],
                          [
                            0.7777777777777778,
                            "#fb9f3a"
                          ],
                          [
                            0.8888888888888888,
                            "#fdca26"
                          ],
                          [
                            1,
                            "#f0f921"
                          ]
                        ],
                        "type": "contour"
                      }
                    ],
                    "contourcarpet": [
                      {
                        "colorbar": {
                          "outlinewidth": 0,
                          "ticks": ""
                        },
                        "type": "contourcarpet"
                      }
                    ],
                    "heatmap": [
                      {
                        "colorbar": {
                          "outlinewidth": 0,
                          "ticks": ""
                        },
                        "colorscale": [
                          [
                            0,
                            "#0d0887"
                          ],
                          [
                            0.1111111111111111,
                            "#46039f"
                          ],
                          [
                            0.2222222222222222,
                            "#7201a8"
                          ],
                          [
                            0.3333333333333333,
                            "#9c179e"
                          ],
                          [
                            0.4444444444444444,
                            "#bd3786"
                          ],
                          [
                            0.5555555555555556,
                            "#d8576b"
                          ],
                          [
                            0.6666666666666666,
                            "#ed7953"
                          ],
                          [
                            0.7777777777777778,
                            "#fb9f3a"
                          ],
                          [
                            0.8888888888888888,
                            "#fdca26"
                          ],
                          [
                            1,
                            "#f0f921"
                          ]
                        ],
                        "type": "heatmap"
                      }
                    ],
                    "heatmapgl": [
                      {
                        "colorbar": {
                          "outlinewidth": 0,
                          "ticks": ""
                        },
                        "colorscale": [
                          [
                            0,
                            "#0d0887"
                          ],
                          [
                            0.1111111111111111,
                            "#46039f"
                          ],
                          [
                            0.2222222222222222,
                            "#7201a8"
                          ],
                          [
                            0.3333333333333333,
                            "#9c179e"
                          ],
                          [
                            0.4444444444444444,
                            "#bd3786"
                          ],
                          [
                            0.5555555555555556,
                            "#d8576b"
                          ],
                          [
                            0.6666666666666666,
                            "#ed7953"
                          ],
                          [
                            0.7777777777777778,
                            "#fb9f3a"
                          ],
                          [
                            0.8888888888888888,
                            "#fdca26"
                          ],
                          [
                            1,
                            "#f0f921"
                          ]
                        ],
                        "type": "heatmapgl"
                      }
                    ],
                    "histogram": [
                      {
                        "marker": {
                          "pattern": {
                            "fillmode": "overlay",
                            "size": 10,
                            "solidity": 0.2
                          }
                        },
                        "type": "histogram"
                      }
                    ],
                    "histogram2d": [
                      {
                        "colorbar": {
                          "outlinewidth": 0,
                          "ticks": ""
                        },
                        "colorscale": [
                          [
                            0,
                            "#0d0887"
                          ],
                          [
                            0.1111111111111111,
                            "#46039f"
                          ],
                          [
                            0.2222222222222222,
                            "#7201a8"
                          ],
                          [
                            0.3333333333333333,
                            "#9c179e"
                          ],
                          [
                            0.4444444444444444,
                            "#bd3786"
                          ],
                          [
                            0.5555555555555556,
                            "#d8576b"
                          ],
                          [
                            0.6666666666666666,
                            "#ed7953"
                          ],
                          [
                            0.7777777777777778,
                            "#fb9f3a"
                          ],
                          [
                            0.8888888888888888,
                            "#fdca26"
                          ],
                          [
                            1,
                            "#f0f921"
                          ]
                        ],
                        "type": "histogram2d"
                      }
                    ],
                    "histogram2dcontour": [
                      {
                        "colorbar": {
                          "outlinewidth": 0,
                          "ticks": ""
                        },
                        "colorscale": [
                          [
                            0,
                            "#0d0887"
                          ],
                          [
                            0.1111111111111111,
                            "#46039f"
                          ],
                          [
                            0.2222222222222222,
                            "#7201a8"
                          ],
                          [
                            0.3333333333333333,
                            "#9c179e"
                          ],
                          [
                            0.4444444444444444,
                            "#bd3786"
                          ],
                          [
                            0.5555555555555556,
                            "#d8576b"
                          ],
                          [
                            0.6666666666666666,
                            "#ed7953"
                          ],
                          [
                            0.7777777777777778,
                            "#fb9f3a"
                          ],
                          [
                            0.8888888888888888,
                            "#fdca26"
                          ],
                          [
                            1,
                            "#f0f921"
                          ]
                        ],
                        "type": "histogram2dcontour"
                      }
                    ],
                    "mesh3d": [
                      {
                        "colorbar": {
                          "outlinewidth": 0,
                          "ticks": ""
                        },
                        "type": "mesh3d"
                      }
                    ],
                    "parcoords": [
                      {
                        "line": {
                          "colorbar": {
                            "outlinewidth": 0,
                            "ticks": ""
                          }
                        },
                        "type": "parcoords"
                      }
                    ],
                    "pie": [
                      {
                        "automargin": true,
                        "type": "pie"
                      }
                    ],
                    "scatter": [
                      {
                        "fillpattern": {
                          "fillmode": "overlay",
                          "size": 10,
                          "solidity": 0.2
                        },
                        "type": "scatter"
                      }
                    ],
                    "scatter3d": [
                      {
                        "line": {
                          "colorbar": {
                            "outlinewidth": 0,
                            "ticks": ""
                          }
                        },
                        "marker": {
                          "colorbar": {
                            "outlinewidth": 0,
                            "ticks": ""
                          }
                        },
                        "type": "scatter3d"
                      }
                    ],
                    "scattercarpet": [
                      {
                        "marker": {
                          "colorbar": {
                            "outlinewidth": 0,
                            "ticks": ""
                          }
                        },
                        "type": "scattercarpet"
                      }
                    ],
                    "scattergeo": [
                      {
                        "marker": {
                          "colorbar": {
                            "outlinewidth": 0,
                            "ticks": ""
                          }
                        },
                        "type": "scattergeo"
                      }
                    ],
                    "scattergl": [
                      {
                        "marker": {
                          "colorbar": {
                            "outlinewidth": 0,
                            "ticks": ""
                          }
                        },
                        "type": "scattergl"
                      }
                    ],
                    "scattermapbox": [
                      {
                        "marker": {
                          "colorbar": {
                            "outlinewidth": 0,
                            "ticks": ""
                          }
                        },
                        "type": "scattermapbox"
                      }
                    ],
                    "scatterpolar": [
                      {
                        "marker": {
                          "colorbar": {
                            "outlinewidth": 0,
                            "ticks": ""
                          }
                        },
                        "type": "scatterpolar"
                      }
                    ],
                    "scatterpolargl": [
                      {
                        "marker": {
                          "colorbar": {
                            "outlinewidth": 0,
                            "ticks": ""
                          }
                        },
                        "type": "scatterpolargl"
                      }
                    ],
                    "scatterternary": [
                      {
                        "marker": {
                          "colorbar": {
                            "outlinewidth": 0,
                            "ticks": ""
                          }
                        },
                        "type": "scatterternary"
                      }
                    ],
                    "surface": [
                      {
                        "colorbar": {
                          "outlinewidth": 0,
                          "ticks": ""
                        },
                        "colorscale": [
                          [
                            0,
                            "#0d0887"
                          ],
                          [
                            0.1111111111111111,
                            "#46039f"
                          ],
                          [
                            0.2222222222222222,
                            "#7201a8"
                          ],
                          [
                            0.3333333333333333,
                            "#9c179e"
                          ],
                          [
                            0.4444444444444444,
                            "#bd3786"
                          ],
                          [
                            0.5555555555555556,
                            "#d8576b"
                          ],
                          [
                            0.6666666666666666,
                            "#ed7953"
                          ],
                          [
                            0.7777777777777778,
                            "#fb9f3a"
                          ],
                          [
                            0.8888888888888888,
                            "#fdca26"
                          ],
                          [
                            1,
                            "#f0f921"
                          ]
                        ],
                        "type": "surface"
                      }
                    ],
                    "table": [
                      {
                        "cells": {
                          "fill": {
                            "color": "#EBF0F8"
                          },
                          "line": {
                            "color": "white"
                          }
                        },
                        "header": {
                          "fill": {
                            "color": "#C8D4E3"
                          },
                          "line": {
                            "color": "white"
                          }
                        },
                        "type": "table"
                      }
                    ]
                  },
                  "layout": {
                    "annotationdefaults": {
                      "arrowcolor": "#2a3f5f",
                      "arrowhead": 0,
                      "arrowwidth": 1
                    },
                    "autotypenumbers": "strict",
                    "coloraxis": {
                      "colorbar": {
                        "outlinewidth": 0,
                        "ticks": ""
                      }
                    },
                    "colorscale": {
                      "diverging": [
                        [
                          0,
                          "#8e0152"
                        ],
                        [
                          0.1,
                          "#c51b7d"
                        ],
                        [
                          0.2,
                          "#de77ae"
                        ],
                        [
                          0.3,
                          "#f1b6da"
                        ],
                        [
                          0.4,
                          "#fde0ef"
                        ],
                        [
                          0.5,
                          "#f7f7f7"
                        ],
                        [
                          0.6,
                          "#e6f5d0"
                        ],
                        [
                          0.7,
                          "#b8e186"
                        ],
                        [
                          0.8,
                          "#7fbc41"
                        ],
                        [
                          0.9,
                          "#4d9221"
                        ],
                        [
                          1,
                          "#276419"
                        ]
                      ],
                      "sequential": [
                        [
                          0,
                          "#0d0887"
                        ],
                        [
                          0.1111111111111111,
                          "#46039f"
                        ],
                        [
                          0.2222222222222222,
                          "#7201a8"
                        ],
                        [
                          0.3333333333333333,
                          "#9c179e"
                        ],
                        [
                          0.4444444444444444,
                          "#bd3786"
                        ],
                        [
                          0.5555555555555556,
                          "#d8576b"
                        ],
                        [
                          0.6666666666666666,
                          "#ed7953"
                        ],
                        [
                          0.7777777777777778,
                          "#fb9f3a"
                        ],
                        [
                          0.8888888888888888,
                          "#fdca26"
                        ],
                        [
                          1,
                          "#f0f921"
                        ]
                      ],
                      "sequentialminus": [
                        [
                          0,
                          "#0d0887"
                        ],
                        [
                          0.1111111111111111,
                          "#46039f"
                        ],
                        [
                          0.2222222222222222,
                          "#7201a8"
                        ],
                        [
                          0.3333333333333333,
                          "#9c179e"
                        ],
                        [
                          0.4444444444444444,
                          "#bd3786"
                        ],
                        [
                          0.5555555555555556,
                          "#d8576b"
                        ],
                        [
                          0.6666666666666666,
                          "#ed7953"
                        ],
                        [
                          0.7777777777777778,
                          "#fb9f3a"
                        ],
                        [
                          0.8888888888888888,
                          "#fdca26"
                        ],
                        [
                          1,
                          "#f0f921"
                        ]
                      ]
                    },
                    "colorway": [
                      "#636efa",
                      "#EF553B",
                      "#00cc96",
                      "#ab63fa",
                      "#FFA15A",
                      "#19d3f3",
                      "#FF6692",
                      "#B6E880",
                      "#FF97FF",
                      "#FECB52"
                    ],
                    "font": {
                      "color": "#2a3f5f"
                    },
                    "geo": {
                      "bgcolor": "white",
                      "lakecolor": "white",
                      "landcolor": "white",
                      "showlakes": true,
                      "showland": true,
                      "subunitcolor": "#C8D4E3"
                    },
                    "hoverlabel": {
                      "align": "left"
                    },
                    "hovermode": "closest",
                    "mapbox": {
                      "style": "light"
                    },
                    "paper_bgcolor": "white",
                    "plot_bgcolor": "white",
                    "polar": {
                      "angularaxis": {
                        "gridcolor": "#EBF0F8",
                        "linecolor": "#EBF0F8",
                        "ticks": ""
                      },
                      "bgcolor": "white",
                      "radialaxis": {
                        "gridcolor": "#EBF0F8",
                        "linecolor": "#EBF0F8",
                        "ticks": ""
                      }
                    },
                    "scene": {
                      "xaxis": {
                        "backgroundcolor": "white",
                        "gridcolor": "#DFE8F3",
                        "gridwidth": 2,
                        "linecolor": "#EBF0F8",
                        "showbackground": true,
                        "ticks": "",
                        "zerolinecolor": "#EBF0F8"
                      },
                      "yaxis": {
                        "backgroundcolor": "white",
                        "gridcolor": "#DFE8F3",
                        "gridwidth": 2,
                        "linecolor": "#EBF0F8",
                        "showbackground": true,
                        "ticks": "",
                        "zerolinecolor": "#EBF0F8"
                      },
                      "zaxis": {
                        "backgroundcolor": "white",
                        "gridcolor": "#DFE8F3",
                        "gridwidth": 2,
                        "linecolor": "#EBF0F8",
                        "showbackground": true,
                        "ticks": "",
                        "zerolinecolor": "#EBF0F8"
                      }
                    },
                    "shapedefaults": {
                      "line": {
                        "color": "#2a3f5f"
                      }
                    },
                    "ternary": {
                      "aaxis": {
                        "gridcolor": "#DFE8F3",
                        "linecolor": "#A2B1C6",
                        "ticks": ""
                      },
                      "baxis": {
                        "gridcolor": "#DFE8F3",
                        "linecolor": "#A2B1C6",
                        "ticks": ""
                      },
                      "bgcolor": "white",
                      "caxis": {
                        "gridcolor": "#DFE8F3",
                        "linecolor": "#A2B1C6",
                        "ticks": ""
                      }
                    },
                    "title": {
                      "x": 0.05
                    },
                    "xaxis": {
                      "automargin": true,
                      "gridcolor": "#EBF0F8",
                      "linecolor": "#EBF0F8",
                      "ticks": "",
                      "title": {
                        "standoff": 15
                      },
                      "zerolinecolor": "#EBF0F8",
                      "zerolinewidth": 2
                    },
                    "yaxis": {
                      "automargin": true,
                      "gridcolor": "#EBF0F8",
                      "linecolor": "#EBF0F8",
                      "ticks": "",
                      "title": {
                        "standoff": 15
                      },
                      "zerolinecolor": "#EBF0F8",
                      "zerolinewidth": 2
                    }
                  }
                },
                "title": {
                  "text": "Methane Emissions from Cattle Worldwide (2000-2021)"
                },
                "updatemenus": [
                  {
                    "buttons": [
                      {
                        "args": [
                          {
                            "visible": [
                              true,
                              true,
                              true,
                              true,
                              true,
                              false,
                              false,
                              false,
                              false,
                              false
                            ]
                          },
                          {
                            "title": "Methane Emissions from Cattle for Top 5 Countries Worldwide (2000-2021)"
                          }
                        ],
                        "label": "Top 5 Countries",
                        "method": "update"
                      },
                      {
                        "args": [
                          {
                            "visible": [
                              false,
                              false,
                              false,
                              false,
                              false,
                              true,
                              true,
                              true,
                              true,
                              true
                            ]
                          },
                          {
                            "title": "Methane Emissions from Cattle for Bottom 5 Countries Worldwide (2000-2021)"
                          }
                        ],
                        "label": "Bottom 5 Countries",
                        "method": "update"
                      }
                    ],
                    "direction": "down",
                    "showactive": true,
                    "x": 0.98,
                    "xanchor": "left",
                    "y": 1.28,
                    "yanchor": "top"
                  }
                ],
                "xaxis": {
                  "title": {
                    "text": "Year"
                  }
                },
                "yaxis": {
                  "title": {
                    "text": "Total Methane Emissions (kt)"
                  }
                }
              }
            }
          },
          "metadata": {},
          "output_type": "display_data"
        }
      ],
      "source": [
        "# Function to create the plot with a dropdown for selecting top/bottom countries\n",
        "def plot_emissions_with_dropdown(df, n=5):\n",
        "    # Calculate total emissions by country\n",
        "    total_emissions_by_country = df.groupby('Area')['Value'].sum()\n",
        "\n",
        "    # Create traces for top and bottom countries\n",
        "    top_countries = total_emissions_by_country.nlargest(n).index\n",
        "    bottom_countries = total_emissions_by_country.nsmallest(n).index\n",
        "\n",
        "    # Filter the DataFrame for the selected countries\n",
        "    df_top = df[df['Area'].isin(top_countries)]\n",
        "    df_bottom = df[df['Area'].isin(bottom_countries)]\n",
        "\n",
        "    # Initialize the figure\n",
        "    fig = go.Figure()\n",
        "\n",
        "    # Add traces for top countries\n",
        "    for country in top_countries:\n",
        "        country_data = df_top[df_top['Area'] == country]\n",
        "        fig.add_trace(go.Scatter(x=country_data['Year'], y=country_data['Value'],\n",
        "                                 mode='lines+markers', name=country))\n",
        "\n",
        "    # Add traces for bottom countries\n",
        "    for country in bottom_countries:\n",
        "        country_data = df_bottom[df_bottom['Area'] == country]\n",
        "        fig.add_trace(go.Scatter(x=country_data['Year'], y=country_data['Value'],\n",
        "                                 mode='lines+markers', name=country, visible='legendonly'))\n",
        "\n",
        "    # Create a dropdown menu for selecting top/bottom\n",
        "    fig.update_layout(\n",
        "        updatemenus=[\n",
        "            {\n",
        "                'buttons': [\n",
        "                    {\n",
        "                        'label': 'Top 5 Countries',\n",
        "                        'method': 'update',\n",
        "                        'args': [\n",
        "                            {'visible': [True] * n + [False] * n},  # Only show top countries\n",
        "                            {'title': 'Methane Emissions from Cattle for Top 5 Countries Worldwide (2000-2021)'},\n",
        "                        ],\n",
        "                    },\n",
        "                    {\n",
        "                        'label': 'Bottom 5 Countries',\n",
        "                        'method': 'update',\n",
        "                        'args': [\n",
        "                            {'visible': [False] * n + [True] * n},  # Only show bottom countries\n",
        "                            {'title': 'Methane Emissions from Cattle for Bottom 5 Countries Worldwide (2000-2021)'},\n",
        "                        ],\n",
        "                    },\n",
        "                ],\n",
        "                'direction': 'down',\n",
        "                'showactive': True,\n",
        "                'x': 0.98,\n",
        "                'xanchor': 'left',\n",
        "                'y': 1.28,\n",
        "                'yanchor': 'top'\n",
        "            }\n",
        "        ]\n",
        "    )\n",
        "\n",
        "    # Update layout for better readability\n",
        "    fig.update_layout(xaxis_title='Year',\n",
        "                      yaxis_title='Total Methane Emissions (kt)',\n",
        "                      legend_title_text='Country',\n",
        "                      template='plotly_white',\n",
        "                      title='Methane Emissions from Cattle Worldwide (2000-2021)')\n",
        "\n",
        "    # Show the plot\n",
        "    fig.show()\n",
        "\n",
        "# plot for n=5 countries\n",
        "plot_emissions_with_dropdown(df, n=5)"
      ]
    },
    {
      "cell_type": "markdown",
      "metadata": {
        "id": "-VVLstKjlA8V"
      },
      "source": [
        "## Exploring Top 10 Countries per continent"
      ]
    },
    {
      "cell_type": "code",
      "execution_count": 23,
      "metadata": {
        "colab": {
          "base_uri": "https://localhost:8080/",
          "height": 1000
        },
        "id": "63YSEcPh9WwY",
        "outputId": "6f452797-a0bc-4a6b-f9a7-b056b762c447"
      },
      "outputs": [
        {
          "name": "stdout",
          "output_type": "stream",
          "text": [
            "Plot saved to visualization\\Livestock_Methane_Emmission_Distribution_for_Top_10_Countries_in_Asia__2000_2021_.jpg\n"
          ]
        },
        {
          "name": "stderr",
          "output_type": "stream",
          "text": [
            "C:\\Users\\user\\AppData\\Local\\Temp\\ipykernel_24952\\3517807206.py:37: UserWarning:\n",
            "\n",
            "Matplotlib is currently using agg, which is a non-GUI backend, so cannot show the figure.\n",
            "\n"
          ]
        },
        {
          "name": "stdout",
          "output_type": "stream",
          "text": [
            "Plot saved to visualization\\Livestock_Methane_Emmission_Distribution_for_Top_10_Countries_in_Europe__2000_2021_.jpg\n"
          ]
        },
        {
          "name": "stderr",
          "output_type": "stream",
          "text": [
            "C:\\Users\\user\\AppData\\Local\\Temp\\ipykernel_24952\\3517807206.py:37: UserWarning:\n",
            "\n",
            "Matplotlib is currently using agg, which is a non-GUI backend, so cannot show the figure.\n",
            "\n"
          ]
        },
        {
          "name": "stdout",
          "output_type": "stream",
          "text": [
            "Plot saved to visualization\\Livestock_Methane_Emmission_Distribution_for_Top_10_Countries_in_Africa__2000_2021_.jpg\n"
          ]
        },
        {
          "name": "stderr",
          "output_type": "stream",
          "text": [
            "C:\\Users\\user\\AppData\\Local\\Temp\\ipykernel_24952\\3517807206.py:37: UserWarning:\n",
            "\n",
            "Matplotlib is currently using agg, which is a non-GUI backend, so cannot show the figure.\n",
            "\n"
          ]
        },
        {
          "name": "stdout",
          "output_type": "stream",
          "text": [
            "Plot saved to visualization\\Livestock_Methane_Emmission_Distribution_for_Top_10_Countries_in_North_America__2000_2021_.jpg\n"
          ]
        },
        {
          "name": "stderr",
          "output_type": "stream",
          "text": [
            "C:\\Users\\user\\AppData\\Local\\Temp\\ipykernel_24952\\3517807206.py:37: UserWarning:\n",
            "\n",
            "Matplotlib is currently using agg, which is a non-GUI backend, so cannot show the figure.\n",
            "\n"
          ]
        },
        {
          "name": "stdout",
          "output_type": "stream",
          "text": [
            "Plot saved to visualization\\Livestock_Methane_Emmission_Distribution_for_Top_10_Countries_in_South_America__2000_2021_.jpg\n"
          ]
        },
        {
          "name": "stderr",
          "output_type": "stream",
          "text": [
            "C:\\Users\\user\\AppData\\Local\\Temp\\ipykernel_24952\\3517807206.py:37: UserWarning:\n",
            "\n",
            "Matplotlib is currently using agg, which is a non-GUI backend, so cannot show the figure.\n",
            "\n"
          ]
        },
        {
          "name": "stdout",
          "output_type": "stream",
          "text": [
            "Plot saved to visualization\\Livestock_Methane_Emmission_Distribution_for_Top_10_Countries_in_Oceania__2000_2021_.jpg\n"
          ]
        },
        {
          "name": "stderr",
          "output_type": "stream",
          "text": [
            "C:\\Users\\user\\AppData\\Local\\Temp\\ipykernel_24952\\3517807206.py:37: UserWarning:\n",
            "\n",
            "Matplotlib is currently using agg, which is a non-GUI backend, so cannot show the figure.\n",
            "\n"
          ]
        }
      ],
      "source": [
        "# Group by Continent, Area, and Year, and average the 'Value'\n",
        "grouped = df.groupby(['Continent', 'Area', 'Year'])['Value'].sum().reset_index()\n",
        "\n",
        "# Find the top 10 countries per continent based on total Value\n",
        "top_countries_per_continent = grouped.groupby(['Continent', 'Area'])['Value'].sum().reset_index()\n",
        "top_10_countries = top_countries_per_continent.groupby('Continent').apply(lambda x: x.nlargest(10, 'Value')).reset_index(drop=True)\n",
        "\n",
        "# Get unique continents\n",
        "continents = df['Continent'].unique()\n",
        "\n",
        "# Plot the trend for top 10 countries per continent\n",
        "for continent in continents:\n",
        "    plt.figure(figsize=(10, 6))\n",
        "\n",
        "    # Get top 10 countries for each continent\n",
        "    top_countries = top_10_countries[top_10_countries['Continent'] == continent]['Area'].values\n",
        "\n",
        "    # Filter the dataset to only include top countries\n",
        "    continent_data = grouped[(grouped['Continent'] == continent) & (grouped['Area'].isin(top_countries))]\n",
        "\n",
        "    # Plot lines for each country\n",
        "    for country in top_countries:\n",
        "        country_data = continent_data[continent_data['Area'] == country]\n",
        "        plt.plot(country_data['Year'], country_data['Value'], label=country)\n",
        "\n",
        "    title = f'Livestock Methane Emmission Distribution for Top 10 Countries in {continent} (2000-2021)'\n",
        "    plt.title(title)\n",
        "    plt.xlabel('Year')\n",
        "    plt.ylabel('Value')\n",
        "    plt.legend(loc='upper left')\n",
        "    \n",
        "    # Save the plot to the visualization folder\n",
        "    save_plot(title)\n",
        "\n",
        "    # Show the plot for the current continent\n",
        "    plt.tight_layout()\n",
        "    plt.show()"
      ]
    },
    {
      "cell_type": "code",
      "execution_count": 24,
      "metadata": {
        "colab": {
          "base_uri": "https://localhost:8080/",
          "height": 1000
        },
        "id": "rXsA1u6U9zOk",
        "outputId": "45616542-004a-4306-a3c9-e13d104be7b2"
      },
      "outputs": [
        {
          "name": "stderr",
          "output_type": "stream",
          "text": [
            "C:\\Users\\user\\AppData\\Local\\Temp\\ipykernel_24952\\3254045902.py:33: UserWarning:\n",
            "\n",
            "Matplotlib is currently using agg, which is a non-GUI backend, so cannot show the figure.\n",
            "\n",
            "C:\\Users\\user\\AppData\\Local\\Temp\\ipykernel_24952\\3254045902.py:13: RuntimeWarning:\n",
            "\n",
            "More than 20 figures have been opened. Figures created through the pyplot interface (`matplotlib.pyplot.figure`) are retained until explicitly closed and may consume too much memory. (To control this warning, see the rcParam `figure.max_open_warning`). Consider using `matplotlib.pyplot.close()`.\n",
            "\n"
          ]
        }
      ],
      "source": [
        "# Group by Continent, Area, and Year, and average the 'Value'\n",
        "grouped = df.groupby(['Continent', 'Area', 'Year'])['Value'].sum().reset_index()\n",
        "\n",
        "# Find the bottom 10 countries per continent based on total Value\n",
        "bottom_countries_per_continent = grouped.groupby(['Continent', 'Area'])['Value'].sum().reset_index()\n",
        "bottom_10_countries = bottom_countries_per_continent.groupby('Continent').apply(lambda x: x.nsmallest(10, 'Value')).reset_index(drop=True)\n",
        "\n",
        "# Get unique continents\n",
        "continents = df['Continent'].unique()\n",
        "\n",
        "# Plot the trend for bottom 10 countries per continent\n",
        "for continent in continents:\n",
        "    plt.figure(figsize=(10, 6))\n",
        "\n",
        "    # Get bottom 10 countries for each continent\n",
        "    bottom_countries = bottom_10_countries[bottom_10_countries['Continent'] == continent]['Area'].values\n",
        "\n",
        "    # Filter the dataset to only include bottom countries\n",
        "    continent_data = grouped[(grouped['Continent'] == continent) & (grouped['Area'].isin(bottom_countries))]\n",
        "\n",
        "    # Plot lines for each country\n",
        "    for country in bottom_countries:\n",
        "        country_data = continent_data[continent_data['Area'] == country]\n",
        "        plt.plot(country_data['Year'], country_data['Value'], label=country)\n",
        "\n",
        "    plt.title(f'Livestock Methane Emmission Distribution for Bottom 10 Countries in {continent} (2000-2021)')\n",
        "    plt.xlabel('Year')\n",
        "    plt.ylabel('Value')\n",
        "    plt.legend(loc='upper left')\n",
        "\n",
        "    # Show the plot for the current continent\n",
        "    plt.tight_layout()\n",
        "    plt.show()\n"
      ]
    },
    {
      "cell_type": "code",
      "execution_count": 25,
      "metadata": {
        "colab": {
          "base_uri": "https://localhost:8080/",
          "height": 542
        },
        "id": "WgcrzgKzLxoO",
        "outputId": "c9865406-51ac-49a2-ce05-6e630c7e474b"
      },
      "outputs": [
        {
          "data": {
            "application/vnd.plotly.v1+json": {
              "config": {
                "plotlyServerURL": "https://plot.ly"
              },
              "data": [
                {
                  "mode": "lines+markers",
                  "name": "Ethiopia - Africa",
                  "type": "scatter",
                  "visible": true,
                  "x": [
                    2000,
                    2001,
                    2002,
                    2003,
                    2004,
                    2005,
                    2006,
                    2007,
                    2008,
                    2009,
                    2010,
                    2011,
                    2012,
                    2013,
                    2014,
                    2015,
                    2016,
                    2017,
                    2018,
                    2019,
                    2020,
                    2021
                  ],
                  "y": [
                    1123.5106,
                    1205.766,
                    1362.0166,
                    1308.48,
                    1299.978,
                    1339.2231,
                    1446.3167,
                    1599.5568,
                    1682,
                    1772.7043,
                    1868.3819,
                    1826.7952,
                    1888.3542,
                    1925.8666,
                    1985.334,
                    2020.4558,
                    2081.071,
                    2111.0446,
                    2093.058,
                    2222.5249,
                    2362.6829,
                    2234.9462
                  ]
                },
                {
                  "mode": "lines+markers",
                  "name": "United Republic of Tanzania - Africa",
                  "type": "scatter",
                  "visible": true,
                  "x": [
                    2000,
                    2001,
                    2002,
                    2003,
                    2004,
                    2005,
                    2006,
                    2007,
                    2008,
                    2009,
                    2010,
                    2011,
                    2012,
                    2013,
                    2014,
                    2015,
                    2016,
                    2017,
                    2018,
                    2019,
                    2020,
                    2021
                  ],
                  "y": [
                    585.816,
                    600.384,
                    618.369,
                    635.528,
                    636.8078,
                    649.5109,
                    683.5,
                    684.55,
                    700.9,
                    713.2,
                    719.3607,
                    785.1,
                    833.1,
                    889.2635,
                    930.6,
                    956.0554,
                    969.7903,
                    982.3044,
                    1008.4691,
                    1044.4879,
                    1070.756,
                    1097.0182
                  ]
                },
                {
                  "mode": "lines+markers",
                  "name": "Chad - Africa",
                  "type": "scatter",
                  "visible": true,
                  "x": [
                    2000,
                    2001,
                    2002,
                    2003,
                    2004,
                    2005,
                    2006,
                    2007,
                    2008,
                    2009,
                    2010,
                    2011,
                    2012,
                    2013,
                    2014,
                    2015,
                    2016,
                    2017,
                    2018,
                    2019,
                    2020,
                    2021
                  ],
                  "y": [
                    375.495,
                    395.161,
                    415.851,
                    437.661,
                    460.576,
                    484.722,
                    510.148,
                    536.8935,
                    565.0715,
                    594.762,
                    627.1728,
                    658.737,
                    693.135,
                    729.327,
                    767.486,
                    811.2795,
                    851.0499,
                    899.0103,
                    946.5592,
                    996.5791,
                    1049.2452,
                    1083.2803
                  ]
                },
                {
                  "mode": "lines+markers",
                  "name": "Kenya - Africa",
                  "type": "scatter",
                  "visible": true,
                  "x": [
                    2000,
                    2001,
                    2002,
                    2003,
                    2004,
                    2005,
                    2006,
                    2007,
                    2008,
                    2009,
                    2010,
                    2011,
                    2012,
                    2013,
                    2014,
                    2015,
                    2016,
                    2017,
                    2018,
                    2019,
                    2020,
                    2021
                  ],
                  "y": [
                    436.5836,
                    427.2276,
                    442.0793,
                    481.6349,
                    499.2172,
                    483.1197,
                    490.3207,
                    673.6946,
                    665.4714,
                    650.6758,
                    646.6353,
                    664.727,
                    697.9536,
                    666.532,
                    670.1742,
                    686.2984,
                    754.4341,
                    669.3419,
                    705.3301,
                    737.4971,
                    933.195,
                    806.5731
                  ]
                },
                {
                  "mode": "lines+markers",
                  "name": "Nigeria - Africa",
                  "type": "scatter",
                  "visible": true,
                  "x": [
                    2000,
                    2001,
                    2002,
                    2003,
                    2004,
                    2005,
                    2006,
                    2007,
                    2008,
                    2009,
                    2010,
                    2011,
                    2012,
                    2013,
                    2014,
                    2015,
                    2016,
                    2017,
                    2018,
                    2019,
                    2020,
                    2021
                  ],
                  "y": [
                    507.5981,
                    508.1038,
                    509.7452,
                    510.2584,
                    528.305,
                    535.394,
                    541.3467,
                    546.1514,
                    547.1074,
                    555.4393,
                    558.0644,
                    643.8206,
                    649.8717,
                    655.4439,
                    667.804,
                    678.3137,
                    668.3181,
                    674.0649,
                    681.0841,
                    694.9749,
                    703.6657,
                    710.9404
                  ]
                },
                {
                  "mode": "lines+markers",
                  "name": "South Africa - Africa",
                  "type": "scatter",
                  "visible": true,
                  "x": [
                    2000,
                    2001,
                    2002,
                    2003,
                    2004,
                    2005,
                    2006,
                    2007,
                    2008,
                    2009,
                    2010,
                    2011,
                    2012,
                    2013,
                    2014,
                    2015,
                    2016,
                    2017,
                    2018,
                    2019,
                    2020,
                    2021
                  ],
                  "y": [
                    450.05,
                    446.85,
                    449.07,
                    445.066,
                    443.934,
                    453.58,
                    445.024,
                    457.0135,
                    458.3938,
                    455.3572,
                    454.3934,
                    452.5765,
                    458.3627,
                    458.4082,
                    459.5396,
                    452.4016,
                    443.9587,
                    429.5084,
                    424.2645,
                    417.8863,
                    408.5405,
                    406.4499
                  ]
                },
                {
                  "mode": "lines+markers",
                  "name": "Uganda - Africa",
                  "type": "scatter",
                  "visible": true,
                  "x": [
                    2000,
                    2001,
                    2002,
                    2003,
                    2004,
                    2005,
                    2006,
                    2007,
                    2008,
                    2009,
                    2010,
                    2011,
                    2012,
                    2013,
                    2014,
                    2015,
                    2016,
                    2017,
                    2018,
                    2019,
                    2020,
                    2021
                  ],
                  "y": [
                    212.796,
                    219.108,
                    232.496,
                    248.913,
                    252.819,
                    260.89,
                    268.1392,
                    276.3334,
                    413.0797,
                    425.5321,
                    438.313,
                    449.9324,
                    461.5388,
                    467.2988,
                    488.436,
                    504.749,
                    513.7919,
                    509.6268,
                    523.1857,
                    530.7393,
                    521.2494,
                    525.1236
                  ]
                },
                {
                  "mode": "lines+markers",
                  "name": "Niger - Africa",
                  "type": "scatter",
                  "visible": true,
                  "x": [
                    2000,
                    2001,
                    2002,
                    2003,
                    2004,
                    2005,
                    2006,
                    2007,
                    2008,
                    2009,
                    2010,
                    2011,
                    2012,
                    2013,
                    2014,
                    2015,
                    2016,
                    2017,
                    2018,
                    2019,
                    2020,
                    2021
                  ],
                  "y": [
                    191.9225,
                    203.9478,
                    215.8547,
                    228.4309,
                    242.4668,
                    255.3048,
                    266.8625,
                    282.3169,
                    299.2559,
                    317.2112,
                    308.6575,
                    327.1769,
                    346.8075,
                    369.8818,
                    391.8071,
                    413.0533,
                    437.8365,
                    464.1066,
                    491.953,
                    521.4703,
                    552.7585,
                    581.7286
                  ]
                },
                {
                  "mode": "lines+markers",
                  "name": "Madagascar - Africa",
                  "type": "scatter",
                  "visible": true,
                  "x": [
                    2000,
                    2001,
                    2002,
                    2003,
                    2004,
                    2005,
                    2006,
                    2007,
                    2008,
                    2009,
                    2010,
                    2011,
                    2012,
                    2013,
                    2014,
                    2015,
                    2016,
                    2017,
                    2018,
                    2019,
                    2020,
                    2021
                  ],
                  "y": [
                    360.148,
                    305.6,
                    275.3164,
                    279.9044,
                    283.36,
                    329.5044,
                    331.8453,
                    334.954,
                    338.36,
                    341.06,
                    343.4962,
                    346.256,
                    348.9532,
                    348.71,
                    354.1116,
                    356.9528,
                    357.6928,
                    358.4511,
                    299.6175,
                    302.8605,
                    299.4077,
                    307.64
                  ]
                },
                {
                  "mode": "lines+markers",
                  "name": "Mali - Africa",
                  "type": "scatter",
                  "visible": true,
                  "x": [
                    2000,
                    2001,
                    2002,
                    2003,
                    2004,
                    2005,
                    2006,
                    2007,
                    2008,
                    2009,
                    2010,
                    2011,
                    2012,
                    2013,
                    2014,
                    2015,
                    2016,
                    2017,
                    2018,
                    2019,
                    2020,
                    2021
                  ],
                  "y": [
                    202.3743,
                    208.5582,
                    232.881,
                    243.1001,
                    252.9031,
                    262.9086,
                    267.9205,
                    285.3757,
                    293.9371,
                    304.1075,
                    310.5895,
                    319.9101,
                    337.3618,
                    333.6725,
                    345.167,
                    355.5217,
                    376.381,
                    392.707,
                    404.4882,
                    416.0272,
                    429.1215,
                    441.9951
                  ]
                },
                {
                  "mode": "lines+markers",
                  "name": "India - Asia",
                  "type": "scatter",
                  "visible": false,
                  "x": [
                    2000,
                    2001,
                    2002,
                    2003,
                    2004,
                    2005,
                    2006,
                    2007,
                    2008,
                    2009,
                    2010,
                    2011,
                    2012,
                    2013,
                    2014,
                    2015,
                    2016,
                    2017,
                    2018,
                    2019,
                    2020,
                    2021
                  ],
                  "y": [
                    6683.818,
                    6659.812,
                    6612.998,
                    6587.5508,
                    6693.448,
                    6812.5328,
                    6910.7672,
                    7123.9612,
                    7103.6528,
                    7088.3092,
                    7085.0348,
                    7070.4732,
                    7049.6723,
                    7003.9027,
                    6985.2714,
                    7057.9031,
                    7155.8329,
                    7254.849,
                    7362.3755,
                    7459.8362,
                    7611.0007,
                    7560.2065
                  ]
                },
                {
                  "mode": "lines+markers",
                  "name": "China, mainland - Asia",
                  "type": "scatter",
                  "visible": false,
                  "x": [
                    2000,
                    2001,
                    2002,
                    2003,
                    2004,
                    2005,
                    2006,
                    2007,
                    2008,
                    2009,
                    2010,
                    2011,
                    2012,
                    2013,
                    2014,
                    2015,
                    2016,
                    2017,
                    2018,
                    2019,
                    2020,
                    2021
                  ],
                  "y": [
                    5150.208,
                    4978.875,
                    4743.782,
                    4661.109,
                    4678.004,
                    4640.984,
                    4551.944,
                    4297.942,
                    4326.355,
                    3725.559,
                    3657.8629,
                    3508.042,
                    3422.466,
                    3370.1154,
                    3381.7154,
                    3368.6171,
                    3409.7694,
                    3315.0836,
                    3388.9833,
                    3397.9604,
                    3280.1361,
                    3250.1731
                  ]
                },
                {
                  "mode": "lines+markers",
                  "name": "Pakistan - Asia",
                  "type": "scatter",
                  "visible": false,
                  "x": [
                    2000,
                    2001,
                    2002,
                    2003,
                    2004,
                    2005,
                    2006,
                    2007,
                    2008,
                    2009,
                    2010,
                    2011,
                    2012,
                    2013,
                    2014,
                    2015,
                    2016,
                    2017,
                    2018,
                    2019,
                    2020,
                    2021
                  ],
                  "y": [
                    869.826,
                    886.426,
                    903.602,
                    921.165,
                    939.159,
                    957.458,
                    1153.6855,
                    1197.183,
                    1242.33,
                    1289.137,
                    1338.073,
                    1388.205,
                    1440.524,
                    1494.837,
                    1551.197,
                    1609.667,
                    1670.45,
                    1733.034,
                    1798.666,
                    1866.481,
                    1936.856,
                    2009.883
                  ]
                },
                {
                  "mode": "lines+markers",
                  "name": "Bangladesh - Asia",
                  "type": "scatter",
                  "visible": false,
                  "x": [
                    2000,
                    2001,
                    2002,
                    2003,
                    2004,
                    2005,
                    2006,
                    2007,
                    2008,
                    2009,
                    2010,
                    2011,
                    2012,
                    2013,
                    2014,
                    2015,
                    2016,
                    2017,
                    2018,
                    2019,
                    2020,
                    2021
                  ],
                  "y": [
                    775.51,
                    778.56,
                    781.9,
                    786.4,
                    788,
                    791.05,
                    795.84,
                    798.89,
                    800.848,
                    803.46,
                    806.077,
                    808.515,
                    810.865,
                    815.507,
                    819.872,
                    824.504,
                    826.1647,
                    831.4077,
                    836.5819,
                    840.0691,
                    847.0317,
                    852.3074
                  ]
                },
                {
                  "mode": "lines+markers",
                  "name": "Myanmar - Asia",
                  "type": "scatter",
                  "visible": false,
                  "x": [
                    2000,
                    2001,
                    2002,
                    2003,
                    2004,
                    2005,
                    2006,
                    2007,
                    2008,
                    2009,
                    2010,
                    2011,
                    2012,
                    2013,
                    2014,
                    2015,
                    2016,
                    2017,
                    2018,
                    2019,
                    2020,
                    2021
                  ],
                  "y": [
                    582.4134,
                    596.2226,
                    612.6849,
                    622.0536,
                    633.2682,
                    643.0277,
                    655.8241,
                    697.9645,
                    719.2246,
                    737.2161,
                    766.2313,
                    762.972,
                    820.5283,
                    843.5249,
                    872.1344,
                    924.1439,
                    956.2175,
                    1007.8031,
                    636.3628,
                    645.2269,
                    655.4623,
                    655.3578
                  ]
                },
                {
                  "mode": "lines+markers",
                  "name": "Indonesia - Asia",
                  "type": "scatter",
                  "visible": false,
                  "x": [
                    2000,
                    2001,
                    2002,
                    2003,
                    2004,
                    2005,
                    2006,
                    2007,
                    2008,
                    2009,
                    2010,
                    2011,
                    2012,
                    2013,
                    2014,
                    2015,
                    2016,
                    2017,
                    2018,
                    2019,
                    2020,
                    2021
                  ],
                  "y": [
                    545.1265,
                    551.0092,
                    559.2226,
                    521.8609,
                    522.7847,
                    524.3899,
                    539.4458,
                    570.5678,
                    609.9427,
                    634.9072,
                    675.3097,
                    739.7802,
                    795.9974,
                    629.9361,
                    730.6396,
                    764.6585,
                    793.4311,
                    814.1389,
                    816.2791,
                    839.3439,
                    863.9833,
                    893.9225
                  ]
                },
                {
                  "mode": "lines+markers",
                  "name": "Uzbekistan - Asia",
                  "type": "scatter",
                  "visible": false,
                  "x": [
                    2000,
                    2001,
                    2002,
                    2003,
                    2004,
                    2005,
                    2006,
                    2007,
                    2008,
                    2009,
                    2010,
                    2011,
                    2012,
                    2013,
                    2014,
                    2015,
                    2016,
                    2017,
                    2018,
                    2019,
                    2020,
                    2021
                  ],
                  "y": [
                    324.7572,
                    329.2239,
                    332.8009,
                    336.7212,
                    365.5625,
                    386.6468,
                    407.3999,
                    430.1149,
                    454.3073,
                    487.8533,
                    517.5416,
                    552.5994,
                    582.4372,
                    605.0379,
                    633.129,
                    653.7279,
                    707.4188,
                    722.8306,
                    739.3807,
                    745.338,
                    755.4946,
                    774.1809
                  ]
                },
                {
                  "mode": "lines+markers",
                  "name": "Türkiye - Asia",
                  "type": "scatter",
                  "visible": false,
                  "x": [
                    2000,
                    2001,
                    2002,
                    2003,
                    2004,
                    2005,
                    2006,
                    2007,
                    2008,
                    2009,
                    2010,
                    2011,
                    2012,
                    2013,
                    2014,
                    2015,
                    2016,
                    2017,
                    2018,
                    2019,
                    2020,
                    2021
                  ],
                  "y": [
                    438.2011,
                    425.725,
                    407.8171,
                    394.3738,
                    375.2308,
                    386.1886,
                    403.853,
                    415.5547,
                    418.4599,
                    413.6485,
                    412.9561,
                    440.0119,
                    483.2652,
                    534.9935,
                    551.0361,
                    543.7119,
                    534.7177,
                    546.0697,
                    647.4067,
                    671.3125,
                    675.8432,
                    673.9795
                  ]
                },
                {
                  "mode": "lines+markers",
                  "name": "Kazakhstan - Asia",
                  "type": "scatter",
                  "visible": false,
                  "x": [
                    2000,
                    2001,
                    2002,
                    2003,
                    2004,
                    2005,
                    2006,
                    2007,
                    2008,
                    2009,
                    2010,
                    2011,
                    2012,
                    2013,
                    2014,
                    2015,
                    2016,
                    2017,
                    2018,
                    2019,
                    2020,
                    2021
                  ],
                  "y": [
                    246.3008,
                    253.6304,
                    263.8071,
                    278.8239,
                    295.9654,
                    314.0369,
                    327.1506,
                    337.9599,
                    346.8161,
                    356.0193,
                    361.3334,
                    364.0882,
                    336.6428,
                    335.332,
                    344.8435,
                    361.0754,
                    373.9582,
                    392.448,
                    413.1652,
                    428.6029,
                    450.4529,
                    469.7766
                  ]
                },
                {
                  "mode": "lines+markers",
                  "name": "Iran (Islamic Republic of) - Asia",
                  "type": "scatter",
                  "visible": false,
                  "x": [
                    2000,
                    2001,
                    2002,
                    2003,
                    2004,
                    2005,
                    2006,
                    2007,
                    2008,
                    2009,
                    2010,
                    2011,
                    2012,
                    2013,
                    2014,
                    2015,
                    2016,
                    2017,
                    2018,
                    2019,
                    2020,
                    2021
                  ],
                  "y": [
                    331.6329,
                    324.7029,
                    301.925,
                    303.4402,
                    309.665,
                    317.3066,
                    320.2056,
                    323.9573,
                    287.8659,
                    307.8688,
                    314.094,
                    295.5363,
                    299.2641,
                    300.6887,
                    192.4278,
                    189.8668,
                    214.0442,
                    202.458,
                    214.3823,
                    216.8981,
                    223.7067,
                    221.0312
                  ]
                },
                {
                  "mode": "lines+markers",
                  "name": "Russian Federation - Europe",
                  "type": "scatter",
                  "visible": false,
                  "x": [
                    2000,
                    2001,
                    2002,
                    2003,
                    2004,
                    2005,
                    2006,
                    2007,
                    2008,
                    2009,
                    2010,
                    2011,
                    2012,
                    2013,
                    2014,
                    2015,
                    2016,
                    2017,
                    2018,
                    2019,
                    2020,
                    2021
                  ],
                  "y": [
                    2383.3267,
                    2326.8122,
                    2299.1456,
                    2234.1897,
                    2085.3709,
                    1925.6148,
                    1811.4404,
                    1799.2116,
                    1789.6538,
                    1748.5184,
                    1707.1195,
                    1652.2405,
                    1658.2656,
                    1632.7913,
                    1600.4375,
                    1571.5435,
                    1522.9361,
                    1498.1539,
                    1480.2327,
                    1468.3706,
                    1462.3579,
                    1447.8801
                  ]
                },
                {
                  "mode": "lines+markers",
                  "name": "France - Europe",
                  "type": "scatter",
                  "visible": false,
                  "x": [
                    2000,
                    2001,
                    2002,
                    2003,
                    2004,
                    2005,
                    2006,
                    2007,
                    2008,
                    2009,
                    2010,
                    2011,
                    2012,
                    2013,
                    2014,
                    2015,
                    2016,
                    2017,
                    2018,
                    2019,
                    2020,
                    2021
                  ],
                  "y": [
                    1677.5432,
                    1671.1165,
                    1622.7029,
                    1567.6395,
                    1545.0948,
                    1534.3716,
                    1534.7345,
                    1556.4852,
                    1565.8709,
                    1541.7899,
                    1523.5011,
                    1489.7193,
                    1483.0578,
                    1492.8689,
                    1502.6733,
                    1508.621,
                    1505.9601,
                    1476.2454,
                    1451.3858,
                    1418.6278,
                    1389.4897,
                    1352.3106
                  ]
                },
                {
                  "mode": "lines+markers",
                  "name": "Germany - Europe",
                  "type": "scatter",
                  "visible": false,
                  "x": [
                    2000,
                    2001,
                    2002,
                    2003,
                    2004,
                    2005,
                    2006,
                    2007,
                    2008,
                    2009,
                    2010,
                    2011,
                    2012,
                    2013,
                    2014,
                    2015,
                    2016,
                    2017,
                    2018,
                    2019,
                    2020,
                    2021
                  ],
                  "y": [
                    1270.5478,
                    1258.1174,
                    1229.5758,
                    1186.9283,
                    1153.0104,
                    1136.7735,
                    1109.2077,
                    1104.5985,
                    1133.4178,
                    1129.5855,
                    1120.6239,
                    1105.7015,
                    1100.3619,
                    1113.0531,
                    1124.934,
                    1117.3817,
                    1101.7224,
                    1088.641,
                    1060.3572,
                    1034.1656,
                    1006.1229,
                    982.9526
                  ]
                },
                {
                  "mode": "lines+markers",
                  "name": "United Kingdom of Great Britain and Northern Ireland - Europe",
                  "type": "scatter",
                  "visible": false,
                  "x": [
                    2000,
                    2001,
                    2002,
                    2003,
                    2004,
                    2005,
                    2006,
                    2007,
                    2008,
                    2009,
                    2010,
                    2011,
                    2012,
                    2013,
                    2014,
                    2015,
                    2016,
                    2017,
                    2018,
                    2019,
                    2020,
                    2021
                  ],
                  "y": [
                    877.929,
                    836.625,
                    818.649,
                    826.9935,
                    824.6655,
                    828.3501,
                    814.887,
                    795.702,
                    779.916,
                    771.375,
                    775.806,
                    761.904,
                    758.55,
                    754.722,
                    758.556,
                    767.472,
                    774.354,
                    772.527,
                    764.271,
                    753.582,
                    744.945,
                    744.414
                  ]
                },
                {
                  "mode": "lines+markers",
                  "name": "Italy - Europe",
                  "type": "scatter",
                  "visible": false,
                  "x": [
                    2000,
                    2001,
                    2002,
                    2003,
                    2004,
                    2005,
                    2006,
                    2007,
                    2008,
                    2009,
                    2010,
                    2011,
                    2012,
                    2013,
                    2014,
                    2015,
                    2016,
                    2017,
                    2018,
                    2019,
                    2020,
                    2021
                  ],
                  "y": [
                    626.5972,
                    558.7416,
                    595.6295,
                    567.5347,
                    567.646,
                    548.9249,
                    546.0893,
                    535.5782,
                    547.6538,
                    540.3213,
                    539.1706,
                    511.4354,
                    536.7554,
                    521.4258,
                    513.1673,
                    514.4389,
                    523.6067,
                    522.4696,
                    557.3267,
                    556.5825,
                    557.7,
                    547.8992
                  ]
                },
                {
                  "mode": "lines+markers",
                  "name": "Ireland - Europe",
                  "type": "scatter",
                  "visible": false,
                  "x": [
                    2000,
                    2001,
                    2002,
                    2003,
                    2004,
                    2005,
                    2006,
                    2007,
                    2008,
                    2009,
                    2010,
                    2011,
                    2012,
                    2013,
                    2014,
                    2015,
                    2016,
                    2017,
                    2018,
                    2019,
                    2020,
                    2021
                  ],
                  "y": [
                    531.6687,
                    532.8186,
                    527.8161,
                    527.6385,
                    528.6903,
                    519.6159,
                    520.9539,
                    515.8617,
                    516.9723,
                    516.3666,
                    496.5258,
                    492.8265,
                    511.0683,
                    522.1038,
                    528.3243,
                    535.8855,
                    559.7781,
                    571.3519,
                    518.0724,
                    520.1899,
                    520.5585,
                    531.8018
                  ]
                },
                {
                  "mode": "lines+markers",
                  "name": "Ukraine - Europe",
                  "type": "scatter",
                  "visible": false,
                  "x": [
                    2000,
                    2001,
                    2002,
                    2003,
                    2004,
                    2005,
                    2006,
                    2007,
                    2008,
                    2009,
                    2010,
                    2011,
                    2012,
                    2013,
                    2014,
                    2015,
                    2016,
                    2017,
                    2018,
                    2019,
                    2020,
                    2021
                  ],
                  "y": [
                    922.608,
                    826.456,
                    824.6888,
                    795.4852,
                    686.9078,
                    618.7338,
                    580.6854,
                    545.894,
                    493.829,
                    454.0952,
                    432.5844,
                    406.6804,
                    400.0912,
                    413.0782,
                    392.253,
                    351.2296,
                    338.463,
                    331.7842,
                    317.778,
                    300.6274,
                    279.1056,
                    259.9234
                  ]
                },
                {
                  "mode": "lines+markers",
                  "name": "Poland - Europe",
                  "type": "scatter",
                  "visible": false,
                  "x": [
                    2000,
                    2001,
                    2002,
                    2003,
                    2004,
                    2005,
                    2006,
                    2007,
                    2008,
                    2009,
                    2010,
                    2011,
                    2012,
                    2013,
                    2014,
                    2015,
                    2016,
                    2017,
                    2018,
                    2019,
                    2020,
                    2021
                  ],
                  "y": [
                    527.9418,
                    502.2525,
                    485.2573,
                    483.586,
                    470.017,
                    477.5074,
                    486.4532,
                    489.9981,
                    494.1488,
                    484.6814,
                    484.2505,
                    482.5258,
                    482.01,
                    483.598,
                    485.1782,
                    486.3288,
                    478.8067,
                    492.2572,
                    497.5798,
                    500.4198,
                    499.6318,
                    501.856
                  ]
                },
                {
                  "mode": "lines+markers",
                  "name": "Spain - Europe",
                  "type": "scatter",
                  "visible": false,
                  "x": [
                    2000,
                    2001,
                    2002,
                    2003,
                    2004,
                    2005,
                    2006,
                    2007,
                    2008,
                    2009,
                    2010,
                    2011,
                    2012,
                    2013,
                    2014,
                    2015,
                    2016,
                    2017,
                    2018,
                    2019,
                    2020,
                    2021
                  ],
                  "y": [
                    494.6312,
                    510.4866,
                    512.6285,
                    514.3273,
                    516.3131,
                    500.4211,
                    476.7373,
                    504.7869,
                    462.9852,
                    465.8391,
                    460.6038,
                    448.3182,
                    443.454,
                    438.2828,
                    462.147,
                    468.8661,
                    471.667,
                    477.8892,
                    487.9895,
                    493.5195,
                    495.697,
                    491.6393
                  ]
                },
                {
                  "mode": "lines+markers",
                  "name": "Netherlands (Kingdom of the) - Europe",
                  "type": "scatter",
                  "visible": false,
                  "x": [
                    2000,
                    2001,
                    2002,
                    2003,
                    2004,
                    2005,
                    2006,
                    2007,
                    2008,
                    2009,
                    2010,
                    2011,
                    2012,
                    2013,
                    2014,
                    2015,
                    2016,
                    2017,
                    2018,
                    2019,
                    2020,
                    2021
                  ],
                  "y": [
                    371.31,
                    371.286,
                    359.004,
                    353.172,
                    349.971,
                    350.787,
                    344.412,
                    348.819,
                    364.095,
                    367.876,
                    367.2,
                    360.487,
                    359.9678,
                    371.7259,
                    383.397,
                    400.62,
                    405.072,
                    378.765,
                    348.87,
                    353.673,
                    350.208,
                    349.965
                  ]
                },
                {
                  "mode": "lines+markers",
                  "name": "United States of America - North America",
                  "type": "scatter",
                  "visible": false,
                  "x": [
                    2000,
                    2001,
                    2002,
                    2003,
                    2004,
                    2005,
                    2006,
                    2007,
                    2008,
                    2009,
                    2010,
                    2011,
                    2012,
                    2013,
                    2014,
                    2015,
                    2016,
                    2017,
                    2018,
                    2019,
                    2020,
                    2021
                  ],
                  "y": [
                    6425.024,
                    6364.631,
                    6338,
                    6297.282,
                    6223.172,
                    6235.072,
                    6336.5952,
                    6336,
                    6322.171,
                    6237.578,
                    6193.3908,
                    6138.1976,
                    6049.5648,
                    5990.4688,
                    5909.758,
                    5949.1638,
                    6098.0648,
                    6198.6854,
                    6242.8082,
                    6260.5687,
                    6204.6354,
                    6216.6058
                  ]
                },
                {
                  "mode": "lines+markers",
                  "name": "Mexico - North America",
                  "type": "scatter",
                  "visible": false,
                  "x": [
                    2000,
                    2001,
                    2002,
                    2003,
                    2004,
                    2005,
                    2006,
                    2007,
                    2008,
                    2009,
                    2010,
                    2011,
                    2012,
                    2013,
                    2014,
                    2015,
                    2016,
                    2017,
                    2018,
                    2019,
                    2020,
                    2021
                  ],
                  "y": [
                    1773.0452,
                    1779.6353,
                    1825.1192,
                    1828.8809,
                    1816.8688,
                    1801.5857,
                    1811.845,
                    1826.4409,
                    1847.8293,
                    1879.0146,
                    1898.5956,
                    1915.4901,
                    1858.1135,
                    1885.5049,
                    1916.4424,
                    1948.9724,
                    1965.2547,
                    1993.9366,
                    2025.2302,
                    2048.8439,
                    2073.9573,
                    2094.197
                  ]
                },
                {
                  "mode": "lines+markers",
                  "name": "Canada - North America",
                  "type": "scatter",
                  "visible": false,
                  "x": [
                    2000,
                    2001,
                    2002,
                    2003,
                    2004,
                    2005,
                    2006,
                    2007,
                    2008,
                    2009,
                    2010,
                    2011,
                    2012,
                    2013,
                    2014,
                    2015,
                    2016,
                    2017,
                    2018,
                    2019,
                    2020,
                    2021
                  ],
                  "y": [
                    847.485,
                    867.9448,
                    874.8168,
                    857.155,
                    914.6678,
                    933.0008,
                    915.7002,
                    884.985,
                    862.9034,
                    821.4232,
                    802.0564,
                    774.1732,
                    777.3448,
                    778.141,
                    767.7346,
                    743.9232,
                    742.0714,
                    738.18,
                    743.1306,
                    740.2794,
                    727.9554,
                    716.8468
                  ]
                },
                {
                  "mode": "lines+markers",
                  "name": "Nicaragua - North America",
                  "type": "scatter",
                  "visible": false,
                  "x": [
                    2000,
                    2001,
                    2002,
                    2003,
                    2004,
                    2005,
                    2006,
                    2007,
                    2008,
                    2009,
                    2010,
                    2011,
                    2012,
                    2013,
                    2014,
                    2015,
                    2016,
                    2017,
                    2018,
                    2019,
                    2020,
                    2021
                  ],
                  "y": [
                    199.7257,
                    201.2163,
                    204.4106,
                    213.1081,
                    207.7361,
                    214.0919,
                    220.1198,
                    220.7264,
                    221.3494,
                    224.8388,
                    227.8184,
                    252.0799,
                    262.2781,
                    276.2368,
                    290.0827,
                    304.7606,
                    303.5369,
                    299.8809,
                    312.1223,
                    323.456,
                    331.9101,
                    337.0197
                  ]
                },
                {
                  "mode": "lines+markers",
                  "name": "Cuba - North America",
                  "type": "scatter",
                  "visible": false,
                  "x": [
                    2000,
                    2001,
                    2002,
                    2003,
                    2004,
                    2005,
                    2006,
                    2007,
                    2008,
                    2009,
                    2010,
                    2011,
                    2012,
                    2013,
                    2014,
                    2015,
                    2016,
                    2017,
                    2018,
                    2019,
                    2020,
                    2021
                  ],
                  "y": [
                    242.7989,
                    238.8033,
                    234.7912,
                    237.8794,
                    231.9163,
                    216.8485,
                    218.5743,
                    221.8321,
                    223.8531,
                    228.3927,
                    234.5317,
                    237.4802,
                    238.8995,
                    239.707,
                    241.9455,
                    237.0791,
                    234.6798,
                    225.6553,
                    222.5376,
                    222.6291,
                    218.9056,
                    213.6
                  ]
                },
                {
                  "mode": "lines+markers",
                  "name": "Guatemala - North America",
                  "type": "scatter",
                  "visible": false,
                  "x": [
                    2000,
                    2001,
                    2002,
                    2003,
                    2004,
                    2005,
                    2006,
                    2007,
                    2008,
                    2009,
                    2010,
                    2011,
                    2012,
                    2013,
                    2014,
                    2015,
                    2016,
                    2017,
                    2018,
                    2019,
                    2020,
                    2021
                  ],
                  "y": [
                    148.3608,
                    153.1698,
                    156.2576,
                    144.4545,
                    152.5915,
                    157.2917,
                    162.0152,
                    172.32,
                    182.8236,
                    193.2367,
                    201.4652,
                    200.05,
                    203.8802,
                    205.794,
                    215.5336,
                    220.5557,
                    225.4126,
                    230.1482,
                    232.9886,
                    237.3459,
                    241.3081,
                    245.27
                  ]
                },
                {
                  "mode": "lines+markers",
                  "name": "Dominican Republic - North America",
                  "type": "scatter",
                  "visible": false,
                  "x": [
                    2000,
                    2001,
                    2002,
                    2003,
                    2004,
                    2005,
                    2006,
                    2007,
                    2008,
                    2009,
                    2010,
                    2011,
                    2012,
                    2013,
                    2014,
                    2015,
                    2016,
                    2017,
                    2018,
                    2019,
                    2020,
                    2021
                  ],
                  "y": [
                    119.8838,
                    124.926,
                    129.2425,
                    129.8345,
                    147.2071,
                    130.456,
                    132.6205,
                    157.2062,
                    162.1441,
                    166.1695,
                    171.1587,
                    173.67,
                    177.08,
                    178.04,
                    178.2,
                    178.125,
                    178.6662,
                    179.64,
                    179.9538,
                    182.0609,
                    182.4449,
                    183.4269
                  ]
                },
                {
                  "mode": "lines+markers",
                  "name": "Honduras - North America",
                  "type": "scatter",
                  "visible": false,
                  "x": [
                    2000,
                    2001,
                    2002,
                    2003,
                    2004,
                    2005,
                    2006,
                    2007,
                    2008,
                    2009,
                    2010,
                    2011,
                    2012,
                    2013,
                    2014,
                    2015,
                    2016,
                    2017,
                    2018,
                    2019,
                    2020,
                    2021
                  ],
                  "y": [
                    106.58,
                    111.285,
                    124.6578,
                    144.9309,
                    147.8298,
                    150.7684,
                    148.0518,
                    150.6405,
                    153.2729,
                    160.9854,
                    162.5502,
                    161.3825,
                    165.0443,
                    165.9116,
                    166.1527,
                    166.9704,
                    167.4985,
                    168.3768,
                    170.7169,
                    171.8917,
                    172.9837,
                    174.0757
                  ]
                },
                {
                  "mode": "lines+markers",
                  "name": "Panama - North America",
                  "type": "scatter",
                  "visible": false,
                  "x": [
                    2000,
                    2001,
                    2002,
                    2003,
                    2004,
                    2005,
                    2006,
                    2007,
                    2008,
                    2009,
                    2010,
                    2011,
                    2012,
                    2013,
                    2014,
                    2015,
                    2016,
                    2017,
                    2018,
                    2019,
                    2020,
                    2021
                  ],
                  "y": [
                    78.7806,
                    89.6549,
                    89.7166,
                    87.7923,
                    86.7598,
                    91.5835,
                    91.3801,
                    89.613,
                    94.1418,
                    95.2972,
                    96.5632,
                    101.514,
                    101.2548,
                    101.0399,
                    95.604,
                    90.1781,
                    90.9763,
                    89.1644,
                    91.2247,
                    87.7535,
                    88.1504,
                    88.4077
                  ]
                },
                {
                  "mode": "lines+markers",
                  "name": "Haiti - North America",
                  "type": "scatter",
                  "visible": false,
                  "x": [
                    2000,
                    2001,
                    2002,
                    2003,
                    2004,
                    2005,
                    2006,
                    2007,
                    2008,
                    2009,
                    2010,
                    2011,
                    2012,
                    2013,
                    2014,
                    2015,
                    2016,
                    2017,
                    2018,
                    2019,
                    2020,
                    2021
                  ],
                  "y": [
                    84.15,
                    84.768,
                    85.37,
                    85.751,
                    85.84,
                    86.084,
                    85.498,
                    85.6394,
                    85.9339,
                    85.9354,
                    85.9369,
                    86.6056,
                    86.897,
                    86.897,
                    86.8222,
                    87.5034,
                    88.3356,
                    89.0523,
                    89.5203,
                    89.1564,
                    89.4061,
                    89.6558
                  ]
                },
                {
                  "mode": "lines+markers",
                  "name": "Australia - Oceania",
                  "type": "scatter",
                  "visible": false,
                  "x": [
                    2000,
                    2001,
                    2002,
                    2003,
                    2004,
                    2005,
                    2006,
                    2007,
                    2008,
                    2009,
                    2010,
                    2011,
                    2012,
                    2013,
                    2014,
                    2015,
                    2016,
                    2017,
                    2018,
                    2019,
                    2020,
                    2021
                  ],
                  "y": [
                    1834.203,
                    1842.734,
                    1848.951,
                    1770.0168,
                    1819.004,
                    1833.178,
                    1867.5508,
                    1840.6412,
                    1787.3992,
                    1825.7635,
                    1745.967,
                    1857.9403,
                    1858.8643,
                    1912.2612,
                    1898.247,
                    1795.8912,
                    1637.2366,
                    1709.5437,
                    1724.6879,
                    1611.3106,
                    1536.6463,
                    1593.6208
                  ]
                },
                {
                  "mode": "lines+markers",
                  "name": "New Zealand - Oceania",
                  "type": "scatter",
                  "visible": false,
                  "x": [
                    2000,
                    2001,
                    2002,
                    2003,
                    2004,
                    2005,
                    2006,
                    2007,
                    2008,
                    2009,
                    2010,
                    2011,
                    2012,
                    2013,
                    2014,
                    2015,
                    2016,
                    2017,
                    2018,
                    2019,
                    2020,
                    2021
                  ],
                  "y": [
                    724.6414,
                    752.3072,
                    784.9907,
                    799.0702,
                    800.4133,
                    795.1186,
                    802.7499,
                    807.0825,
                    820.2456,
                    848.84,
                    846.718,
                    863.4165,
                    883.262,
                    883.1156,
                    903.4302,
                    876.7149,
                    891.6263,
                    882.9573,
                    878.8195,
                    874.4821,
                    868.2658,
                    870.6979
                  ]
                },
                {
                  "mode": "lines+markers",
                  "name": "Fiji - Oceania",
                  "type": "scatter",
                  "visible": false,
                  "x": [
                    2000,
                    2001,
                    2002,
                    2003,
                    2004,
                    2005,
                    2006,
                    2007,
                    2008,
                    2009,
                    2010,
                    2011,
                    2012,
                    2013,
                    2014,
                    2015,
                    2016,
                    2017,
                    2018,
                    2019,
                    2020,
                    2021
                  ],
                  "y": [
                    22.4018,
                    22.7444,
                    21.5046,
                    21.317,
                    20.844,
                    21.3191,
                    21.3201,
                    21.241,
                    21.4564,
                    21.3232,
                    21.2572,
                    20.927,
                    21.018,
                    21.1246,
                    6.8944,
                    6.27,
                    6.3721,
                    7.2167,
                    7.3156,
                    10.101,
                    7.6766,
                    5.6591
                  ]
                },
                {
                  "mode": "lines+markers",
                  "name": "Vanuatu - Oceania",
                  "type": "scatter",
                  "visible": false,
                  "x": [
                    2000,
                    2001,
                    2002,
                    2003,
                    2004,
                    2005,
                    2006,
                    2007,
                    2008,
                    2009,
                    2010,
                    2011,
                    2012,
                    2013,
                    2014,
                    2015,
                    2016,
                    2017,
                    2018,
                    2019,
                    2020,
                    2021
                  ],
                  "y": [
                    9.5209,
                    8.8719,
                    8.7987,
                    9.2101,
                    9.3278,
                    9.5499,
                    9.7017,
                    11.6084,
                    11.7673,
                    10.7805,
                    11.1102,
                    11.4099,
                    11.5339,
                    11.5959,
                    11.77,
                    10.2824,
                    7.8469,
                    6.82,
                    8.1245,
                    7.175,
                    6.8372,
                    6.6101
                  ]
                },
                {
                  "mode": "lines+markers",
                  "name": "Papua New Guinea - Oceania",
                  "type": "scatter",
                  "visible": false,
                  "x": [
                    2000,
                    2001,
                    2002,
                    2003,
                    2004,
                    2005,
                    2006,
                    2007,
                    2008,
                    2009,
                    2010,
                    2011,
                    2012,
                    2013,
                    2014,
                    2015,
                    2016,
                    2017,
                    2018,
                    2019,
                    2020,
                    2021
                  ],
                  "y": [
                    5.481,
                    5.5465,
                    5.6108,
                    5.6699,
                    5.7348,
                    5.7997,
                    5.8646,
                    5.9295,
                    5.9324,
                    5.9353,
                    5.9295,
                    5.8704,
                    5.9324,
                    5.8704,
                    5.8675,
                    5.8628,
                    5.8577,
                    5.849,
                    5.8156,
                    5.803,
                    5.7904,
                    5.7779
                  ]
                },
                {
                  "mode": "lines+markers",
                  "name": "New Caledonia - Oceania",
                  "type": "scatter",
                  "visible": false,
                  "x": [
                    2000,
                    2001,
                    2002,
                    2003,
                    2004,
                    2005,
                    2006,
                    2007,
                    2008,
                    2009,
                    2010,
                    2011,
                    2012,
                    2013,
                    2014,
                    2015,
                    2016,
                    2017,
                    2018,
                    2019,
                    2020,
                    2021
                  ],
                  "y": [
                    6.8392,
                    6.8392,
                    6.9204,
                    6.9013,
                    6.9013,
                    6.2123,
                    5.4115,
                    5.5978,
                    5.5978,
                    5.5978,
                    5.5978,
                    5.5978,
                    5.2628,
                    5.722,
                    5.7841,
                    5.5707,
                    5.3471,
                    5.1821,
                    5.2231,
                    5.1972,
                    5.1497,
                    5.1022
                  ]
                },
                {
                  "mode": "lines+markers",
                  "name": "Samoa - Oceania",
                  "type": "scatter",
                  "visible": false,
                  "x": [
                    2000,
                    2001,
                    2002,
                    2003,
                    2004,
                    2005,
                    2006,
                    2007,
                    2008,
                    2009,
                    2010,
                    2011,
                    2012,
                    2013,
                    2014,
                    2015,
                    2016,
                    2017,
                    2018,
                    2019,
                    2020,
                    2021
                  ],
                  "y": [
                    1.8245,
                    1.8124,
                    1.8125,
                    1.8761,
                    1.9398,
                    1.9398,
                    1.9399,
                    1.9399,
                    1.94,
                    2.5085,
                    2.6649,
                    2.891,
                    3.0208,
                    3.1035,
                    3.1553,
                    3.6208,
                    3.131,
                    2.9858,
                    2.8315,
                    2.4633,
                    3.039,
                    2.859
                  ]
                },
                {
                  "mode": "lines+markers",
                  "name": "Micronesia (Federated States of) - Oceania",
                  "type": "scatter",
                  "visible": false,
                  "x": [
                    2000,
                    2001,
                    2002,
                    2003,
                    2004,
                    2005,
                    2006,
                    2007,
                    2008,
                    2009,
                    2010,
                    2011,
                    2012,
                    2013,
                    2014,
                    2015,
                    2016,
                    2017,
                    2018,
                    2019,
                    2020,
                    2021
                  ],
                  "y": [
                    0.9965,
                    0.9986,
                    0.999,
                    1.0027,
                    1.0039,
                    1.0061,
                    1.0052,
                    1.0101,
                    1.0137,
                    1.0882,
                    1.0887,
                    1.16,
                    1.1626,
                    1.198,
                    1.2316,
                    1.2495,
                    1.2806,
                    1.2473,
                    1.2679,
                    1.3021,
                    1.3246,
                    1.3681
                  ]
                },
                {
                  "mode": "lines+markers",
                  "name": "Solomon Islands - Oceania",
                  "type": "scatter",
                  "visible": false,
                  "x": [
                    2000,
                    2001,
                    2002,
                    2003,
                    2004,
                    2005,
                    2006,
                    2007,
                    2008,
                    2009,
                    2010,
                    2011,
                    2012,
                    2013,
                    2014,
                    2015,
                    2016,
                    2017,
                    2018,
                    2019,
                    2020,
                    2021
                  ],
                  "y": [
                    0.9242,
                    0.9242,
                    0.9243,
                    0.9297,
                    0.9585,
                    0.9586,
                    0.9928,
                    1.0285,
                    1.0285,
                    1.0285,
                    1.0285,
                    1.0285,
                    1.0477,
                    1.0595,
                    1.0615,
                    1.0639,
                    1.0652,
                    1.066,
                    1.0719,
                    1.0749,
                    1.0781,
                    1.0813
                  ]
                },
                {
                  "mode": "lines+markers",
                  "name": "Tonga - Oceania",
                  "type": "scatter",
                  "visible": false,
                  "x": [
                    2000,
                    2001,
                    2002,
                    2003,
                    2004,
                    2005,
                    2006,
                    2007,
                    2008,
                    2009,
                    2010,
                    2011,
                    2012,
                    2013,
                    2014,
                    2015,
                    2016,
                    2017,
                    2018,
                    2019,
                    2020,
                    2021
                  ],
                  "y": [
                    0.712,
                    0.709,
                    0.709,
                    0.709,
                    0.709,
                    0.709,
                    0.709,
                    0.7122,
                    0.7122,
                    0.7122,
                    0.7151,
                    0.7122,
                    0.7278,
                    0.7404,
                    0.7467,
                    0.7485,
                    0.7523,
                    0.7543,
                    0.7618,
                    0.7622,
                    0.7649,
                    0.7675
                  ]
                },
                {
                  "mode": "lines+markers",
                  "name": "Brazil - South America",
                  "type": "scatter",
                  "visible": false,
                  "x": [
                    2000,
                    2001,
                    2002,
                    2003,
                    2004,
                    2005,
                    2006,
                    2007,
                    2008,
                    2009,
                    2010,
                    2011,
                    2012,
                    2013,
                    2014,
                    2015,
                    2016,
                    2017,
                    2018,
                    2019,
                    2020,
                    2021
                  ],
                  "y": [
                    9969.0652,
                    10345.2606,
                    10868.967,
                    11454.5301,
                    11977.5896,
                    12137.9465,
                    12070.6009,
                    11723.8219,
                    11876.8481,
                    12061.518,
                    12310.6418,
                    12502.1398,
                    12407.764,
                    12437.8372,
                    12473.3167,
                    12605.3436,
                    12749.8193,
                    12524.8325,
                    12448.7878,
                    12516.3964,
                    12693.249,
                    13057.4337
                  ]
                },
                {
                  "mode": "lines+markers",
                  "name": "Argentina - South America",
                  "type": "scatter",
                  "visible": false,
                  "x": [
                    2000,
                    2001,
                    2002,
                    2003,
                    2004,
                    2005,
                    2006,
                    2007,
                    2008,
                    2009,
                    2010,
                    2011,
                    2012,
                    2013,
                    2014,
                    2015,
                    2016,
                    2017,
                    2018,
                    2019,
                    2020,
                    2021
                  ],
                  "y": [
                    2813.6408,
                    2823.7298,
                    2998.4,
                    3216.9185,
                    3272.1091,
                    3284.5111,
                    3359.5357,
                    3382.3602,
                    3316.6378,
                    3138.0407,
                    2823.7354,
                    2768.8416,
                    2877.4422,
                    2941.8826,
                    2975.053,
                    2965.1013,
                    3028.6686,
                    3150.7324,
                    3148.746,
                    3161.2877,
                    3129.0223,
                    3069.1703
                  ]
                },
                {
                  "mode": "lines+markers",
                  "name": "Colombia - South America",
                  "type": "scatter",
                  "visible": false,
                  "x": [
                    2000,
                    2001,
                    2002,
                    2003,
                    2004,
                    2005,
                    2006,
                    2007,
                    2008,
                    2009,
                    2010,
                    2011,
                    2012,
                    2013,
                    2014,
                    2015,
                    2016,
                    2017,
                    2018,
                    2019,
                    2020,
                    2021
                  ],
                  "y": [
                    1486.3309,
                    1497.0928,
                    1515.6221,
                    1519.1578,
                    1526.9393,
                    1573.0258,
                    1576.6488,
                    1589.4789,
                    1596.4278,
                    1591.4177,
                    1645.7568,
                    1525.0959,
                    1445.7631,
                    1411.8634,
                    1387.2132,
                    1327.6078,
                    1359.8937,
                    1439.3545,
                    1543.1345,
                    1607.9278,
                    1650.4319,
                    1727.2278
                  ]
                },
                {
                  "mode": "lines+markers",
                  "name": "Venezuela (Bolivarian Republic of) - South America",
                  "type": "scatter",
                  "visible": false,
                  "x": [
                    2000,
                    2001,
                    2002,
                    2003,
                    2004,
                    2005,
                    2006,
                    2007,
                    2008,
                    2009,
                    2010,
                    2011,
                    2012,
                    2013,
                    2014,
                    2015,
                    2016,
                    2017,
                    2018,
                    2019,
                    2020,
                    2021
                  ],
                  "y": [
                    887.6045,
                    905.0262,
                    922.9137,
                    931.71,
                    945.522,
                    969.2159,
                    971.3509,
                    989.8494,
                    1004.7758,
                    1004.8843,
                    838.352,
                    851.7497,
                    1006.19,
                    1000.8599,
                    993.9616,
                    996.4954,
                    977.4093,
                    953.7125,
                    943.9115,
                    950.8603,
                    971.0522,
                    968.6945
                  ]
                },
                {
                  "mode": "lines+markers",
                  "name": "Paraguay - South America",
                  "type": "scatter",
                  "visible": false,
                  "x": [
                    2000,
                    2001,
                    2002,
                    2003,
                    2004,
                    2005,
                    2006,
                    2007,
                    2008,
                    2009,
                    2010,
                    2011,
                    2012,
                    2013,
                    2014,
                    2015,
                    2016,
                    2017,
                    2018,
                    2019,
                    2020,
                    2021
                  ],
                  "y": [
                    557.201,
                    565.8958,
                    530.428,
                    579.9335,
                    550.9854,
                    563.4346,
                    571.7356,
                    599.2801,
                    601.3165,
                    666.873,
                    704.7702,
                    712.4358,
                    761.1963,
                    766.058,
                    828.1381,
                    813.8946,
                    793.4593,
                    791.2238,
                    772.9003,
                    790.1111,
                    802.9268,
                    796.8328
                  ]
                },
                {
                  "mode": "lines+markers",
                  "name": "Uruguay - South America",
                  "type": "scatter",
                  "visible": false,
                  "x": [
                    2000,
                    2001,
                    2002,
                    2003,
                    2004,
                    2005,
                    2006,
                    2007,
                    2008,
                    2009,
                    2010,
                    2011,
                    2012,
                    2013,
                    2014,
                    2015,
                    2016,
                    2017,
                    2018,
                    2019,
                    2020,
                    2021
                  ],
                  "y": [
                    601.321,
                    615.435,
                    653.636,
                    678.892,
                    693.046,
                    693.972,
                    721.8138,
                    716.864,
                    733.353,
                    723.29,
                    684.824,
                    685.744,
                    662.222,
                    670.064,
                    686.89,
                    691.455,
                    695.873,
                    681.395,
                    665.932,
                    662.571,
                    649.358,
                    690.5587
                  ]
                },
                {
                  "mode": "lines+markers",
                  "name": "Bolivia (Plurinational State of) - South America",
                  "type": "scatter",
                  "visible": false,
                  "x": [
                    2000,
                    2001,
                    2002,
                    2003,
                    2004,
                    2005,
                    2006,
                    2007,
                    2008,
                    2009,
                    2010,
                    2011,
                    2012,
                    2013,
                    2014,
                    2015,
                    2016,
                    2017,
                    2018,
                    2019,
                    2020,
                    2021
                  ],
                  "y": [
                    396.46,
                    373.0655,
                    383.0121,
                    393.2096,
                    403.6822,
                    414.1979,
                    425.1611,
                    435.312,
                    446.7917,
                    458.1341,
                    469.8578,
                    482.025,
                    494.7447,
                    507.7437,
                    505.0262,
                    513.7503,
                    523.143,
                    533.848,
                    548.244,
                    558.784,
                    579.4507,
                    595.4674
                  ]
                },
                {
                  "mode": "lines+markers",
                  "name": "Peru - South America",
                  "type": "scatter",
                  "visible": false,
                  "x": [
                    2000,
                    2001,
                    2002,
                    2003,
                    2004,
                    2005,
                    2006,
                    2007,
                    2008,
                    2009,
                    2010,
                    2011,
                    2012,
                    2013,
                    2014,
                    2015,
                    2016,
                    2017,
                    2018,
                    2019,
                    2020,
                    2021
                  ],
                  "y": [
                    292.7385,
                    296.1563,
                    304.4992,
                    306.4213,
                    306.3321,
                    310.5676,
                    310.6415,
                    321.0403,
                    322.5637,
                    323.7799,
                    327.2531,
                    331.6292,
                    336.4302,
                    330.4428,
                    331.9427,
                    330.7261,
                    329.2823,
                    329.7533,
                    332.1499,
                    333.6869,
                    335.7811,
                    348.5825
                  ]
                },
                {
                  "mode": "lines+markers",
                  "name": "Ecuador - South America",
                  "type": "scatter",
                  "visible": false,
                  "x": [
                    2000,
                    2001,
                    2002,
                    2003,
                    2004,
                    2005,
                    2006,
                    2007,
                    2008,
                    2009,
                    2010,
                    2011,
                    2012,
                    2013,
                    2014,
                    2015,
                    2016,
                    2017,
                    2018,
                    2019,
                    2020,
                    2021
                  ],
                  "y": [
                    268.6448,
                    284.9688,
                    301.5073,
                    299.521,
                    305.8919,
                    298.2878,
                    302.8335,
                    284.4351,
                    294.7203,
                    312.4364,
                    316.8733,
                    323.4953,
                    315.2793,
                    310.687,
                    276.7019,
                    248.3413,
                    249.5955,
                    252.5635,
                    244.5578,
                    261.3999,
                    262.548,
                    245.3624
                  ]
                },
                {
                  "mode": "lines+markers",
                  "name": "Chile - South America",
                  "type": "scatter",
                  "visible": false,
                  "x": [
                    2000,
                    2001,
                    2002,
                    2003,
                    2004,
                    2005,
                    2006,
                    2007,
                    2008,
                    2009,
                    2010,
                    2011,
                    2012,
                    2013,
                    2014,
                    2015,
                    2016,
                    2017,
                    2018,
                    2019,
                    2020,
                    2021
                  ],
                  "y": [
                    248.2352,
                    242.9279,
                    239.734,
                    240.044,
                    243.4956,
                    243.2619,
                    238.1341,
                    221.0246,
                    232.1061,
                    225.3998,
                    233.9348,
                    229.6232,
                    229.1141,
                    184.2104,
                    177.4575,
                    167.7353,
                    173.0905,
                    173.3001,
                    183.2156,
                    185.9309,
                    191.3416,
                    182.8502
                  ]
                }
              ],
              "layout": {
                "template": {
                  "data": {
                    "bar": [
                      {
                        "error_x": {
                          "color": "#2a3f5f"
                        },
                        "error_y": {
                          "color": "#2a3f5f"
                        },
                        "marker": {
                          "line": {
                            "color": "white",
                            "width": 0.5
                          },
                          "pattern": {
                            "fillmode": "overlay",
                            "size": 10,
                            "solidity": 0.2
                          }
                        },
                        "type": "bar"
                      }
                    ],
                    "barpolar": [
                      {
                        "marker": {
                          "line": {
                            "color": "white",
                            "width": 0.5
                          },
                          "pattern": {
                            "fillmode": "overlay",
                            "size": 10,
                            "solidity": 0.2
                          }
                        },
                        "type": "barpolar"
                      }
                    ],
                    "carpet": [
                      {
                        "aaxis": {
                          "endlinecolor": "#2a3f5f",
                          "gridcolor": "#C8D4E3",
                          "linecolor": "#C8D4E3",
                          "minorgridcolor": "#C8D4E3",
                          "startlinecolor": "#2a3f5f"
                        },
                        "baxis": {
                          "endlinecolor": "#2a3f5f",
                          "gridcolor": "#C8D4E3",
                          "linecolor": "#C8D4E3",
                          "minorgridcolor": "#C8D4E3",
                          "startlinecolor": "#2a3f5f"
                        },
                        "type": "carpet"
                      }
                    ],
                    "choropleth": [
                      {
                        "colorbar": {
                          "outlinewidth": 0,
                          "ticks": ""
                        },
                        "type": "choropleth"
                      }
                    ],
                    "contour": [
                      {
                        "colorbar": {
                          "outlinewidth": 0,
                          "ticks": ""
                        },
                        "colorscale": [
                          [
                            0,
                            "#0d0887"
                          ],
                          [
                            0.1111111111111111,
                            "#46039f"
                          ],
                          [
                            0.2222222222222222,
                            "#7201a8"
                          ],
                          [
                            0.3333333333333333,
                            "#9c179e"
                          ],
                          [
                            0.4444444444444444,
                            "#bd3786"
                          ],
                          [
                            0.5555555555555556,
                            "#d8576b"
                          ],
                          [
                            0.6666666666666666,
                            "#ed7953"
                          ],
                          [
                            0.7777777777777778,
                            "#fb9f3a"
                          ],
                          [
                            0.8888888888888888,
                            "#fdca26"
                          ],
                          [
                            1,
                            "#f0f921"
                          ]
                        ],
                        "type": "contour"
                      }
                    ],
                    "contourcarpet": [
                      {
                        "colorbar": {
                          "outlinewidth": 0,
                          "ticks": ""
                        },
                        "type": "contourcarpet"
                      }
                    ],
                    "heatmap": [
                      {
                        "colorbar": {
                          "outlinewidth": 0,
                          "ticks": ""
                        },
                        "colorscale": [
                          [
                            0,
                            "#0d0887"
                          ],
                          [
                            0.1111111111111111,
                            "#46039f"
                          ],
                          [
                            0.2222222222222222,
                            "#7201a8"
                          ],
                          [
                            0.3333333333333333,
                            "#9c179e"
                          ],
                          [
                            0.4444444444444444,
                            "#bd3786"
                          ],
                          [
                            0.5555555555555556,
                            "#d8576b"
                          ],
                          [
                            0.6666666666666666,
                            "#ed7953"
                          ],
                          [
                            0.7777777777777778,
                            "#fb9f3a"
                          ],
                          [
                            0.8888888888888888,
                            "#fdca26"
                          ],
                          [
                            1,
                            "#f0f921"
                          ]
                        ],
                        "type": "heatmap"
                      }
                    ],
                    "heatmapgl": [
                      {
                        "colorbar": {
                          "outlinewidth": 0,
                          "ticks": ""
                        },
                        "colorscale": [
                          [
                            0,
                            "#0d0887"
                          ],
                          [
                            0.1111111111111111,
                            "#46039f"
                          ],
                          [
                            0.2222222222222222,
                            "#7201a8"
                          ],
                          [
                            0.3333333333333333,
                            "#9c179e"
                          ],
                          [
                            0.4444444444444444,
                            "#bd3786"
                          ],
                          [
                            0.5555555555555556,
                            "#d8576b"
                          ],
                          [
                            0.6666666666666666,
                            "#ed7953"
                          ],
                          [
                            0.7777777777777778,
                            "#fb9f3a"
                          ],
                          [
                            0.8888888888888888,
                            "#fdca26"
                          ],
                          [
                            1,
                            "#f0f921"
                          ]
                        ],
                        "type": "heatmapgl"
                      }
                    ],
                    "histogram": [
                      {
                        "marker": {
                          "pattern": {
                            "fillmode": "overlay",
                            "size": 10,
                            "solidity": 0.2
                          }
                        },
                        "type": "histogram"
                      }
                    ],
                    "histogram2d": [
                      {
                        "colorbar": {
                          "outlinewidth": 0,
                          "ticks": ""
                        },
                        "colorscale": [
                          [
                            0,
                            "#0d0887"
                          ],
                          [
                            0.1111111111111111,
                            "#46039f"
                          ],
                          [
                            0.2222222222222222,
                            "#7201a8"
                          ],
                          [
                            0.3333333333333333,
                            "#9c179e"
                          ],
                          [
                            0.4444444444444444,
                            "#bd3786"
                          ],
                          [
                            0.5555555555555556,
                            "#d8576b"
                          ],
                          [
                            0.6666666666666666,
                            "#ed7953"
                          ],
                          [
                            0.7777777777777778,
                            "#fb9f3a"
                          ],
                          [
                            0.8888888888888888,
                            "#fdca26"
                          ],
                          [
                            1,
                            "#f0f921"
                          ]
                        ],
                        "type": "histogram2d"
                      }
                    ],
                    "histogram2dcontour": [
                      {
                        "colorbar": {
                          "outlinewidth": 0,
                          "ticks": ""
                        },
                        "colorscale": [
                          [
                            0,
                            "#0d0887"
                          ],
                          [
                            0.1111111111111111,
                            "#46039f"
                          ],
                          [
                            0.2222222222222222,
                            "#7201a8"
                          ],
                          [
                            0.3333333333333333,
                            "#9c179e"
                          ],
                          [
                            0.4444444444444444,
                            "#bd3786"
                          ],
                          [
                            0.5555555555555556,
                            "#d8576b"
                          ],
                          [
                            0.6666666666666666,
                            "#ed7953"
                          ],
                          [
                            0.7777777777777778,
                            "#fb9f3a"
                          ],
                          [
                            0.8888888888888888,
                            "#fdca26"
                          ],
                          [
                            1,
                            "#f0f921"
                          ]
                        ],
                        "type": "histogram2dcontour"
                      }
                    ],
                    "mesh3d": [
                      {
                        "colorbar": {
                          "outlinewidth": 0,
                          "ticks": ""
                        },
                        "type": "mesh3d"
                      }
                    ],
                    "parcoords": [
                      {
                        "line": {
                          "colorbar": {
                            "outlinewidth": 0,
                            "ticks": ""
                          }
                        },
                        "type": "parcoords"
                      }
                    ],
                    "pie": [
                      {
                        "automargin": true,
                        "type": "pie"
                      }
                    ],
                    "scatter": [
                      {
                        "fillpattern": {
                          "fillmode": "overlay",
                          "size": 10,
                          "solidity": 0.2
                        },
                        "type": "scatter"
                      }
                    ],
                    "scatter3d": [
                      {
                        "line": {
                          "colorbar": {
                            "outlinewidth": 0,
                            "ticks": ""
                          }
                        },
                        "marker": {
                          "colorbar": {
                            "outlinewidth": 0,
                            "ticks": ""
                          }
                        },
                        "type": "scatter3d"
                      }
                    ],
                    "scattercarpet": [
                      {
                        "marker": {
                          "colorbar": {
                            "outlinewidth": 0,
                            "ticks": ""
                          }
                        },
                        "type": "scattercarpet"
                      }
                    ],
                    "scattergeo": [
                      {
                        "marker": {
                          "colorbar": {
                            "outlinewidth": 0,
                            "ticks": ""
                          }
                        },
                        "type": "scattergeo"
                      }
                    ],
                    "scattergl": [
                      {
                        "marker": {
                          "colorbar": {
                            "outlinewidth": 0,
                            "ticks": ""
                          }
                        },
                        "type": "scattergl"
                      }
                    ],
                    "scattermapbox": [
                      {
                        "marker": {
                          "colorbar": {
                            "outlinewidth": 0,
                            "ticks": ""
                          }
                        },
                        "type": "scattermapbox"
                      }
                    ],
                    "scatterpolar": [
                      {
                        "marker": {
                          "colorbar": {
                            "outlinewidth": 0,
                            "ticks": ""
                          }
                        },
                        "type": "scatterpolar"
                      }
                    ],
                    "scatterpolargl": [
                      {
                        "marker": {
                          "colorbar": {
                            "outlinewidth": 0,
                            "ticks": ""
                          }
                        },
                        "type": "scatterpolargl"
                      }
                    ],
                    "scatterternary": [
                      {
                        "marker": {
                          "colorbar": {
                            "outlinewidth": 0,
                            "ticks": ""
                          }
                        },
                        "type": "scatterternary"
                      }
                    ],
                    "surface": [
                      {
                        "colorbar": {
                          "outlinewidth": 0,
                          "ticks": ""
                        },
                        "colorscale": [
                          [
                            0,
                            "#0d0887"
                          ],
                          [
                            0.1111111111111111,
                            "#46039f"
                          ],
                          [
                            0.2222222222222222,
                            "#7201a8"
                          ],
                          [
                            0.3333333333333333,
                            "#9c179e"
                          ],
                          [
                            0.4444444444444444,
                            "#bd3786"
                          ],
                          [
                            0.5555555555555556,
                            "#d8576b"
                          ],
                          [
                            0.6666666666666666,
                            "#ed7953"
                          ],
                          [
                            0.7777777777777778,
                            "#fb9f3a"
                          ],
                          [
                            0.8888888888888888,
                            "#fdca26"
                          ],
                          [
                            1,
                            "#f0f921"
                          ]
                        ],
                        "type": "surface"
                      }
                    ],
                    "table": [
                      {
                        "cells": {
                          "fill": {
                            "color": "#EBF0F8"
                          },
                          "line": {
                            "color": "white"
                          }
                        },
                        "header": {
                          "fill": {
                            "color": "#C8D4E3"
                          },
                          "line": {
                            "color": "white"
                          }
                        },
                        "type": "table"
                      }
                    ]
                  },
                  "layout": {
                    "annotationdefaults": {
                      "arrowcolor": "#2a3f5f",
                      "arrowhead": 0,
                      "arrowwidth": 1
                    },
                    "autotypenumbers": "strict",
                    "coloraxis": {
                      "colorbar": {
                        "outlinewidth": 0,
                        "ticks": ""
                      }
                    },
                    "colorscale": {
                      "diverging": [
                        [
                          0,
                          "#8e0152"
                        ],
                        [
                          0.1,
                          "#c51b7d"
                        ],
                        [
                          0.2,
                          "#de77ae"
                        ],
                        [
                          0.3,
                          "#f1b6da"
                        ],
                        [
                          0.4,
                          "#fde0ef"
                        ],
                        [
                          0.5,
                          "#f7f7f7"
                        ],
                        [
                          0.6,
                          "#e6f5d0"
                        ],
                        [
                          0.7,
                          "#b8e186"
                        ],
                        [
                          0.8,
                          "#7fbc41"
                        ],
                        [
                          0.9,
                          "#4d9221"
                        ],
                        [
                          1,
                          "#276419"
                        ]
                      ],
                      "sequential": [
                        [
                          0,
                          "#0d0887"
                        ],
                        [
                          0.1111111111111111,
                          "#46039f"
                        ],
                        [
                          0.2222222222222222,
                          "#7201a8"
                        ],
                        [
                          0.3333333333333333,
                          "#9c179e"
                        ],
                        [
                          0.4444444444444444,
                          "#bd3786"
                        ],
                        [
                          0.5555555555555556,
                          "#d8576b"
                        ],
                        [
                          0.6666666666666666,
                          "#ed7953"
                        ],
                        [
                          0.7777777777777778,
                          "#fb9f3a"
                        ],
                        [
                          0.8888888888888888,
                          "#fdca26"
                        ],
                        [
                          1,
                          "#f0f921"
                        ]
                      ],
                      "sequentialminus": [
                        [
                          0,
                          "#0d0887"
                        ],
                        [
                          0.1111111111111111,
                          "#46039f"
                        ],
                        [
                          0.2222222222222222,
                          "#7201a8"
                        ],
                        [
                          0.3333333333333333,
                          "#9c179e"
                        ],
                        [
                          0.4444444444444444,
                          "#bd3786"
                        ],
                        [
                          0.5555555555555556,
                          "#d8576b"
                        ],
                        [
                          0.6666666666666666,
                          "#ed7953"
                        ],
                        [
                          0.7777777777777778,
                          "#fb9f3a"
                        ],
                        [
                          0.8888888888888888,
                          "#fdca26"
                        ],
                        [
                          1,
                          "#f0f921"
                        ]
                      ]
                    },
                    "colorway": [
                      "#636efa",
                      "#EF553B",
                      "#00cc96",
                      "#ab63fa",
                      "#FFA15A",
                      "#19d3f3",
                      "#FF6692",
                      "#B6E880",
                      "#FF97FF",
                      "#FECB52"
                    ],
                    "font": {
                      "color": "#2a3f5f"
                    },
                    "geo": {
                      "bgcolor": "white",
                      "lakecolor": "white",
                      "landcolor": "white",
                      "showlakes": true,
                      "showland": true,
                      "subunitcolor": "#C8D4E3"
                    },
                    "hoverlabel": {
                      "align": "left"
                    },
                    "hovermode": "closest",
                    "mapbox": {
                      "style": "light"
                    },
                    "paper_bgcolor": "white",
                    "plot_bgcolor": "white",
                    "polar": {
                      "angularaxis": {
                        "gridcolor": "#EBF0F8",
                        "linecolor": "#EBF0F8",
                        "ticks": ""
                      },
                      "bgcolor": "white",
                      "radialaxis": {
                        "gridcolor": "#EBF0F8",
                        "linecolor": "#EBF0F8",
                        "ticks": ""
                      }
                    },
                    "scene": {
                      "xaxis": {
                        "backgroundcolor": "white",
                        "gridcolor": "#DFE8F3",
                        "gridwidth": 2,
                        "linecolor": "#EBF0F8",
                        "showbackground": true,
                        "ticks": "",
                        "zerolinecolor": "#EBF0F8"
                      },
                      "yaxis": {
                        "backgroundcolor": "white",
                        "gridcolor": "#DFE8F3",
                        "gridwidth": 2,
                        "linecolor": "#EBF0F8",
                        "showbackground": true,
                        "ticks": "",
                        "zerolinecolor": "#EBF0F8"
                      },
                      "zaxis": {
                        "backgroundcolor": "white",
                        "gridcolor": "#DFE8F3",
                        "gridwidth": 2,
                        "linecolor": "#EBF0F8",
                        "showbackground": true,
                        "ticks": "",
                        "zerolinecolor": "#EBF0F8"
                      }
                    },
                    "shapedefaults": {
                      "line": {
                        "color": "#2a3f5f"
                      }
                    },
                    "ternary": {
                      "aaxis": {
                        "gridcolor": "#DFE8F3",
                        "linecolor": "#A2B1C6",
                        "ticks": ""
                      },
                      "baxis": {
                        "gridcolor": "#DFE8F3",
                        "linecolor": "#A2B1C6",
                        "ticks": ""
                      },
                      "bgcolor": "white",
                      "caxis": {
                        "gridcolor": "#DFE8F3",
                        "linecolor": "#A2B1C6",
                        "ticks": ""
                      }
                    },
                    "title": {
                      "x": 0.05
                    },
                    "xaxis": {
                      "automargin": true,
                      "gridcolor": "#EBF0F8",
                      "linecolor": "#EBF0F8",
                      "ticks": "",
                      "title": {
                        "standoff": 15
                      },
                      "zerolinecolor": "#EBF0F8",
                      "zerolinewidth": 2
                    },
                    "yaxis": {
                      "automargin": true,
                      "gridcolor": "#EBF0F8",
                      "linecolor": "#EBF0F8",
                      "ticks": "",
                      "title": {
                        "standoff": 15
                      },
                      "zerolinecolor": "#EBF0F8",
                      "zerolinewidth": 2
                    }
                  }
                },
                "title": {
                  "text": "Select a Continent to View Top 10 Countries' Methane Emissions"
                },
                "updatemenus": [
                  {
                    "active": 0,
                    "buttons": [
                      {
                        "args": [
                          {
                            "visible": [
                              true,
                              true,
                              true,
                              true,
                              true,
                              true,
                              true,
                              true,
                              true,
                              true,
                              false,
                              false,
                              false,
                              false,
                              false,
                              false,
                              false,
                              false,
                              false,
                              false,
                              false,
                              false,
                              false,
                              false,
                              false,
                              false,
                              false,
                              false,
                              false,
                              false,
                              false,
                              false,
                              false,
                              false,
                              false,
                              false,
                              false,
                              false,
                              false,
                              false,
                              false,
                              false,
                              false,
                              false,
                              false,
                              false,
                              false,
                              false,
                              false,
                              false,
                              false,
                              false,
                              false,
                              false,
                              false,
                              false,
                              false,
                              false,
                              false,
                              false
                            ]
                          },
                          {
                            "title": "Top 10 Countries' Methane Emission in Africa (2000-2021)"
                          }
                        ],
                        "label": "Africa",
                        "method": "update"
                      },
                      {
                        "args": [
                          {
                            "visible": [
                              false,
                              false,
                              false,
                              false,
                              false,
                              false,
                              false,
                              false,
                              false,
                              false,
                              true,
                              true,
                              true,
                              true,
                              true,
                              true,
                              true,
                              true,
                              true,
                              true,
                              false,
                              false,
                              false,
                              false,
                              false,
                              false,
                              false,
                              false,
                              false,
                              false,
                              false,
                              false,
                              false,
                              false,
                              false,
                              false,
                              false,
                              false,
                              false,
                              false,
                              false,
                              false,
                              false,
                              false,
                              false,
                              false,
                              false,
                              false,
                              false,
                              false,
                              false,
                              false,
                              false,
                              false,
                              false,
                              false,
                              false,
                              false,
                              false,
                              false
                            ]
                          },
                          {
                            "title": "Top 10 Countries' Methane Emission in Asia (2000-2021)"
                          }
                        ],
                        "label": "Asia",
                        "method": "update"
                      },
                      {
                        "args": [
                          {
                            "visible": [
                              false,
                              false,
                              false,
                              false,
                              false,
                              false,
                              false,
                              false,
                              false,
                              false,
                              false,
                              false,
                              false,
                              false,
                              false,
                              false,
                              false,
                              false,
                              false,
                              false,
                              true,
                              true,
                              true,
                              true,
                              true,
                              true,
                              true,
                              true,
                              true,
                              true,
                              false,
                              false,
                              false,
                              false,
                              false,
                              false,
                              false,
                              false,
                              false,
                              false,
                              false,
                              false,
                              false,
                              false,
                              false,
                              false,
                              false,
                              false,
                              false,
                              false,
                              false,
                              false,
                              false,
                              false,
                              false,
                              false,
                              false,
                              false,
                              false,
                              false
                            ]
                          },
                          {
                            "title": "Top 10 Countries' Methane Emission in Europe (2000-2021)"
                          }
                        ],
                        "label": "Europe",
                        "method": "update"
                      },
                      {
                        "args": [
                          {
                            "visible": [
                              false,
                              false,
                              false,
                              false,
                              false,
                              false,
                              false,
                              false,
                              false,
                              false,
                              false,
                              false,
                              false,
                              false,
                              false,
                              false,
                              false,
                              false,
                              false,
                              false,
                              false,
                              false,
                              false,
                              false,
                              false,
                              false,
                              false,
                              false,
                              false,
                              false,
                              true,
                              true,
                              true,
                              true,
                              true,
                              true,
                              true,
                              true,
                              true,
                              true,
                              false,
                              false,
                              false,
                              false,
                              false,
                              false,
                              false,
                              false,
                              false,
                              false,
                              false,
                              false,
                              false,
                              false,
                              false,
                              false,
                              false,
                              false,
                              false,
                              false
                            ]
                          },
                          {
                            "title": "Top 10 Countries' Methane Emission in North America (2000-2021)"
                          }
                        ],
                        "label": "North America",
                        "method": "update"
                      },
                      {
                        "args": [
                          {
                            "visible": [
                              false,
                              false,
                              false,
                              false,
                              false,
                              false,
                              false,
                              false,
                              false,
                              false,
                              false,
                              false,
                              false,
                              false,
                              false,
                              false,
                              false,
                              false,
                              false,
                              false,
                              false,
                              false,
                              false,
                              false,
                              false,
                              false,
                              false,
                              false,
                              false,
                              false,
                              false,
                              false,
                              false,
                              false,
                              false,
                              false,
                              false,
                              false,
                              false,
                              false,
                              true,
                              true,
                              true,
                              true,
                              true,
                              true,
                              true,
                              true,
                              true,
                              true,
                              false,
                              false,
                              false,
                              false,
                              false,
                              false,
                              false,
                              false,
                              false,
                              false
                            ]
                          },
                          {
                            "title": "Top 10 Countries' Methane Emission in Oceania (2000-2021)"
                          }
                        ],
                        "label": "Oceania",
                        "method": "update"
                      },
                      {
                        "args": [
                          {
                            "visible": [
                              false,
                              false,
                              false,
                              false,
                              false,
                              false,
                              false,
                              false,
                              false,
                              false,
                              false,
                              false,
                              false,
                              false,
                              false,
                              false,
                              false,
                              false,
                              false,
                              false,
                              false,
                              false,
                              false,
                              false,
                              false,
                              false,
                              false,
                              false,
                              false,
                              false,
                              false,
                              false,
                              false,
                              false,
                              false,
                              false,
                              false,
                              false,
                              false,
                              false,
                              false,
                              false,
                              false,
                              false,
                              false,
                              false,
                              false,
                              false,
                              false,
                              false,
                              true,
                              true,
                              true,
                              true,
                              true,
                              true,
                              true,
                              true,
                              true,
                              true
                            ]
                          },
                          {
                            "title": "Top 10 Countries' Methane Emission in South America (2000-2021)"
                          }
                        ],
                        "label": "South America",
                        "method": "update"
                      }
                    ],
                    "x": 0.95,
                    "xanchor": "left",
                    "y": 1.28,
                    "yanchor": "top"
                  }
                ],
                "xaxis": {
                  "title": {
                    "text": "Year"
                  }
                },
                "yaxis": {
                  "title": {
                    "text": "Methane Emission Value (kt)"
                  }
                }
              }
            }
          },
          "metadata": {},
          "output_type": "display_data"
        }
      ],
      "source": [
        "# Group by Continent, Area, and Year, and average the 'Value'\n",
        "grouped = df.groupby(['Continent', 'Area', 'Year'])['Value'].mean().reset_index()\n",
        "\n",
        "# Find the top 10 countries per continent based on total Value\n",
        "top_countries_per_continent = grouped.groupby(['Continent', 'Area'])['Value'].mean().reset_index()\n",
        "top_10_countries = top_countries_per_continent.groupby('Continent').apply(lambda x: x.nlargest(10, 'Value')).reset_index(drop=True)\n",
        "\n",
        "# Create a figure with dropdown\n",
        "fig = go.Figure()\n",
        "\n",
        "# Create dropdown options for each continent\n",
        "for continent in top_10_countries['Continent'].unique():\n",
        "    top_countries = top_10_countries[top_10_countries['Continent'] == continent]['Area'].values\n",
        "    continent_data = grouped[(grouped['Continent'] == continent) & (grouped['Area'].isin(top_countries))]\n",
        "\n",
        "    # Add trace for each country in the selected continent\n",
        "    for country in top_countries:\n",
        "        country_data = continent_data[continent_data['Area'] == country]\n",
        "        fig.add_trace(go.Scatter(x=country_data['Year'], y=country_data['Value'], mode='lines+markers',\n",
        "                                 name=f'{country} - {continent}',\n",
        "                                 visible=False))  # Initially set all traces to invisible\n",
        "\n",
        "# Add visibility toggle through dropdown buttons\n",
        "buttons = []\n",
        "for i, continent in enumerate(top_10_countries['Continent'].unique()):\n",
        "    visible = [False] * len(fig.data)\n",
        "    start_idx = i * 10  # Each continent has 10 countries\n",
        "    visible[start_idx:start_idx + 10] = [True] * 10  # Show only the countries for the selected continent\n",
        "\n",
        "    buttons.append(dict(label=continent,\n",
        "                        method=\"update\",\n",
        "                        args=[{\"visible\": visible},\n",
        "                              {\"title\": f\"Top 10 Countries' Methane Emission in {continent} (2000-2021)\"}]))\n",
        "\n",
        "# Update layout with dropdown menu\n",
        "fig.update_layout(\n",
        "    updatemenus=[dict(active=0,\n",
        "                      buttons=buttons,\n",
        "                      x=0.95, y=1.28,  # Position the dropdown\n",
        "                      xanchor='left', yanchor='top')],\n",
        "    title=\"Select a Continent to View Top 10 Countries' Methane Emissions\",\n",
        "    xaxis_title=\"Year\",\n",
        "    yaxis_title=\"Methane Emission Value (kt)\",\n",
        "    template=\"plotly_white\"\n",
        ")\n",
        "\n",
        "# Make the first continent (default) visible\n",
        "for i in range(10):\n",
        "    fig.data[i].visible = True\n",
        "\n",
        "# Show the interactive plot\n",
        "fig.show()"
      ]
    },
    {
      "cell_type": "code",
      "execution_count": 26,
      "metadata": {
        "colab": {
          "base_uri": "https://localhost:8080/"
        },
        "id": "V0zeOREkyLO7",
        "outputId": "96e69e43-9754-423f-bcde-414a2eb3baad"
      },
      "outputs": [
        {
          "name": "stdout",
          "output_type": "stream",
          "text": [
            "       Continent                      Area         Value\n",
            "0         Africa                  Ethiopia   1761.821245\n",
            "1           Asia                     India   7042.418559\n",
            "2         Europe        Russian Federation   1777.527877\n",
            "3  North America  United States of America   6207.610786\n",
            "4        Oceania                 Australia   1779.620836\n",
            "5  South America                    Brazil  12055.168623\n",
            "\n",
            "\n"
          ]
        }
      ],
      "source": [
        "#  @title To obtain top 1 and low 1 country per continent\n",
        "\n",
        "# Group by Continent, Area, and Year, and calculate the total emission ('Value')\n",
        "grouped = df.groupby(['Continent', 'Area', 'Year'])['Value'].mean().reset_index()\n",
        "\n",
        "country_per_continent = grouped.groupby(['Continent', 'Area'])['Value'].mean().reset_index()\n",
        "\n",
        "# Get the top country for each continent (adjusting to select one top country)\n",
        "top_1_country = country_per_continent.groupby('Continent').apply(lambda x: x.nlargest(1, 'Value')).reset_index(drop=True)\n",
        "\n",
        "# Get the low country for each continent (adjusting to select one low country)\n",
        "low_1_country = country_per_continent.groupby('Continent').apply(lambda x: x.nsmallest(1, 'Value')).reset_index(drop=True)\n",
        "\n",
        "# Display the top 1 country with their continent\n",
        "print(top_1_country[['Continent', 'Area', 'Value']])\n",
        "\n",
        "print('\\n')\n",
        "\n",
        "# Print the low 10 country with their continent\n",
        "# print(low_1_country[['Continent', 'Area', 'Value']])"
      ]
    },
    {
      "cell_type": "code",
      "execution_count": 27,
      "metadata": {
        "colab": {
          "base_uri": "https://localhost:8080/",
          "height": 542
        },
        "id": "TicNHaszyzAm",
        "outputId": "d0d144b1-20f7-43a6-d1d1-ae3664b996b5"
      },
      "outputs": [
        {
          "data": {
            "application/vnd.plotly.v1+json": {
              "config": {
                "plotlyServerURL": "https://plot.ly"
              },
              "data": [
                {
                  "alignmentgroup": "True",
                  "customdata": [
                    [
                      "Africa"
                    ]
                  ],
                  "hovertemplate": "Continent=%{customdata[0]}<br>Country=%{x}<br>Emission Value (kt)=%{y}<extra></extra>",
                  "legendgroup": "Africa",
                  "marker": {
                    "color": "#636efa",
                    "pattern": {
                      "shape": ""
                    }
                  },
                  "name": "Africa",
                  "offsetgroup": "Africa",
                  "orientation": "v",
                  "showlegend": true,
                  "textposition": "auto",
                  "type": "bar",
                  "x": [
                    "Ethiopia"
                  ],
                  "xaxis": "x",
                  "y": [
                    1761.8212454545455
                  ],
                  "yaxis": "y"
                },
                {
                  "alignmentgroup": "True",
                  "customdata": [
                    [
                      "Asia"
                    ]
                  ],
                  "hovertemplate": "Continent=%{customdata[0]}<br>Country=%{x}<br>Emission Value (kt)=%{y}<extra></extra>",
                  "legendgroup": "Asia",
                  "marker": {
                    "color": "#EF553B",
                    "pattern": {
                      "shape": ""
                    }
                  },
                  "name": "Asia",
                  "offsetgroup": "Asia",
                  "orientation": "v",
                  "showlegend": true,
                  "textposition": "auto",
                  "type": "bar",
                  "x": [
                    "India"
                  ],
                  "xaxis": "x",
                  "y": [
                    7042.418559090909
                  ],
                  "yaxis": "y"
                },
                {
                  "alignmentgroup": "True",
                  "customdata": [
                    [
                      "Europe"
                    ]
                  ],
                  "hovertemplate": "Continent=%{customdata[0]}<br>Country=%{x}<br>Emission Value (kt)=%{y}<extra></extra>",
                  "legendgroup": "Europe",
                  "marker": {
                    "color": "#00cc96",
                    "pattern": {
                      "shape": ""
                    }
                  },
                  "name": "Europe",
                  "offsetgroup": "Europe",
                  "orientation": "v",
                  "showlegend": true,
                  "textposition": "auto",
                  "type": "bar",
                  "x": [
                    "Russian Federation"
                  ],
                  "xaxis": "x",
                  "y": [
                    1777.5278772727272
                  ],
                  "yaxis": "y"
                },
                {
                  "alignmentgroup": "True",
                  "customdata": [
                    [
                      "North America"
                    ]
                  ],
                  "hovertemplate": "Continent=%{customdata[0]}<br>Country=%{x}<br>Emission Value (kt)=%{y}<extra></extra>",
                  "legendgroup": "North America",
                  "marker": {
                    "color": "#ab63fa",
                    "pattern": {
                      "shape": ""
                    }
                  },
                  "name": "North America",
                  "offsetgroup": "North America",
                  "orientation": "v",
                  "showlegend": true,
                  "textposition": "auto",
                  "type": "bar",
                  "x": [
                    "United States of America"
                  ],
                  "xaxis": "x",
                  "y": [
                    6207.610786363636
                  ],
                  "yaxis": "y"
                },
                {
                  "alignmentgroup": "True",
                  "customdata": [
                    [
                      "Oceania"
                    ]
                  ],
                  "hovertemplate": "Continent=%{customdata[0]}<br>Country=%{x}<br>Emission Value (kt)=%{y}<extra></extra>",
                  "legendgroup": "Oceania",
                  "marker": {
                    "color": "#FFA15A",
                    "pattern": {
                      "shape": ""
                    }
                  },
                  "name": "Oceania",
                  "offsetgroup": "Oceania",
                  "orientation": "v",
                  "showlegend": true,
                  "textposition": "auto",
                  "type": "bar",
                  "x": [
                    "Australia"
                  ],
                  "xaxis": "x",
                  "y": [
                    1779.6208363636363
                  ],
                  "yaxis": "y"
                },
                {
                  "alignmentgroup": "True",
                  "customdata": [
                    [
                      "South America"
                    ]
                  ],
                  "hovertemplate": "Continent=%{customdata[0]}<br>Country=%{x}<br>Emission Value (kt)=%{y}<extra></extra>",
                  "legendgroup": "South America",
                  "marker": {
                    "color": "#19d3f3",
                    "pattern": {
                      "shape": ""
                    }
                  },
                  "name": "South America",
                  "offsetgroup": "South America",
                  "orientation": "v",
                  "showlegend": true,
                  "textposition": "auto",
                  "type": "bar",
                  "x": [
                    "Brazil"
                  ],
                  "xaxis": "x",
                  "y": [
                    12055.168622727273
                  ],
                  "yaxis": "y"
                }
              ],
              "layout": {
                "barmode": "relative",
                "legend": {
                  "title": {
                    "text": "Continent"
                  },
                  "tracegroupgap": 0
                },
                "template": {
                  "data": {
                    "bar": [
                      {
                        "error_x": {
                          "color": "#2a3f5f"
                        },
                        "error_y": {
                          "color": "#2a3f5f"
                        },
                        "marker": {
                          "line": {
                            "color": "#E5ECF6",
                            "width": 0.5
                          },
                          "pattern": {
                            "fillmode": "overlay",
                            "size": 10,
                            "solidity": 0.2
                          }
                        },
                        "type": "bar"
                      }
                    ],
                    "barpolar": [
                      {
                        "marker": {
                          "line": {
                            "color": "#E5ECF6",
                            "width": 0.5
                          },
                          "pattern": {
                            "fillmode": "overlay",
                            "size": 10,
                            "solidity": 0.2
                          }
                        },
                        "type": "barpolar"
                      }
                    ],
                    "carpet": [
                      {
                        "aaxis": {
                          "endlinecolor": "#2a3f5f",
                          "gridcolor": "white",
                          "linecolor": "white",
                          "minorgridcolor": "white",
                          "startlinecolor": "#2a3f5f"
                        },
                        "baxis": {
                          "endlinecolor": "#2a3f5f",
                          "gridcolor": "white",
                          "linecolor": "white",
                          "minorgridcolor": "white",
                          "startlinecolor": "#2a3f5f"
                        },
                        "type": "carpet"
                      }
                    ],
                    "choropleth": [
                      {
                        "colorbar": {
                          "outlinewidth": 0,
                          "ticks": ""
                        },
                        "type": "choropleth"
                      }
                    ],
                    "contour": [
                      {
                        "colorbar": {
                          "outlinewidth": 0,
                          "ticks": ""
                        },
                        "colorscale": [
                          [
                            0,
                            "#0d0887"
                          ],
                          [
                            0.1111111111111111,
                            "#46039f"
                          ],
                          [
                            0.2222222222222222,
                            "#7201a8"
                          ],
                          [
                            0.3333333333333333,
                            "#9c179e"
                          ],
                          [
                            0.4444444444444444,
                            "#bd3786"
                          ],
                          [
                            0.5555555555555556,
                            "#d8576b"
                          ],
                          [
                            0.6666666666666666,
                            "#ed7953"
                          ],
                          [
                            0.7777777777777778,
                            "#fb9f3a"
                          ],
                          [
                            0.8888888888888888,
                            "#fdca26"
                          ],
                          [
                            1,
                            "#f0f921"
                          ]
                        ],
                        "type": "contour"
                      }
                    ],
                    "contourcarpet": [
                      {
                        "colorbar": {
                          "outlinewidth": 0,
                          "ticks": ""
                        },
                        "type": "contourcarpet"
                      }
                    ],
                    "heatmap": [
                      {
                        "colorbar": {
                          "outlinewidth": 0,
                          "ticks": ""
                        },
                        "colorscale": [
                          [
                            0,
                            "#0d0887"
                          ],
                          [
                            0.1111111111111111,
                            "#46039f"
                          ],
                          [
                            0.2222222222222222,
                            "#7201a8"
                          ],
                          [
                            0.3333333333333333,
                            "#9c179e"
                          ],
                          [
                            0.4444444444444444,
                            "#bd3786"
                          ],
                          [
                            0.5555555555555556,
                            "#d8576b"
                          ],
                          [
                            0.6666666666666666,
                            "#ed7953"
                          ],
                          [
                            0.7777777777777778,
                            "#fb9f3a"
                          ],
                          [
                            0.8888888888888888,
                            "#fdca26"
                          ],
                          [
                            1,
                            "#f0f921"
                          ]
                        ],
                        "type": "heatmap"
                      }
                    ],
                    "heatmapgl": [
                      {
                        "colorbar": {
                          "outlinewidth": 0,
                          "ticks": ""
                        },
                        "colorscale": [
                          [
                            0,
                            "#0d0887"
                          ],
                          [
                            0.1111111111111111,
                            "#46039f"
                          ],
                          [
                            0.2222222222222222,
                            "#7201a8"
                          ],
                          [
                            0.3333333333333333,
                            "#9c179e"
                          ],
                          [
                            0.4444444444444444,
                            "#bd3786"
                          ],
                          [
                            0.5555555555555556,
                            "#d8576b"
                          ],
                          [
                            0.6666666666666666,
                            "#ed7953"
                          ],
                          [
                            0.7777777777777778,
                            "#fb9f3a"
                          ],
                          [
                            0.8888888888888888,
                            "#fdca26"
                          ],
                          [
                            1,
                            "#f0f921"
                          ]
                        ],
                        "type": "heatmapgl"
                      }
                    ],
                    "histogram": [
                      {
                        "marker": {
                          "pattern": {
                            "fillmode": "overlay",
                            "size": 10,
                            "solidity": 0.2
                          }
                        },
                        "type": "histogram"
                      }
                    ],
                    "histogram2d": [
                      {
                        "colorbar": {
                          "outlinewidth": 0,
                          "ticks": ""
                        },
                        "colorscale": [
                          [
                            0,
                            "#0d0887"
                          ],
                          [
                            0.1111111111111111,
                            "#46039f"
                          ],
                          [
                            0.2222222222222222,
                            "#7201a8"
                          ],
                          [
                            0.3333333333333333,
                            "#9c179e"
                          ],
                          [
                            0.4444444444444444,
                            "#bd3786"
                          ],
                          [
                            0.5555555555555556,
                            "#d8576b"
                          ],
                          [
                            0.6666666666666666,
                            "#ed7953"
                          ],
                          [
                            0.7777777777777778,
                            "#fb9f3a"
                          ],
                          [
                            0.8888888888888888,
                            "#fdca26"
                          ],
                          [
                            1,
                            "#f0f921"
                          ]
                        ],
                        "type": "histogram2d"
                      }
                    ],
                    "histogram2dcontour": [
                      {
                        "colorbar": {
                          "outlinewidth": 0,
                          "ticks": ""
                        },
                        "colorscale": [
                          [
                            0,
                            "#0d0887"
                          ],
                          [
                            0.1111111111111111,
                            "#46039f"
                          ],
                          [
                            0.2222222222222222,
                            "#7201a8"
                          ],
                          [
                            0.3333333333333333,
                            "#9c179e"
                          ],
                          [
                            0.4444444444444444,
                            "#bd3786"
                          ],
                          [
                            0.5555555555555556,
                            "#d8576b"
                          ],
                          [
                            0.6666666666666666,
                            "#ed7953"
                          ],
                          [
                            0.7777777777777778,
                            "#fb9f3a"
                          ],
                          [
                            0.8888888888888888,
                            "#fdca26"
                          ],
                          [
                            1,
                            "#f0f921"
                          ]
                        ],
                        "type": "histogram2dcontour"
                      }
                    ],
                    "mesh3d": [
                      {
                        "colorbar": {
                          "outlinewidth": 0,
                          "ticks": ""
                        },
                        "type": "mesh3d"
                      }
                    ],
                    "parcoords": [
                      {
                        "line": {
                          "colorbar": {
                            "outlinewidth": 0,
                            "ticks": ""
                          }
                        },
                        "type": "parcoords"
                      }
                    ],
                    "pie": [
                      {
                        "automargin": true,
                        "type": "pie"
                      }
                    ],
                    "scatter": [
                      {
                        "fillpattern": {
                          "fillmode": "overlay",
                          "size": 10,
                          "solidity": 0.2
                        },
                        "type": "scatter"
                      }
                    ],
                    "scatter3d": [
                      {
                        "line": {
                          "colorbar": {
                            "outlinewidth": 0,
                            "ticks": ""
                          }
                        },
                        "marker": {
                          "colorbar": {
                            "outlinewidth": 0,
                            "ticks": ""
                          }
                        },
                        "type": "scatter3d"
                      }
                    ],
                    "scattercarpet": [
                      {
                        "marker": {
                          "colorbar": {
                            "outlinewidth": 0,
                            "ticks": ""
                          }
                        },
                        "type": "scattercarpet"
                      }
                    ],
                    "scattergeo": [
                      {
                        "marker": {
                          "colorbar": {
                            "outlinewidth": 0,
                            "ticks": ""
                          }
                        },
                        "type": "scattergeo"
                      }
                    ],
                    "scattergl": [
                      {
                        "marker": {
                          "colorbar": {
                            "outlinewidth": 0,
                            "ticks": ""
                          }
                        },
                        "type": "scattergl"
                      }
                    ],
                    "scattermapbox": [
                      {
                        "marker": {
                          "colorbar": {
                            "outlinewidth": 0,
                            "ticks": ""
                          }
                        },
                        "type": "scattermapbox"
                      }
                    ],
                    "scatterpolar": [
                      {
                        "marker": {
                          "colorbar": {
                            "outlinewidth": 0,
                            "ticks": ""
                          }
                        },
                        "type": "scatterpolar"
                      }
                    ],
                    "scatterpolargl": [
                      {
                        "marker": {
                          "colorbar": {
                            "outlinewidth": 0,
                            "ticks": ""
                          }
                        },
                        "type": "scatterpolargl"
                      }
                    ],
                    "scatterternary": [
                      {
                        "marker": {
                          "colorbar": {
                            "outlinewidth": 0,
                            "ticks": ""
                          }
                        },
                        "type": "scatterternary"
                      }
                    ],
                    "surface": [
                      {
                        "colorbar": {
                          "outlinewidth": 0,
                          "ticks": ""
                        },
                        "colorscale": [
                          [
                            0,
                            "#0d0887"
                          ],
                          [
                            0.1111111111111111,
                            "#46039f"
                          ],
                          [
                            0.2222222222222222,
                            "#7201a8"
                          ],
                          [
                            0.3333333333333333,
                            "#9c179e"
                          ],
                          [
                            0.4444444444444444,
                            "#bd3786"
                          ],
                          [
                            0.5555555555555556,
                            "#d8576b"
                          ],
                          [
                            0.6666666666666666,
                            "#ed7953"
                          ],
                          [
                            0.7777777777777778,
                            "#fb9f3a"
                          ],
                          [
                            0.8888888888888888,
                            "#fdca26"
                          ],
                          [
                            1,
                            "#f0f921"
                          ]
                        ],
                        "type": "surface"
                      }
                    ],
                    "table": [
                      {
                        "cells": {
                          "fill": {
                            "color": "#EBF0F8"
                          },
                          "line": {
                            "color": "white"
                          }
                        },
                        "header": {
                          "fill": {
                            "color": "#C8D4E3"
                          },
                          "line": {
                            "color": "white"
                          }
                        },
                        "type": "table"
                      }
                    ]
                  },
                  "layout": {
                    "annotationdefaults": {
                      "arrowcolor": "#2a3f5f",
                      "arrowhead": 0,
                      "arrowwidth": 1
                    },
                    "autotypenumbers": "strict",
                    "coloraxis": {
                      "colorbar": {
                        "outlinewidth": 0,
                        "ticks": ""
                      }
                    },
                    "colorscale": {
                      "diverging": [
                        [
                          0,
                          "#8e0152"
                        ],
                        [
                          0.1,
                          "#c51b7d"
                        ],
                        [
                          0.2,
                          "#de77ae"
                        ],
                        [
                          0.3,
                          "#f1b6da"
                        ],
                        [
                          0.4,
                          "#fde0ef"
                        ],
                        [
                          0.5,
                          "#f7f7f7"
                        ],
                        [
                          0.6,
                          "#e6f5d0"
                        ],
                        [
                          0.7,
                          "#b8e186"
                        ],
                        [
                          0.8,
                          "#7fbc41"
                        ],
                        [
                          0.9,
                          "#4d9221"
                        ],
                        [
                          1,
                          "#276419"
                        ]
                      ],
                      "sequential": [
                        [
                          0,
                          "#0d0887"
                        ],
                        [
                          0.1111111111111111,
                          "#46039f"
                        ],
                        [
                          0.2222222222222222,
                          "#7201a8"
                        ],
                        [
                          0.3333333333333333,
                          "#9c179e"
                        ],
                        [
                          0.4444444444444444,
                          "#bd3786"
                        ],
                        [
                          0.5555555555555556,
                          "#d8576b"
                        ],
                        [
                          0.6666666666666666,
                          "#ed7953"
                        ],
                        [
                          0.7777777777777778,
                          "#fb9f3a"
                        ],
                        [
                          0.8888888888888888,
                          "#fdca26"
                        ],
                        [
                          1,
                          "#f0f921"
                        ]
                      ],
                      "sequentialminus": [
                        [
                          0,
                          "#0d0887"
                        ],
                        [
                          0.1111111111111111,
                          "#46039f"
                        ],
                        [
                          0.2222222222222222,
                          "#7201a8"
                        ],
                        [
                          0.3333333333333333,
                          "#9c179e"
                        ],
                        [
                          0.4444444444444444,
                          "#bd3786"
                        ],
                        [
                          0.5555555555555556,
                          "#d8576b"
                        ],
                        [
                          0.6666666666666666,
                          "#ed7953"
                        ],
                        [
                          0.7777777777777778,
                          "#fb9f3a"
                        ],
                        [
                          0.8888888888888888,
                          "#fdca26"
                        ],
                        [
                          1,
                          "#f0f921"
                        ]
                      ]
                    },
                    "colorway": [
                      "#636efa",
                      "#EF553B",
                      "#00cc96",
                      "#ab63fa",
                      "#FFA15A",
                      "#19d3f3",
                      "#FF6692",
                      "#B6E880",
                      "#FF97FF",
                      "#FECB52"
                    ],
                    "font": {
                      "color": "#2a3f5f"
                    },
                    "geo": {
                      "bgcolor": "white",
                      "lakecolor": "white",
                      "landcolor": "#E5ECF6",
                      "showlakes": true,
                      "showland": true,
                      "subunitcolor": "white"
                    },
                    "hoverlabel": {
                      "align": "left"
                    },
                    "hovermode": "closest",
                    "mapbox": {
                      "style": "light"
                    },
                    "paper_bgcolor": "white",
                    "plot_bgcolor": "#E5ECF6",
                    "polar": {
                      "angularaxis": {
                        "gridcolor": "white",
                        "linecolor": "white",
                        "ticks": ""
                      },
                      "bgcolor": "#E5ECF6",
                      "radialaxis": {
                        "gridcolor": "white",
                        "linecolor": "white",
                        "ticks": ""
                      }
                    },
                    "scene": {
                      "xaxis": {
                        "backgroundcolor": "#E5ECF6",
                        "gridcolor": "white",
                        "gridwidth": 2,
                        "linecolor": "white",
                        "showbackground": true,
                        "ticks": "",
                        "zerolinecolor": "white"
                      },
                      "yaxis": {
                        "backgroundcolor": "#E5ECF6",
                        "gridcolor": "white",
                        "gridwidth": 2,
                        "linecolor": "white",
                        "showbackground": true,
                        "ticks": "",
                        "zerolinecolor": "white"
                      },
                      "zaxis": {
                        "backgroundcolor": "#E5ECF6",
                        "gridcolor": "white",
                        "gridwidth": 2,
                        "linecolor": "white",
                        "showbackground": true,
                        "ticks": "",
                        "zerolinecolor": "white"
                      }
                    },
                    "shapedefaults": {
                      "line": {
                        "color": "#2a3f5f"
                      }
                    },
                    "ternary": {
                      "aaxis": {
                        "gridcolor": "white",
                        "linecolor": "white",
                        "ticks": ""
                      },
                      "baxis": {
                        "gridcolor": "white",
                        "linecolor": "white",
                        "ticks": ""
                      },
                      "bgcolor": "#E5ECF6",
                      "caxis": {
                        "gridcolor": "white",
                        "linecolor": "white",
                        "ticks": ""
                      }
                    },
                    "title": {
                      "x": 0.05
                    },
                    "xaxis": {
                      "automargin": true,
                      "gridcolor": "white",
                      "linecolor": "white",
                      "ticks": "",
                      "title": {
                        "standoff": 15
                      },
                      "zerolinecolor": "white",
                      "zerolinewidth": 2
                    },
                    "yaxis": {
                      "automargin": true,
                      "gridcolor": "white",
                      "linecolor": "white",
                      "ticks": "",
                      "title": {
                        "standoff": 15
                      },
                      "zerolinecolor": "white",
                      "zerolinewidth": 2
                    }
                  }
                },
                "title": {
                  "text": "Top Emission Country per Continent"
                },
                "xaxis": {
                  "anchor": "y",
                  "domain": [
                    0,
                    1
                  ],
                  "title": {
                    "text": "Country"
                  }
                },
                "yaxis": {
                  "anchor": "x",
                  "domain": [
                    0,
                    1
                  ],
                  "title": {
                    "text": "Emission Value (kt)"
                  }
                }
              }
            }
          },
          "metadata": {},
          "output_type": "display_data"
        }
      ],
      "source": [
        "# @title Top Emission Country per Continent\n",
        "\n",
        "# Plot the data using Plotly Express\n",
        "fig = px.bar(top_1_country, x='Area', y='Value', color='Continent',\n",
        "             title='Top Emission Country per Continent',\n",
        "             labels={'Value': 'Emission Value (kt)', 'Area': 'Country'},\n",
        "             hover_data=['Continent'])\n",
        "\n",
        "# Show the plot\n",
        "fig.show()"
      ]
    },
    {
      "cell_type": "code",
      "execution_count": 28,
      "metadata": {
        "colab": {
          "base_uri": "https://localhost:8080/",
          "height": 542
        },
        "id": "xgQ8ak9P5GhJ",
        "outputId": "f0ae2d8a-e1bf-4171-bb85-83b3b34d9589"
      },
      "outputs": [
        {
          "data": {
            "application/vnd.plotly.v1+json": {
              "config": {
                "plotlyServerURL": "https://plot.ly"
              },
              "data": [
                {
                  "alignmentgroup": "True",
                  "customdata": [
                    [
                      "Africa"
                    ]
                  ],
                  "hovertemplate": "Continent=%{customdata[0]}<br>Country=%{x}<br>Emission Value (kt)=%{y}<extra></extra>",
                  "legendgroup": "Africa",
                  "marker": {
                    "color": "#636efa",
                    "pattern": {
                      "shape": ""
                    }
                  },
                  "name": "Africa",
                  "offsetgroup": "Africa",
                  "orientation": "v",
                  "showlegend": true,
                  "textposition": "auto",
                  "type": "bar",
                  "x": [
                    "Seychelles"
                  ],
                  "xaxis": "x",
                  "y": [
                    0.022568181818181817
                  ],
                  "yaxis": "y"
                },
                {
                  "alignmentgroup": "True",
                  "customdata": [
                    [
                      "Asia"
                    ]
                  ],
                  "hovertemplate": "Continent=%{customdata[0]}<br>Country=%{x}<br>Emission Value (kt)=%{y}<extra></extra>",
                  "legendgroup": "Asia",
                  "marker": {
                    "color": "#EF553B",
                    "pattern": {
                      "shape": ""
                    }
                  },
                  "name": "Asia",
                  "offsetgroup": "Asia",
                  "orientation": "v",
                  "showlegend": true,
                  "textposition": "auto",
                  "type": "bar",
                  "x": [
                    "Singapore"
                  ],
                  "xaxis": "x",
                  "y": [
                    0.00999090909090909
                  ],
                  "yaxis": "y"
                },
                {
                  "alignmentgroup": "True",
                  "customdata": [
                    [
                      "Europe"
                    ]
                  ],
                  "hovertemplate": "Continent=%{customdata[0]}<br>Country=%{x}<br>Emission Value (kt)=%{y}<extra></extra>",
                  "legendgroup": "Europe",
                  "marker": {
                    "color": "#00cc96",
                    "pattern": {
                      "shape": ""
                    }
                  },
                  "name": "Europe",
                  "offsetgroup": "Europe",
                  "orientation": "v",
                  "showlegend": true,
                  "textposition": "auto",
                  "type": "bar",
                  "x": [
                    "Faroe Islands"
                  ],
                  "xaxis": "x",
                  "y": [
                    0.1772
                  ],
                  "yaxis": "y"
                },
                {
                  "alignmentgroup": "True",
                  "customdata": [
                    [
                      "North America"
                    ]
                  ],
                  "hovertemplate": "Continent=%{customdata[0]}<br>Country=%{x}<br>Emission Value (kt)=%{y}<extra></extra>",
                  "legendgroup": "North America",
                  "marker": {
                    "color": "#ab63fa",
                    "pattern": {
                      "shape": ""
                    }
                  },
                  "name": "North America",
                  "offsetgroup": "North America",
                  "orientation": "v",
                  "showlegend": true,
                  "textposition": "auto",
                  "type": "bar",
                  "x": [
                    "Bahamas"
                  ],
                  "xaxis": "x",
                  "y": [
                    0.053231818181818186
                  ],
                  "yaxis": "y"
                },
                {
                  "alignmentgroup": "True",
                  "customdata": [
                    [
                      "Oceania"
                    ]
                  ],
                  "hovertemplate": "Continent=%{customdata[0]}<br>Country=%{x}<br>Emission Value (kt)=%{y}<extra></extra>",
                  "legendgroup": "Oceania",
                  "marker": {
                    "color": "#FFA15A",
                    "pattern": {
                      "shape": ""
                    }
                  },
                  "name": "Oceania",
                  "offsetgroup": "Oceania",
                  "orientation": "v",
                  "showlegend": true,
                  "textposition": "auto",
                  "type": "bar",
                  "x": [
                    "Cook Islands"
                  ],
                  "xaxis": "x",
                  "y": [
                    0.00940909090909091
                  ],
                  "yaxis": "y"
                },
                {
                  "alignmentgroup": "True",
                  "customdata": [
                    [
                      "South America"
                    ]
                  ],
                  "hovertemplate": "Continent=%{customdata[0]}<br>Country=%{x}<br>Emission Value (kt)=%{y}<extra></extra>",
                  "legendgroup": "South America",
                  "marker": {
                    "color": "#19d3f3",
                    "pattern": {
                      "shape": ""
                    }
                  },
                  "name": "South America",
                  "offsetgroup": "South America",
                  "orientation": "v",
                  "showlegend": true,
                  "textposition": "auto",
                  "type": "bar",
                  "x": [
                    "French Guiana"
                  ],
                  "xaxis": "x",
                  "y": [
                    0.1942818181818182
                  ],
                  "yaxis": "y"
                }
              ],
              "layout": {
                "barmode": "relative",
                "legend": {
                  "title": {
                    "text": "Continent"
                  },
                  "tracegroupgap": 0
                },
                "template": {
                  "data": {
                    "bar": [
                      {
                        "error_x": {
                          "color": "#2a3f5f"
                        },
                        "error_y": {
                          "color": "#2a3f5f"
                        },
                        "marker": {
                          "line": {
                            "color": "#E5ECF6",
                            "width": 0.5
                          },
                          "pattern": {
                            "fillmode": "overlay",
                            "size": 10,
                            "solidity": 0.2
                          }
                        },
                        "type": "bar"
                      }
                    ],
                    "barpolar": [
                      {
                        "marker": {
                          "line": {
                            "color": "#E5ECF6",
                            "width": 0.5
                          },
                          "pattern": {
                            "fillmode": "overlay",
                            "size": 10,
                            "solidity": 0.2
                          }
                        },
                        "type": "barpolar"
                      }
                    ],
                    "carpet": [
                      {
                        "aaxis": {
                          "endlinecolor": "#2a3f5f",
                          "gridcolor": "white",
                          "linecolor": "white",
                          "minorgridcolor": "white",
                          "startlinecolor": "#2a3f5f"
                        },
                        "baxis": {
                          "endlinecolor": "#2a3f5f",
                          "gridcolor": "white",
                          "linecolor": "white",
                          "minorgridcolor": "white",
                          "startlinecolor": "#2a3f5f"
                        },
                        "type": "carpet"
                      }
                    ],
                    "choropleth": [
                      {
                        "colorbar": {
                          "outlinewidth": 0,
                          "ticks": ""
                        },
                        "type": "choropleth"
                      }
                    ],
                    "contour": [
                      {
                        "colorbar": {
                          "outlinewidth": 0,
                          "ticks": ""
                        },
                        "colorscale": [
                          [
                            0,
                            "#0d0887"
                          ],
                          [
                            0.1111111111111111,
                            "#46039f"
                          ],
                          [
                            0.2222222222222222,
                            "#7201a8"
                          ],
                          [
                            0.3333333333333333,
                            "#9c179e"
                          ],
                          [
                            0.4444444444444444,
                            "#bd3786"
                          ],
                          [
                            0.5555555555555556,
                            "#d8576b"
                          ],
                          [
                            0.6666666666666666,
                            "#ed7953"
                          ],
                          [
                            0.7777777777777778,
                            "#fb9f3a"
                          ],
                          [
                            0.8888888888888888,
                            "#fdca26"
                          ],
                          [
                            1,
                            "#f0f921"
                          ]
                        ],
                        "type": "contour"
                      }
                    ],
                    "contourcarpet": [
                      {
                        "colorbar": {
                          "outlinewidth": 0,
                          "ticks": ""
                        },
                        "type": "contourcarpet"
                      }
                    ],
                    "heatmap": [
                      {
                        "colorbar": {
                          "outlinewidth": 0,
                          "ticks": ""
                        },
                        "colorscale": [
                          [
                            0,
                            "#0d0887"
                          ],
                          [
                            0.1111111111111111,
                            "#46039f"
                          ],
                          [
                            0.2222222222222222,
                            "#7201a8"
                          ],
                          [
                            0.3333333333333333,
                            "#9c179e"
                          ],
                          [
                            0.4444444444444444,
                            "#bd3786"
                          ],
                          [
                            0.5555555555555556,
                            "#d8576b"
                          ],
                          [
                            0.6666666666666666,
                            "#ed7953"
                          ],
                          [
                            0.7777777777777778,
                            "#fb9f3a"
                          ],
                          [
                            0.8888888888888888,
                            "#fdca26"
                          ],
                          [
                            1,
                            "#f0f921"
                          ]
                        ],
                        "type": "heatmap"
                      }
                    ],
                    "heatmapgl": [
                      {
                        "colorbar": {
                          "outlinewidth": 0,
                          "ticks": ""
                        },
                        "colorscale": [
                          [
                            0,
                            "#0d0887"
                          ],
                          [
                            0.1111111111111111,
                            "#46039f"
                          ],
                          [
                            0.2222222222222222,
                            "#7201a8"
                          ],
                          [
                            0.3333333333333333,
                            "#9c179e"
                          ],
                          [
                            0.4444444444444444,
                            "#bd3786"
                          ],
                          [
                            0.5555555555555556,
                            "#d8576b"
                          ],
                          [
                            0.6666666666666666,
                            "#ed7953"
                          ],
                          [
                            0.7777777777777778,
                            "#fb9f3a"
                          ],
                          [
                            0.8888888888888888,
                            "#fdca26"
                          ],
                          [
                            1,
                            "#f0f921"
                          ]
                        ],
                        "type": "heatmapgl"
                      }
                    ],
                    "histogram": [
                      {
                        "marker": {
                          "pattern": {
                            "fillmode": "overlay",
                            "size": 10,
                            "solidity": 0.2
                          }
                        },
                        "type": "histogram"
                      }
                    ],
                    "histogram2d": [
                      {
                        "colorbar": {
                          "outlinewidth": 0,
                          "ticks": ""
                        },
                        "colorscale": [
                          [
                            0,
                            "#0d0887"
                          ],
                          [
                            0.1111111111111111,
                            "#46039f"
                          ],
                          [
                            0.2222222222222222,
                            "#7201a8"
                          ],
                          [
                            0.3333333333333333,
                            "#9c179e"
                          ],
                          [
                            0.4444444444444444,
                            "#bd3786"
                          ],
                          [
                            0.5555555555555556,
                            "#d8576b"
                          ],
                          [
                            0.6666666666666666,
                            "#ed7953"
                          ],
                          [
                            0.7777777777777778,
                            "#fb9f3a"
                          ],
                          [
                            0.8888888888888888,
                            "#fdca26"
                          ],
                          [
                            1,
                            "#f0f921"
                          ]
                        ],
                        "type": "histogram2d"
                      }
                    ],
                    "histogram2dcontour": [
                      {
                        "colorbar": {
                          "outlinewidth": 0,
                          "ticks": ""
                        },
                        "colorscale": [
                          [
                            0,
                            "#0d0887"
                          ],
                          [
                            0.1111111111111111,
                            "#46039f"
                          ],
                          [
                            0.2222222222222222,
                            "#7201a8"
                          ],
                          [
                            0.3333333333333333,
                            "#9c179e"
                          ],
                          [
                            0.4444444444444444,
                            "#bd3786"
                          ],
                          [
                            0.5555555555555556,
                            "#d8576b"
                          ],
                          [
                            0.6666666666666666,
                            "#ed7953"
                          ],
                          [
                            0.7777777777777778,
                            "#fb9f3a"
                          ],
                          [
                            0.8888888888888888,
                            "#fdca26"
                          ],
                          [
                            1,
                            "#f0f921"
                          ]
                        ],
                        "type": "histogram2dcontour"
                      }
                    ],
                    "mesh3d": [
                      {
                        "colorbar": {
                          "outlinewidth": 0,
                          "ticks": ""
                        },
                        "type": "mesh3d"
                      }
                    ],
                    "parcoords": [
                      {
                        "line": {
                          "colorbar": {
                            "outlinewidth": 0,
                            "ticks": ""
                          }
                        },
                        "type": "parcoords"
                      }
                    ],
                    "pie": [
                      {
                        "automargin": true,
                        "type": "pie"
                      }
                    ],
                    "scatter": [
                      {
                        "fillpattern": {
                          "fillmode": "overlay",
                          "size": 10,
                          "solidity": 0.2
                        },
                        "type": "scatter"
                      }
                    ],
                    "scatter3d": [
                      {
                        "line": {
                          "colorbar": {
                            "outlinewidth": 0,
                            "ticks": ""
                          }
                        },
                        "marker": {
                          "colorbar": {
                            "outlinewidth": 0,
                            "ticks": ""
                          }
                        },
                        "type": "scatter3d"
                      }
                    ],
                    "scattercarpet": [
                      {
                        "marker": {
                          "colorbar": {
                            "outlinewidth": 0,
                            "ticks": ""
                          }
                        },
                        "type": "scattercarpet"
                      }
                    ],
                    "scattergeo": [
                      {
                        "marker": {
                          "colorbar": {
                            "outlinewidth": 0,
                            "ticks": ""
                          }
                        },
                        "type": "scattergeo"
                      }
                    ],
                    "scattergl": [
                      {
                        "marker": {
                          "colorbar": {
                            "outlinewidth": 0,
                            "ticks": ""
                          }
                        },
                        "type": "scattergl"
                      }
                    ],
                    "scattermapbox": [
                      {
                        "marker": {
                          "colorbar": {
                            "outlinewidth": 0,
                            "ticks": ""
                          }
                        },
                        "type": "scattermapbox"
                      }
                    ],
                    "scatterpolar": [
                      {
                        "marker": {
                          "colorbar": {
                            "outlinewidth": 0,
                            "ticks": ""
                          }
                        },
                        "type": "scatterpolar"
                      }
                    ],
                    "scatterpolargl": [
                      {
                        "marker": {
                          "colorbar": {
                            "outlinewidth": 0,
                            "ticks": ""
                          }
                        },
                        "type": "scatterpolargl"
                      }
                    ],
                    "scatterternary": [
                      {
                        "marker": {
                          "colorbar": {
                            "outlinewidth": 0,
                            "ticks": ""
                          }
                        },
                        "type": "scatterternary"
                      }
                    ],
                    "surface": [
                      {
                        "colorbar": {
                          "outlinewidth": 0,
                          "ticks": ""
                        },
                        "colorscale": [
                          [
                            0,
                            "#0d0887"
                          ],
                          [
                            0.1111111111111111,
                            "#46039f"
                          ],
                          [
                            0.2222222222222222,
                            "#7201a8"
                          ],
                          [
                            0.3333333333333333,
                            "#9c179e"
                          ],
                          [
                            0.4444444444444444,
                            "#bd3786"
                          ],
                          [
                            0.5555555555555556,
                            "#d8576b"
                          ],
                          [
                            0.6666666666666666,
                            "#ed7953"
                          ],
                          [
                            0.7777777777777778,
                            "#fb9f3a"
                          ],
                          [
                            0.8888888888888888,
                            "#fdca26"
                          ],
                          [
                            1,
                            "#f0f921"
                          ]
                        ],
                        "type": "surface"
                      }
                    ],
                    "table": [
                      {
                        "cells": {
                          "fill": {
                            "color": "#EBF0F8"
                          },
                          "line": {
                            "color": "white"
                          }
                        },
                        "header": {
                          "fill": {
                            "color": "#C8D4E3"
                          },
                          "line": {
                            "color": "white"
                          }
                        },
                        "type": "table"
                      }
                    ]
                  },
                  "layout": {
                    "annotationdefaults": {
                      "arrowcolor": "#2a3f5f",
                      "arrowhead": 0,
                      "arrowwidth": 1
                    },
                    "autotypenumbers": "strict",
                    "coloraxis": {
                      "colorbar": {
                        "outlinewidth": 0,
                        "ticks": ""
                      }
                    },
                    "colorscale": {
                      "diverging": [
                        [
                          0,
                          "#8e0152"
                        ],
                        [
                          0.1,
                          "#c51b7d"
                        ],
                        [
                          0.2,
                          "#de77ae"
                        ],
                        [
                          0.3,
                          "#f1b6da"
                        ],
                        [
                          0.4,
                          "#fde0ef"
                        ],
                        [
                          0.5,
                          "#f7f7f7"
                        ],
                        [
                          0.6,
                          "#e6f5d0"
                        ],
                        [
                          0.7,
                          "#b8e186"
                        ],
                        [
                          0.8,
                          "#7fbc41"
                        ],
                        [
                          0.9,
                          "#4d9221"
                        ],
                        [
                          1,
                          "#276419"
                        ]
                      ],
                      "sequential": [
                        [
                          0,
                          "#0d0887"
                        ],
                        [
                          0.1111111111111111,
                          "#46039f"
                        ],
                        [
                          0.2222222222222222,
                          "#7201a8"
                        ],
                        [
                          0.3333333333333333,
                          "#9c179e"
                        ],
                        [
                          0.4444444444444444,
                          "#bd3786"
                        ],
                        [
                          0.5555555555555556,
                          "#d8576b"
                        ],
                        [
                          0.6666666666666666,
                          "#ed7953"
                        ],
                        [
                          0.7777777777777778,
                          "#fb9f3a"
                        ],
                        [
                          0.8888888888888888,
                          "#fdca26"
                        ],
                        [
                          1,
                          "#f0f921"
                        ]
                      ],
                      "sequentialminus": [
                        [
                          0,
                          "#0d0887"
                        ],
                        [
                          0.1111111111111111,
                          "#46039f"
                        ],
                        [
                          0.2222222222222222,
                          "#7201a8"
                        ],
                        [
                          0.3333333333333333,
                          "#9c179e"
                        ],
                        [
                          0.4444444444444444,
                          "#bd3786"
                        ],
                        [
                          0.5555555555555556,
                          "#d8576b"
                        ],
                        [
                          0.6666666666666666,
                          "#ed7953"
                        ],
                        [
                          0.7777777777777778,
                          "#fb9f3a"
                        ],
                        [
                          0.8888888888888888,
                          "#fdca26"
                        ],
                        [
                          1,
                          "#f0f921"
                        ]
                      ]
                    },
                    "colorway": [
                      "#636efa",
                      "#EF553B",
                      "#00cc96",
                      "#ab63fa",
                      "#FFA15A",
                      "#19d3f3",
                      "#FF6692",
                      "#B6E880",
                      "#FF97FF",
                      "#FECB52"
                    ],
                    "font": {
                      "color": "#2a3f5f"
                    },
                    "geo": {
                      "bgcolor": "white",
                      "lakecolor": "white",
                      "landcolor": "#E5ECF6",
                      "showlakes": true,
                      "showland": true,
                      "subunitcolor": "white"
                    },
                    "hoverlabel": {
                      "align": "left"
                    },
                    "hovermode": "closest",
                    "mapbox": {
                      "style": "light"
                    },
                    "paper_bgcolor": "white",
                    "plot_bgcolor": "#E5ECF6",
                    "polar": {
                      "angularaxis": {
                        "gridcolor": "white",
                        "linecolor": "white",
                        "ticks": ""
                      },
                      "bgcolor": "#E5ECF6",
                      "radialaxis": {
                        "gridcolor": "white",
                        "linecolor": "white",
                        "ticks": ""
                      }
                    },
                    "scene": {
                      "xaxis": {
                        "backgroundcolor": "#E5ECF6",
                        "gridcolor": "white",
                        "gridwidth": 2,
                        "linecolor": "white",
                        "showbackground": true,
                        "ticks": "",
                        "zerolinecolor": "white"
                      },
                      "yaxis": {
                        "backgroundcolor": "#E5ECF6",
                        "gridcolor": "white",
                        "gridwidth": 2,
                        "linecolor": "white",
                        "showbackground": true,
                        "ticks": "",
                        "zerolinecolor": "white"
                      },
                      "zaxis": {
                        "backgroundcolor": "#E5ECF6",
                        "gridcolor": "white",
                        "gridwidth": 2,
                        "linecolor": "white",
                        "showbackground": true,
                        "ticks": "",
                        "zerolinecolor": "white"
                      }
                    },
                    "shapedefaults": {
                      "line": {
                        "color": "#2a3f5f"
                      }
                    },
                    "ternary": {
                      "aaxis": {
                        "gridcolor": "white",
                        "linecolor": "white",
                        "ticks": ""
                      },
                      "baxis": {
                        "gridcolor": "white",
                        "linecolor": "white",
                        "ticks": ""
                      },
                      "bgcolor": "#E5ECF6",
                      "caxis": {
                        "gridcolor": "white",
                        "linecolor": "white",
                        "ticks": ""
                      }
                    },
                    "title": {
                      "x": 0.05
                    },
                    "xaxis": {
                      "automargin": true,
                      "gridcolor": "white",
                      "linecolor": "white",
                      "ticks": "",
                      "title": {
                        "standoff": 15
                      },
                      "zerolinecolor": "white",
                      "zerolinewidth": 2
                    },
                    "yaxis": {
                      "automargin": true,
                      "gridcolor": "white",
                      "linecolor": "white",
                      "ticks": "",
                      "title": {
                        "standoff": 15
                      },
                      "zerolinecolor": "white",
                      "zerolinewidth": 2
                    }
                  }
                },
                "title": {
                  "text": "Smallest Emission Country per Continent"
                },
                "xaxis": {
                  "anchor": "y",
                  "domain": [
                    0,
                    1
                  ],
                  "title": {
                    "text": "Country"
                  }
                },
                "yaxis": {
                  "anchor": "x",
                  "domain": [
                    0,
                    1
                  ],
                  "title": {
                    "text": "Emission Value (kt)"
                  }
                }
              }
            }
          },
          "metadata": {},
          "output_type": "display_data"
        }
      ],
      "source": [
        "# @title Low Emission Countries per Continent\n",
        "\n",
        "# Plot the data using Plotly Express\n",
        "fig = px.bar(low_1_country, x='Area', y='Value', color='Continent',\n",
        "             title='Smallest Emission Country per Continent',\n",
        "             labels={'Value': 'Emission Value (kt)', 'Area': 'Country'},\n",
        "             hover_data=['Continent'])\n",
        "\n",
        "# Show the plot\n",
        "fig.show()"
      ]
    },
    {
      "cell_type": "code",
      "execution_count": 29,
      "metadata": {
        "colab": {
          "base_uri": "https://localhost:8080/"
        },
        "id": "tUOzfGZvz12Z",
        "outputId": "206f84ad-a0b7-4d88-ab8c-a42ffa02782b"
      },
      "outputs": [
        {
          "name": "stdout",
          "output_type": "stream",
          "text": [
            "Top country for each continent:  ['Ethiopia', 'India', 'Russian Federation', 'United States of America', 'Australia', 'Brazil']\n",
            "Bottom country for each continent:  ['Seychelles', 'Singapore', 'Faroe Islands', 'Bahamas', 'Cook Islands', 'French Guiana']\n"
          ]
        }
      ],
      "source": [
        "# List only the country per continent\n",
        "top_country_list = top_1_country['Area'].tolist()\n",
        "low_country_list = low_1_country['Area'].tolist()\n",
        "\n",
        "# Display the list of top country\n",
        "print(\"Top country for each continent: \", top_country_list)\n",
        "print(\"Bottom country for each continent: \", low_country_list)"
      ]
    },
    {
      "cell_type": "markdown",
      "metadata": {
        "id": "P4VJ_OV-iFtx"
      },
      "source": [
        "## **The African Continent**"
      ]
    },
    {
      "cell_type": "code",
      "execution_count": 30,
      "metadata": {
        "colab": {
          "base_uri": "https://localhost:8080/"
        },
        "id": "cevP9INkZVoY",
        "outputId": "3fe3f41e-0b13-40d1-dc32-37e6572873a8"
      },
      "outputs": [
        {
          "data": {
            "text/plain": [
              "array(['Algeria', 'Angola', 'Benin', 'Botswana', 'Burkina Faso',\n",
              "       'Burundi', 'Cabo Verde', 'Cameroon', 'Central African Republic',\n",
              "       'Chad', 'Comoros', 'Congo', \"Côte d'Ivoire\",\n",
              "       'Democratic Republic of the Congo', 'Djibouti', 'Egypt',\n",
              "       'Equatorial Guinea', 'Eritrea', 'Eswatini', 'Ethiopia', 'Gabon',\n",
              "       'Gambia', 'Ghana', 'Guinea', 'Guinea-Bissau', 'Kenya', 'Lesotho',\n",
              "       'Liberia', 'Libya', 'Madagascar', 'Malawi', 'Mali', 'Mauritania',\n",
              "       'Mauritius', 'Morocco', 'Mozambique', 'Namibia', 'Niger',\n",
              "       'Nigeria', 'Réunion', 'Rwanda', 'Sao Tome and Principe', 'Senegal',\n",
              "       'Seychelles', 'Sierra Leone', 'Somalia', 'South Africa', 'Togo',\n",
              "       'Tunisia', 'Uganda', 'United Republic of Tanzania', 'Zambia',\n",
              "       'Zimbabwe'], dtype=object)"
            ]
          },
          "execution_count": 30,
          "metadata": {},
          "output_type": "execute_result"
        }
      ],
      "source": [
        "africa_data = df[df['Continent'] == 'Africa']\n",
        "africa_data['Area'].unique()"
      ]
    },
    {
      "cell_type": "markdown",
      "metadata": {
        "id": "WN7rCtxcS7a8"
      },
      "source": [
        "There are 53 countries recorded for Africa.\n",
        "\n",
        "[**Click to explore Regions in Africa**](https://www.worldatlas.com/geography/regions-of-africa.html)"
      ]
    },
    {
      "cell_type": "code",
      "execution_count": 31,
      "metadata": {
        "id": "HAwy3GH_dtoe"
      },
      "outputs": [],
      "source": [
        "# map countries into regions using the World Atlas (link above)\n",
        "east = ['Burundi', 'Comoros', 'Djibouti', 'Eritrea', 'Ethiopia', 'Kenya', 'Madagascar', 'Malawi', 'Mauritius', 'Mozambique', 'Réunion',\n",
        "        'Rwanda', 'Seychelles', 'Somalia', 'Uganda', 'United Republic of Tanzania', 'Zambia']\n",
        "south = ['Botswana', 'Eswatini', 'Lesotho', 'Namibia', 'South Africa', 'Zimbabwe']\n",
        "north = ['Algeria', 'Egypt', 'Libya', 'Morocco', 'Tunisia']\n",
        "west = ['Benin', 'Burkina Faso', 'Cabo Verde', \"Côte d'Ivoire\", 'Gambia', 'Ghana', 'Guinea', 'Guinea-Bissau', 'Liberia', 'Mali', 'Mauritania',\n",
        "        'Niger', 'Nigeria', 'Senegal', 'Sierra Leone', 'Togo']\n",
        "central = ['Angola', 'Cameroon', 'Central African Republic', 'Chad', 'Congo', 'Democratic Republic of the Congo', 'Equatorial Guinea', 'Gabon', 'Sao Tome and Principe']"
      ]
    },
    {
      "cell_type": "code",
      "execution_count": 32,
      "metadata": {},
      "outputs": [
        {
          "name": "stdout",
          "output_type": "stream",
          "text": [
            "       Area  Year    Value Continent Area Code (ISO3)        Region\n",
            "44  Algeria  2000  64.5483    Africa              DZA  North Africa\n",
            "45  Algeria  2001  66.7373    Africa              DZA  North Africa\n",
            "46  Algeria  2002  61.4546    Africa              DZA  North Africa\n",
            "47  Algeria  2003  63.3324    Africa              DZA  North Africa\n",
            "48  Algeria  2004  66.6834    Africa              DZA  North Africa\n"
          ]
        },
        {
          "name": "stderr",
          "output_type": "stream",
          "text": [
            "C:\\Users\\user\\AppData\\Local\\Temp\\ipykernel_24952\\3335482440.py:18: SettingWithCopyWarning:\n",
            "\n",
            "\n",
            "A value is trying to be set on a copy of a slice from a DataFrame.\n",
            "Try using .loc[row_indexer,col_indexer] = value instead\n",
            "\n",
            "See the caveats in the documentation: https://pandas.pydata.org/pandas-docs/stable/user_guide/indexing.html#returning-a-view-versus-a-copy\n",
            "\n"
          ]
        }
      ],
      "source": [
        "# Create a dictionary of regions and countries\n",
        "regions = {\n",
        "    'East Africa': east,\n",
        "    'Southern Africa': south,\n",
        "    'North Africa': north,\n",
        "    'West Africa': west,\n",
        "    'Central Africa': central\n",
        "}\n",
        "\n",
        "# Create a function to map countries to regions\n",
        "def get_region(country):\n",
        "    for region, countries in regions.items():\n",
        "        if country in countries:\n",
        "            return region\n",
        "    return None\n",
        "\n",
        "# Create a new column 'Region' using .loc to avoid the warning\n",
        "africa_data.loc[:, 'Region'] = africa_data['Area'].apply(get_region)\n",
        "\n",
        "# Print the updated DataFrame\n",
        "print(africa_data.head())"
      ]
    },
    {
      "cell_type": "code",
      "execution_count": 33,
      "metadata": {
        "colab": {
          "base_uri": "https://localhost:8080/",
          "height": 428
        },
        "id": "lvznw7iJf9Dq",
        "outputId": "4d9494cf-8fab-456e-be52-5637d44bcc55"
      },
      "outputs": [
        {
          "name": "stderr",
          "output_type": "stream",
          "text": [
            "C:\\Users\\user\\AppData\\Local\\Temp\\ipykernel_24952\\1324111392.py:27: UserWarning:\n",
            "\n",
            "Matplotlib is currently using agg, which is a non-GUI backend, so cannot show the figure.\n",
            "\n"
          ]
        }
      ],
      "source": [
        "# @title Number of Unique Countries in Each Region\n",
        "\n",
        "# Group by Region and count unique areas (countries), sorted in descending order\n",
        "Region_area_counts = africa_data.groupby('Region')['Area'].nunique().sort_values(ascending=True)\n",
        "\n",
        "# Plotting the horizontal bar chart\n",
        "# plt.figure(figsize=(10, 6))\n",
        "bars = Region_area_counts.plot(kind='barh', color='teal')\n",
        "\n",
        "# Add labels at the end of each bar\n",
        "for index, value in enumerate(Region_area_counts):\n",
        "    plt.text(value, index, str(value), va='baseline', ha='left', fontsize=14, color='black')\n",
        "\n",
        "# Remove the top, right, and bottom border (spines)\n",
        "bars.spines['top'].set_visible(False)\n",
        "bars.spines['right'].set_visible(False)\n",
        "bars.spines['bottom'].set_visible(False)\n",
        "\n",
        "# Remove the x-axis ticks\n",
        "plt.xticks([])\n",
        "\n",
        "# Add titles and labels\n",
        "plt.title('Number of Unique Countries in Each Region')\n",
        "plt.ylabel('Region')\n",
        "\n",
        "# Display the plot\n",
        "plt.show()"
      ]
    },
    {
      "cell_type": "code",
      "execution_count": 34,
      "metadata": {
        "colab": {
          "base_uri": "https://localhost:8080/",
          "height": 272
        },
        "id": "KzRg-WM6ekXg",
        "outputId": "856cede4-2442-4601-c835-188a37dfd5de"
      },
      "outputs": [
        {
          "data": {
            "text/plain": [
              "Region\n",
              "Central Africa     26151.9158\n",
              "East Africa        98082.3858\n",
              "North Africa        8534.9693\n",
              "Southern Africa    18225.6171\n",
              "West Africa        47501.9195\n",
              "Name: Value, dtype: float64"
            ]
          },
          "execution_count": 34,
          "metadata": {},
          "output_type": "execute_result"
        }
      ],
      "source": [
        "#Inspect summed statistics of grouped countries as region\n",
        "africa_data.groupby('Region')['Value'].sum()"
      ]
    },
    {
      "cell_type": "code",
      "execution_count": 35,
      "metadata": {
        "colab": {
          "base_uri": "https://localhost:8080/",
          "height": 675
        },
        "id": "kjn7vcoFpqNE",
        "outputId": "d52bfb67-856b-4733-96a3-27cfe8bba7c7"
      },
      "outputs": [
        {
          "name": "stderr",
          "output_type": "stream",
          "text": [
            "C:\\Users\\user\\AppData\\Local\\Temp\\ipykernel_24952\\1286956925.py:10: UserWarning:\n",
            "\n",
            "Matplotlib is currently using agg, which is a non-GUI backend, so cannot show the figure.\n",
            "\n"
          ]
        },
        {
          "name": "stdout",
          "output_type": "stream",
          "text": [
            "Plot saved to visualization\\Regional_Livestock_Methane_Emmission_Distribution_in_Africa__2000_2021_.jpg\n"
          ]
        }
      ],
      "source": [
        "# @title Regional Livestock Methane Emmission Distribution in Africa (2000-2021)\n",
        "\n",
        "# Group by 'Region' and sum the 'Value'\n",
        "region_values = africa_data.groupby('Region')['Value'].sum()\n",
        "plt.figure(figsize=(8, 8))\n",
        "plt.pie(region_values, labels=region_values.index, autopct='%1.1f%%', startangle=140)\n",
        "title = 'Regional Livestock Methane Emmission Distribution in Africa (2000-2021)'\n",
        "plt.title(title)\n",
        "# plt.axis('equal')\n",
        "plt.show()\n",
        "\n",
        "save_plot(title)"
      ]
    },
    {
      "cell_type": "code",
      "execution_count": 36,
      "metadata": {
        "colab": {
          "base_uri": "https://localhost:8080/",
          "height": 542
        },
        "id": "J_s--pgZexUi",
        "outputId": "5174792b-a01d-42b4-907c-c89bc564b4fc"
      },
      "outputs": [
        {
          "data": {
            "application/vnd.plotly.v1+json": {
              "config": {
                "plotlyServerURL": "https://plot.ly"
              },
              "data": [
                {
                  "alignmentgroup": "True",
                  "hovertemplate": "Total Methane Emissions (kt)=%{text}<br>Region=%{y}<extra></extra>",
                  "legendgroup": "",
                  "marker": {
                    "color": "#636efa",
                    "pattern": {
                      "shape": ""
                    }
                  },
                  "name": "",
                  "offsetgroup": "",
                  "orientation": "h",
                  "showlegend": false,
                  "text": [
                    8534.9693,
                    18225.6171,
                    26151.9158,
                    47501.919499999996,
                    98082.3858
                  ],
                  "textposition": "outside",
                  "type": "bar",
                  "x": [
                    8534.9693,
                    18225.6171,
                    26151.9158,
                    47501.919499999996,
                    98082.3858
                  ],
                  "xaxis": "x",
                  "y": [
                    "North Africa",
                    "Southern Africa",
                    "Central Africa",
                    "West Africa",
                    "East Africa"
                  ],
                  "yaxis": "y"
                }
              ],
              "layout": {
                "barmode": "relative",
                "legend": {
                  "tracegroupgap": 0
                },
                "showlegend": false,
                "template": {
                  "data": {
                    "bar": [
                      {
                        "error_x": {
                          "color": "#2a3f5f"
                        },
                        "error_y": {
                          "color": "#2a3f5f"
                        },
                        "marker": {
                          "line": {
                            "color": "white",
                            "width": 0.5
                          },
                          "pattern": {
                            "fillmode": "overlay",
                            "size": 10,
                            "solidity": 0.2
                          }
                        },
                        "type": "bar"
                      }
                    ],
                    "barpolar": [
                      {
                        "marker": {
                          "line": {
                            "color": "white",
                            "width": 0.5
                          },
                          "pattern": {
                            "fillmode": "overlay",
                            "size": 10,
                            "solidity": 0.2
                          }
                        },
                        "type": "barpolar"
                      }
                    ],
                    "carpet": [
                      {
                        "aaxis": {
                          "endlinecolor": "#2a3f5f",
                          "gridcolor": "#C8D4E3",
                          "linecolor": "#C8D4E3",
                          "minorgridcolor": "#C8D4E3",
                          "startlinecolor": "#2a3f5f"
                        },
                        "baxis": {
                          "endlinecolor": "#2a3f5f",
                          "gridcolor": "#C8D4E3",
                          "linecolor": "#C8D4E3",
                          "minorgridcolor": "#C8D4E3",
                          "startlinecolor": "#2a3f5f"
                        },
                        "type": "carpet"
                      }
                    ],
                    "choropleth": [
                      {
                        "colorbar": {
                          "outlinewidth": 0,
                          "ticks": ""
                        },
                        "type": "choropleth"
                      }
                    ],
                    "contour": [
                      {
                        "colorbar": {
                          "outlinewidth": 0,
                          "ticks": ""
                        },
                        "colorscale": [
                          [
                            0,
                            "#0d0887"
                          ],
                          [
                            0.1111111111111111,
                            "#46039f"
                          ],
                          [
                            0.2222222222222222,
                            "#7201a8"
                          ],
                          [
                            0.3333333333333333,
                            "#9c179e"
                          ],
                          [
                            0.4444444444444444,
                            "#bd3786"
                          ],
                          [
                            0.5555555555555556,
                            "#d8576b"
                          ],
                          [
                            0.6666666666666666,
                            "#ed7953"
                          ],
                          [
                            0.7777777777777778,
                            "#fb9f3a"
                          ],
                          [
                            0.8888888888888888,
                            "#fdca26"
                          ],
                          [
                            1,
                            "#f0f921"
                          ]
                        ],
                        "type": "contour"
                      }
                    ],
                    "contourcarpet": [
                      {
                        "colorbar": {
                          "outlinewidth": 0,
                          "ticks": ""
                        },
                        "type": "contourcarpet"
                      }
                    ],
                    "heatmap": [
                      {
                        "colorbar": {
                          "outlinewidth": 0,
                          "ticks": ""
                        },
                        "colorscale": [
                          [
                            0,
                            "#0d0887"
                          ],
                          [
                            0.1111111111111111,
                            "#46039f"
                          ],
                          [
                            0.2222222222222222,
                            "#7201a8"
                          ],
                          [
                            0.3333333333333333,
                            "#9c179e"
                          ],
                          [
                            0.4444444444444444,
                            "#bd3786"
                          ],
                          [
                            0.5555555555555556,
                            "#d8576b"
                          ],
                          [
                            0.6666666666666666,
                            "#ed7953"
                          ],
                          [
                            0.7777777777777778,
                            "#fb9f3a"
                          ],
                          [
                            0.8888888888888888,
                            "#fdca26"
                          ],
                          [
                            1,
                            "#f0f921"
                          ]
                        ],
                        "type": "heatmap"
                      }
                    ],
                    "heatmapgl": [
                      {
                        "colorbar": {
                          "outlinewidth": 0,
                          "ticks": ""
                        },
                        "colorscale": [
                          [
                            0,
                            "#0d0887"
                          ],
                          [
                            0.1111111111111111,
                            "#46039f"
                          ],
                          [
                            0.2222222222222222,
                            "#7201a8"
                          ],
                          [
                            0.3333333333333333,
                            "#9c179e"
                          ],
                          [
                            0.4444444444444444,
                            "#bd3786"
                          ],
                          [
                            0.5555555555555556,
                            "#d8576b"
                          ],
                          [
                            0.6666666666666666,
                            "#ed7953"
                          ],
                          [
                            0.7777777777777778,
                            "#fb9f3a"
                          ],
                          [
                            0.8888888888888888,
                            "#fdca26"
                          ],
                          [
                            1,
                            "#f0f921"
                          ]
                        ],
                        "type": "heatmapgl"
                      }
                    ],
                    "histogram": [
                      {
                        "marker": {
                          "pattern": {
                            "fillmode": "overlay",
                            "size": 10,
                            "solidity": 0.2
                          }
                        },
                        "type": "histogram"
                      }
                    ],
                    "histogram2d": [
                      {
                        "colorbar": {
                          "outlinewidth": 0,
                          "ticks": ""
                        },
                        "colorscale": [
                          [
                            0,
                            "#0d0887"
                          ],
                          [
                            0.1111111111111111,
                            "#46039f"
                          ],
                          [
                            0.2222222222222222,
                            "#7201a8"
                          ],
                          [
                            0.3333333333333333,
                            "#9c179e"
                          ],
                          [
                            0.4444444444444444,
                            "#bd3786"
                          ],
                          [
                            0.5555555555555556,
                            "#d8576b"
                          ],
                          [
                            0.6666666666666666,
                            "#ed7953"
                          ],
                          [
                            0.7777777777777778,
                            "#fb9f3a"
                          ],
                          [
                            0.8888888888888888,
                            "#fdca26"
                          ],
                          [
                            1,
                            "#f0f921"
                          ]
                        ],
                        "type": "histogram2d"
                      }
                    ],
                    "histogram2dcontour": [
                      {
                        "colorbar": {
                          "outlinewidth": 0,
                          "ticks": ""
                        },
                        "colorscale": [
                          [
                            0,
                            "#0d0887"
                          ],
                          [
                            0.1111111111111111,
                            "#46039f"
                          ],
                          [
                            0.2222222222222222,
                            "#7201a8"
                          ],
                          [
                            0.3333333333333333,
                            "#9c179e"
                          ],
                          [
                            0.4444444444444444,
                            "#bd3786"
                          ],
                          [
                            0.5555555555555556,
                            "#d8576b"
                          ],
                          [
                            0.6666666666666666,
                            "#ed7953"
                          ],
                          [
                            0.7777777777777778,
                            "#fb9f3a"
                          ],
                          [
                            0.8888888888888888,
                            "#fdca26"
                          ],
                          [
                            1,
                            "#f0f921"
                          ]
                        ],
                        "type": "histogram2dcontour"
                      }
                    ],
                    "mesh3d": [
                      {
                        "colorbar": {
                          "outlinewidth": 0,
                          "ticks": ""
                        },
                        "type": "mesh3d"
                      }
                    ],
                    "parcoords": [
                      {
                        "line": {
                          "colorbar": {
                            "outlinewidth": 0,
                            "ticks": ""
                          }
                        },
                        "type": "parcoords"
                      }
                    ],
                    "pie": [
                      {
                        "automargin": true,
                        "type": "pie"
                      }
                    ],
                    "scatter": [
                      {
                        "fillpattern": {
                          "fillmode": "overlay",
                          "size": 10,
                          "solidity": 0.2
                        },
                        "type": "scatter"
                      }
                    ],
                    "scatter3d": [
                      {
                        "line": {
                          "colorbar": {
                            "outlinewidth": 0,
                            "ticks": ""
                          }
                        },
                        "marker": {
                          "colorbar": {
                            "outlinewidth": 0,
                            "ticks": ""
                          }
                        },
                        "type": "scatter3d"
                      }
                    ],
                    "scattercarpet": [
                      {
                        "marker": {
                          "colorbar": {
                            "outlinewidth": 0,
                            "ticks": ""
                          }
                        },
                        "type": "scattercarpet"
                      }
                    ],
                    "scattergeo": [
                      {
                        "marker": {
                          "colorbar": {
                            "outlinewidth": 0,
                            "ticks": ""
                          }
                        },
                        "type": "scattergeo"
                      }
                    ],
                    "scattergl": [
                      {
                        "marker": {
                          "colorbar": {
                            "outlinewidth": 0,
                            "ticks": ""
                          }
                        },
                        "type": "scattergl"
                      }
                    ],
                    "scattermapbox": [
                      {
                        "marker": {
                          "colorbar": {
                            "outlinewidth": 0,
                            "ticks": ""
                          }
                        },
                        "type": "scattermapbox"
                      }
                    ],
                    "scatterpolar": [
                      {
                        "marker": {
                          "colorbar": {
                            "outlinewidth": 0,
                            "ticks": ""
                          }
                        },
                        "type": "scatterpolar"
                      }
                    ],
                    "scatterpolargl": [
                      {
                        "marker": {
                          "colorbar": {
                            "outlinewidth": 0,
                            "ticks": ""
                          }
                        },
                        "type": "scatterpolargl"
                      }
                    ],
                    "scatterternary": [
                      {
                        "marker": {
                          "colorbar": {
                            "outlinewidth": 0,
                            "ticks": ""
                          }
                        },
                        "type": "scatterternary"
                      }
                    ],
                    "surface": [
                      {
                        "colorbar": {
                          "outlinewidth": 0,
                          "ticks": ""
                        },
                        "colorscale": [
                          [
                            0,
                            "#0d0887"
                          ],
                          [
                            0.1111111111111111,
                            "#46039f"
                          ],
                          [
                            0.2222222222222222,
                            "#7201a8"
                          ],
                          [
                            0.3333333333333333,
                            "#9c179e"
                          ],
                          [
                            0.4444444444444444,
                            "#bd3786"
                          ],
                          [
                            0.5555555555555556,
                            "#d8576b"
                          ],
                          [
                            0.6666666666666666,
                            "#ed7953"
                          ],
                          [
                            0.7777777777777778,
                            "#fb9f3a"
                          ],
                          [
                            0.8888888888888888,
                            "#fdca26"
                          ],
                          [
                            1,
                            "#f0f921"
                          ]
                        ],
                        "type": "surface"
                      }
                    ],
                    "table": [
                      {
                        "cells": {
                          "fill": {
                            "color": "#EBF0F8"
                          },
                          "line": {
                            "color": "white"
                          }
                        },
                        "header": {
                          "fill": {
                            "color": "#C8D4E3"
                          },
                          "line": {
                            "color": "white"
                          }
                        },
                        "type": "table"
                      }
                    ]
                  },
                  "layout": {
                    "annotationdefaults": {
                      "arrowcolor": "#2a3f5f",
                      "arrowhead": 0,
                      "arrowwidth": 1
                    },
                    "autotypenumbers": "strict",
                    "coloraxis": {
                      "colorbar": {
                        "outlinewidth": 0,
                        "ticks": ""
                      }
                    },
                    "colorscale": {
                      "diverging": [
                        [
                          0,
                          "#8e0152"
                        ],
                        [
                          0.1,
                          "#c51b7d"
                        ],
                        [
                          0.2,
                          "#de77ae"
                        ],
                        [
                          0.3,
                          "#f1b6da"
                        ],
                        [
                          0.4,
                          "#fde0ef"
                        ],
                        [
                          0.5,
                          "#f7f7f7"
                        ],
                        [
                          0.6,
                          "#e6f5d0"
                        ],
                        [
                          0.7,
                          "#b8e186"
                        ],
                        [
                          0.8,
                          "#7fbc41"
                        ],
                        [
                          0.9,
                          "#4d9221"
                        ],
                        [
                          1,
                          "#276419"
                        ]
                      ],
                      "sequential": [
                        [
                          0,
                          "#0d0887"
                        ],
                        [
                          0.1111111111111111,
                          "#46039f"
                        ],
                        [
                          0.2222222222222222,
                          "#7201a8"
                        ],
                        [
                          0.3333333333333333,
                          "#9c179e"
                        ],
                        [
                          0.4444444444444444,
                          "#bd3786"
                        ],
                        [
                          0.5555555555555556,
                          "#d8576b"
                        ],
                        [
                          0.6666666666666666,
                          "#ed7953"
                        ],
                        [
                          0.7777777777777778,
                          "#fb9f3a"
                        ],
                        [
                          0.8888888888888888,
                          "#fdca26"
                        ],
                        [
                          1,
                          "#f0f921"
                        ]
                      ],
                      "sequentialminus": [
                        [
                          0,
                          "#0d0887"
                        ],
                        [
                          0.1111111111111111,
                          "#46039f"
                        ],
                        [
                          0.2222222222222222,
                          "#7201a8"
                        ],
                        [
                          0.3333333333333333,
                          "#9c179e"
                        ],
                        [
                          0.4444444444444444,
                          "#bd3786"
                        ],
                        [
                          0.5555555555555556,
                          "#d8576b"
                        ],
                        [
                          0.6666666666666666,
                          "#ed7953"
                        ],
                        [
                          0.7777777777777778,
                          "#fb9f3a"
                        ],
                        [
                          0.8888888888888888,
                          "#fdca26"
                        ],
                        [
                          1,
                          "#f0f921"
                        ]
                      ]
                    },
                    "colorway": [
                      "#636efa",
                      "#EF553B",
                      "#00cc96",
                      "#ab63fa",
                      "#FFA15A",
                      "#19d3f3",
                      "#FF6692",
                      "#B6E880",
                      "#FF97FF",
                      "#FECB52"
                    ],
                    "font": {
                      "color": "#2a3f5f"
                    },
                    "geo": {
                      "bgcolor": "white",
                      "lakecolor": "white",
                      "landcolor": "white",
                      "showlakes": true,
                      "showland": true,
                      "subunitcolor": "#C8D4E3"
                    },
                    "hoverlabel": {
                      "align": "left"
                    },
                    "hovermode": "closest",
                    "mapbox": {
                      "style": "light"
                    },
                    "paper_bgcolor": "white",
                    "plot_bgcolor": "white",
                    "polar": {
                      "angularaxis": {
                        "gridcolor": "#EBF0F8",
                        "linecolor": "#EBF0F8",
                        "ticks": ""
                      },
                      "bgcolor": "white",
                      "radialaxis": {
                        "gridcolor": "#EBF0F8",
                        "linecolor": "#EBF0F8",
                        "ticks": ""
                      }
                    },
                    "scene": {
                      "xaxis": {
                        "backgroundcolor": "white",
                        "gridcolor": "#DFE8F3",
                        "gridwidth": 2,
                        "linecolor": "#EBF0F8",
                        "showbackground": true,
                        "ticks": "",
                        "zerolinecolor": "#EBF0F8"
                      },
                      "yaxis": {
                        "backgroundcolor": "white",
                        "gridcolor": "#DFE8F3",
                        "gridwidth": 2,
                        "linecolor": "#EBF0F8",
                        "showbackground": true,
                        "ticks": "",
                        "zerolinecolor": "#EBF0F8"
                      },
                      "zaxis": {
                        "backgroundcolor": "white",
                        "gridcolor": "#DFE8F3",
                        "gridwidth": 2,
                        "linecolor": "#EBF0F8",
                        "showbackground": true,
                        "ticks": "",
                        "zerolinecolor": "#EBF0F8"
                      }
                    },
                    "shapedefaults": {
                      "line": {
                        "color": "#2a3f5f"
                      }
                    },
                    "ternary": {
                      "aaxis": {
                        "gridcolor": "#DFE8F3",
                        "linecolor": "#A2B1C6",
                        "ticks": ""
                      },
                      "baxis": {
                        "gridcolor": "#DFE8F3",
                        "linecolor": "#A2B1C6",
                        "ticks": ""
                      },
                      "bgcolor": "white",
                      "caxis": {
                        "gridcolor": "#DFE8F3",
                        "linecolor": "#A2B1C6",
                        "ticks": ""
                      }
                    },
                    "title": {
                      "x": 0.05
                    },
                    "xaxis": {
                      "automargin": true,
                      "gridcolor": "#EBF0F8",
                      "linecolor": "#EBF0F8",
                      "ticks": "",
                      "title": {
                        "standoff": 15
                      },
                      "zerolinecolor": "#EBF0F8",
                      "zerolinewidth": 2
                    },
                    "yaxis": {
                      "automargin": true,
                      "gridcolor": "#EBF0F8",
                      "linecolor": "#EBF0F8",
                      "ticks": "",
                      "title": {
                        "standoff": 15
                      },
                      "zerolinecolor": "#EBF0F8",
                      "zerolinewidth": 2
                    }
                  }
                },
                "title": {
                  "text": "Total Methane Emissions by Region in Africa"
                },
                "xaxis": {
                  "anchor": "y",
                  "domain": [
                    0,
                    1
                  ],
                  "showgrid": false,
                  "showline": false,
                  "showticklabels": false,
                  "title": {
                    "text": "Total Methane Emissions (kt)"
                  }
                },
                "yaxis": {
                  "anchor": "x",
                  "domain": [
                    0,
                    1
                  ],
                  "showgrid": false,
                  "showline": false,
                  "title": {
                    "text": "Region"
                  }
                }
              }
            }
          },
          "metadata": {},
          "output_type": "display_data"
        }
      ],
      "source": [
        "# @title Livestock Methane Emmission Distribution for African Regions (2000-2021)\n",
        "\n",
        "# Group by 'Region' and sum the 'Value'\n",
        "region_value_sum = africa_data.groupby('Region')['Value'].sum().reset_index()\n",
        "\n",
        "# Sort the data by 'Value' in ascending order\n",
        "region_value_sum = region_value_sum.sort_values(by='Value', ascending=True)\n",
        "\n",
        "# Create a horizontal bar chart\n",
        "fig = px.bar(region_value_sum,\n",
        "             x='Value',\n",
        "             y='Region',\n",
        "             orientation='h',  # Horizontal bars\n",
        "             title='Total Methane Emissions by Region in Africa',\n",
        "             labels={'Value': 'Total Methane Emissions (kt)', 'Region': 'Region'},\n",
        "             text='Value')  # Add text labels\n",
        "\n",
        "# Customize layout\n",
        "fig.update_layout(\n",
        "    template='plotly_white',\n",
        "    xaxis=dict(showticklabels=False),  # Remove x-axis ticks\n",
        "    showlegend=False\n",
        ")\n",
        "\n",
        "# Add labels to the end of each bar\n",
        "fig.update_traces(textposition='outside')\n",
        "\n",
        "# Remove the top, right, and bottom border\n",
        "fig.update_layout(\n",
        "    xaxis_showgrid=False,\n",
        "    yaxis_showgrid=False,\n",
        "    yaxis=dict(showline=False),\n",
        "    xaxis=dict(showline=False)\n",
        ")\n",
        "\n",
        "# Show the plot\n",
        "fig.show()"
      ]
    },
    {
      "cell_type": "code",
      "execution_count": 37,
      "metadata": {
        "colab": {
          "base_uri": "https://localhost:8080/",
          "height": 542
        },
        "id": "7Twd02mti7oX",
        "outputId": "8272b1d4-5d86-42c4-d4f2-f4fb8a862344"
      },
      "outputs": [
        {
          "data": {
            "application/vnd.plotly.v1+json": {
              "config": {
                "plotlyServerURL": "https://plot.ly"
              },
              "data": [
                {
                  "mode": "lines+markers",
                  "name": "Central Africa",
                  "type": "scatter",
                  "visible": true,
                  "x": [
                    2000,
                    2001,
                    2002,
                    2003,
                    2004,
                    2005,
                    2006,
                    2007,
                    2008,
                    2009,
                    2010,
                    2011,
                    2012,
                    2013,
                    2014,
                    2015,
                    2016,
                    2017,
                    2018,
                    2019,
                    2020,
                    2021
                  ],
                  "y": [
                    93.0561,
                    94.94122222222222,
                    96.27574444444446,
                    99.34394444444445,
                    102.29911111111112,
                    107.06335555555556,
                    110.77681111111112,
                    115.20179999999999,
                    114.80882222222223,
                    118.40712222222221,
                    122.37465555555556,
                    128.08916666666667,
                    134.5948111111111,
                    140.35104444444445,
                    145.71602222222222,
                    151.95758888888886,
                    157.50962222222222,
                    161.88430000000002,
                    168.42404444444443,
                    174.69496666666666,
                    181.59813333333332,
                    186.4000333333333
                  ]
                },
                {
                  "mode": "lines+markers",
                  "name": "East Africa",
                  "type": "scatter",
                  "visible": false,
                  "x": [
                    2000,
                    2001,
                    2002,
                    2003,
                    2004,
                    2005,
                    2006,
                    2007,
                    2008,
                    2009,
                    2010,
                    2011,
                    2012,
                    2013,
                    2014,
                    2015,
                    2016,
                    2017,
                    2018,
                    2019,
                    2020,
                    2021
                  ],
                  "y": [
                    186.43034117647062,
                    188.95526470588237,
                    199.08622352941177,
                    200.9956,
                    202.57524705882355,
                    208.98613529411764,
                    218.13549411764706,
                    238.1534588235294,
                    251.80277647058824,
                    259.33196470588234,
                    266.51288823529416,
                    269.2829941176471,
                    281.4546411764706,
                    286.3909294117647,
                    294.9162411764706,
                    300.50228823529415,
                    309.3048705882353,
                    307.0697823529412,
                    308.50387647058824,
                    320.58157647058823,
                    341.63683529411765,
                    328.9426764705882
                  ]
                },
                {
                  "mode": "lines+markers",
                  "name": "North Africa",
                  "type": "scatter",
                  "visible": false,
                  "x": [
                    2000,
                    2001,
                    2002,
                    2003,
                    2004,
                    2005,
                    2006,
                    2007,
                    2008,
                    2009,
                    2010,
                    2011,
                    2012,
                    2013,
                    2014,
                    2015,
                    2016,
                    2017,
                    2018,
                    2019,
                    2020,
                    2021
                  ],
                  "y": [
                    68.29223999999999,
                    70.715,
                    72.12196,
                    72.9712,
                    74.79716,
                    75.7314,
                    77.23106,
                    79.50304,
                    80.16476,
                    76.8617,
                    79.58018,
                    81.48156,
                    82.38464,
                    82.6581,
                    84.85326,
                    87.23805999999999,
                    87.38148,
                    81.85152000000001,
                    81.77436,
                    71.0291,
                    68.92188,
                    69.45020000000001
                  ]
                },
                {
                  "mode": "lines+markers",
                  "name": "Southern Africa",
                  "type": "scatter",
                  "visible": false,
                  "x": [
                    2000,
                    2001,
                    2002,
                    2003,
                    2004,
                    2005,
                    2006,
                    2007,
                    2008,
                    2009,
                    2010,
                    2011,
                    2012,
                    2013,
                    2014,
                    2015,
                    2016,
                    2017,
                    2018,
                    2019,
                    2020,
                    2021
                  ],
                  "y": [
                    146.87398333333334,
                    145.88541666666666,
                    138.52556666666666,
                    137.30636666666666,
                    136.12441666666666,
                    142.83675,
                    135.71365,
                    138.079,
                    139.10346666666666,
                    140.96331666666666,
                    144.60503333333335,
                    144.90495,
                    147.5217,
                    144.89916666666667,
                    136.7674,
                    138.92523333333332,
                    138.54876666666667,
                    131.33251666666666,
                    130.1493,
                    126.89816666666667,
                    124.87123333333334,
                    126.76745
                  ]
                },
                {
                  "mode": "lines+markers",
                  "name": "West Africa",
                  "type": "scatter",
                  "visible": false,
                  "x": [
                    2000,
                    2001,
                    2002,
                    2003,
                    2004,
                    2005,
                    2006,
                    2007,
                    2008,
                    2009,
                    2010,
                    2011,
                    2012,
                    2013,
                    2014,
                    2015,
                    2016,
                    2017,
                    2018,
                    2019,
                    2020,
                    2021
                  ],
                  "y": [
                    94.6267375,
                    96.625175,
                    99.562025,
                    106.8373375,
                    110.05463124999999,
                    113.06548124999999,
                    116.51053750000001,
                    119.25331249999999,
                    122.3642875,
                    126.82765625,
                    128.11348125,
                    136.64436874999998,
                    140.94610625,
                    144.22538125,
                    148.71815625,
                    152.89601875,
                    156.94953125,
                    161.27396875,
                    165.914775,
                    170.9588125,
                    175.86723125,
                    180.63495625
                  ]
                }
              ],
              "layout": {
                "template": {
                  "data": {
                    "bar": [
                      {
                        "error_x": {
                          "color": "#2a3f5f"
                        },
                        "error_y": {
                          "color": "#2a3f5f"
                        },
                        "marker": {
                          "line": {
                            "color": "#E5ECF6",
                            "width": 0.5
                          },
                          "pattern": {
                            "fillmode": "overlay",
                            "size": 10,
                            "solidity": 0.2
                          }
                        },
                        "type": "bar"
                      }
                    ],
                    "barpolar": [
                      {
                        "marker": {
                          "line": {
                            "color": "#E5ECF6",
                            "width": 0.5
                          },
                          "pattern": {
                            "fillmode": "overlay",
                            "size": 10,
                            "solidity": 0.2
                          }
                        },
                        "type": "barpolar"
                      }
                    ],
                    "carpet": [
                      {
                        "aaxis": {
                          "endlinecolor": "#2a3f5f",
                          "gridcolor": "white",
                          "linecolor": "white",
                          "minorgridcolor": "white",
                          "startlinecolor": "#2a3f5f"
                        },
                        "baxis": {
                          "endlinecolor": "#2a3f5f",
                          "gridcolor": "white",
                          "linecolor": "white",
                          "minorgridcolor": "white",
                          "startlinecolor": "#2a3f5f"
                        },
                        "type": "carpet"
                      }
                    ],
                    "choropleth": [
                      {
                        "colorbar": {
                          "outlinewidth": 0,
                          "ticks": ""
                        },
                        "type": "choropleth"
                      }
                    ],
                    "contour": [
                      {
                        "colorbar": {
                          "outlinewidth": 0,
                          "ticks": ""
                        },
                        "colorscale": [
                          [
                            0,
                            "#0d0887"
                          ],
                          [
                            0.1111111111111111,
                            "#46039f"
                          ],
                          [
                            0.2222222222222222,
                            "#7201a8"
                          ],
                          [
                            0.3333333333333333,
                            "#9c179e"
                          ],
                          [
                            0.4444444444444444,
                            "#bd3786"
                          ],
                          [
                            0.5555555555555556,
                            "#d8576b"
                          ],
                          [
                            0.6666666666666666,
                            "#ed7953"
                          ],
                          [
                            0.7777777777777778,
                            "#fb9f3a"
                          ],
                          [
                            0.8888888888888888,
                            "#fdca26"
                          ],
                          [
                            1,
                            "#f0f921"
                          ]
                        ],
                        "type": "contour"
                      }
                    ],
                    "contourcarpet": [
                      {
                        "colorbar": {
                          "outlinewidth": 0,
                          "ticks": ""
                        },
                        "type": "contourcarpet"
                      }
                    ],
                    "heatmap": [
                      {
                        "colorbar": {
                          "outlinewidth": 0,
                          "ticks": ""
                        },
                        "colorscale": [
                          [
                            0,
                            "#0d0887"
                          ],
                          [
                            0.1111111111111111,
                            "#46039f"
                          ],
                          [
                            0.2222222222222222,
                            "#7201a8"
                          ],
                          [
                            0.3333333333333333,
                            "#9c179e"
                          ],
                          [
                            0.4444444444444444,
                            "#bd3786"
                          ],
                          [
                            0.5555555555555556,
                            "#d8576b"
                          ],
                          [
                            0.6666666666666666,
                            "#ed7953"
                          ],
                          [
                            0.7777777777777778,
                            "#fb9f3a"
                          ],
                          [
                            0.8888888888888888,
                            "#fdca26"
                          ],
                          [
                            1,
                            "#f0f921"
                          ]
                        ],
                        "type": "heatmap"
                      }
                    ],
                    "heatmapgl": [
                      {
                        "colorbar": {
                          "outlinewidth": 0,
                          "ticks": ""
                        },
                        "colorscale": [
                          [
                            0,
                            "#0d0887"
                          ],
                          [
                            0.1111111111111111,
                            "#46039f"
                          ],
                          [
                            0.2222222222222222,
                            "#7201a8"
                          ],
                          [
                            0.3333333333333333,
                            "#9c179e"
                          ],
                          [
                            0.4444444444444444,
                            "#bd3786"
                          ],
                          [
                            0.5555555555555556,
                            "#d8576b"
                          ],
                          [
                            0.6666666666666666,
                            "#ed7953"
                          ],
                          [
                            0.7777777777777778,
                            "#fb9f3a"
                          ],
                          [
                            0.8888888888888888,
                            "#fdca26"
                          ],
                          [
                            1,
                            "#f0f921"
                          ]
                        ],
                        "type": "heatmapgl"
                      }
                    ],
                    "histogram": [
                      {
                        "marker": {
                          "pattern": {
                            "fillmode": "overlay",
                            "size": 10,
                            "solidity": 0.2
                          }
                        },
                        "type": "histogram"
                      }
                    ],
                    "histogram2d": [
                      {
                        "colorbar": {
                          "outlinewidth": 0,
                          "ticks": ""
                        },
                        "colorscale": [
                          [
                            0,
                            "#0d0887"
                          ],
                          [
                            0.1111111111111111,
                            "#46039f"
                          ],
                          [
                            0.2222222222222222,
                            "#7201a8"
                          ],
                          [
                            0.3333333333333333,
                            "#9c179e"
                          ],
                          [
                            0.4444444444444444,
                            "#bd3786"
                          ],
                          [
                            0.5555555555555556,
                            "#d8576b"
                          ],
                          [
                            0.6666666666666666,
                            "#ed7953"
                          ],
                          [
                            0.7777777777777778,
                            "#fb9f3a"
                          ],
                          [
                            0.8888888888888888,
                            "#fdca26"
                          ],
                          [
                            1,
                            "#f0f921"
                          ]
                        ],
                        "type": "histogram2d"
                      }
                    ],
                    "histogram2dcontour": [
                      {
                        "colorbar": {
                          "outlinewidth": 0,
                          "ticks": ""
                        },
                        "colorscale": [
                          [
                            0,
                            "#0d0887"
                          ],
                          [
                            0.1111111111111111,
                            "#46039f"
                          ],
                          [
                            0.2222222222222222,
                            "#7201a8"
                          ],
                          [
                            0.3333333333333333,
                            "#9c179e"
                          ],
                          [
                            0.4444444444444444,
                            "#bd3786"
                          ],
                          [
                            0.5555555555555556,
                            "#d8576b"
                          ],
                          [
                            0.6666666666666666,
                            "#ed7953"
                          ],
                          [
                            0.7777777777777778,
                            "#fb9f3a"
                          ],
                          [
                            0.8888888888888888,
                            "#fdca26"
                          ],
                          [
                            1,
                            "#f0f921"
                          ]
                        ],
                        "type": "histogram2dcontour"
                      }
                    ],
                    "mesh3d": [
                      {
                        "colorbar": {
                          "outlinewidth": 0,
                          "ticks": ""
                        },
                        "type": "mesh3d"
                      }
                    ],
                    "parcoords": [
                      {
                        "line": {
                          "colorbar": {
                            "outlinewidth": 0,
                            "ticks": ""
                          }
                        },
                        "type": "parcoords"
                      }
                    ],
                    "pie": [
                      {
                        "automargin": true,
                        "type": "pie"
                      }
                    ],
                    "scatter": [
                      {
                        "fillpattern": {
                          "fillmode": "overlay",
                          "size": 10,
                          "solidity": 0.2
                        },
                        "type": "scatter"
                      }
                    ],
                    "scatter3d": [
                      {
                        "line": {
                          "colorbar": {
                            "outlinewidth": 0,
                            "ticks": ""
                          }
                        },
                        "marker": {
                          "colorbar": {
                            "outlinewidth": 0,
                            "ticks": ""
                          }
                        },
                        "type": "scatter3d"
                      }
                    ],
                    "scattercarpet": [
                      {
                        "marker": {
                          "colorbar": {
                            "outlinewidth": 0,
                            "ticks": ""
                          }
                        },
                        "type": "scattercarpet"
                      }
                    ],
                    "scattergeo": [
                      {
                        "marker": {
                          "colorbar": {
                            "outlinewidth": 0,
                            "ticks": ""
                          }
                        },
                        "type": "scattergeo"
                      }
                    ],
                    "scattergl": [
                      {
                        "marker": {
                          "colorbar": {
                            "outlinewidth": 0,
                            "ticks": ""
                          }
                        },
                        "type": "scattergl"
                      }
                    ],
                    "scattermapbox": [
                      {
                        "marker": {
                          "colorbar": {
                            "outlinewidth": 0,
                            "ticks": ""
                          }
                        },
                        "type": "scattermapbox"
                      }
                    ],
                    "scatterpolar": [
                      {
                        "marker": {
                          "colorbar": {
                            "outlinewidth": 0,
                            "ticks": ""
                          }
                        },
                        "type": "scatterpolar"
                      }
                    ],
                    "scatterpolargl": [
                      {
                        "marker": {
                          "colorbar": {
                            "outlinewidth": 0,
                            "ticks": ""
                          }
                        },
                        "type": "scatterpolargl"
                      }
                    ],
                    "scatterternary": [
                      {
                        "marker": {
                          "colorbar": {
                            "outlinewidth": 0,
                            "ticks": ""
                          }
                        },
                        "type": "scatterternary"
                      }
                    ],
                    "surface": [
                      {
                        "colorbar": {
                          "outlinewidth": 0,
                          "ticks": ""
                        },
                        "colorscale": [
                          [
                            0,
                            "#0d0887"
                          ],
                          [
                            0.1111111111111111,
                            "#46039f"
                          ],
                          [
                            0.2222222222222222,
                            "#7201a8"
                          ],
                          [
                            0.3333333333333333,
                            "#9c179e"
                          ],
                          [
                            0.4444444444444444,
                            "#bd3786"
                          ],
                          [
                            0.5555555555555556,
                            "#d8576b"
                          ],
                          [
                            0.6666666666666666,
                            "#ed7953"
                          ],
                          [
                            0.7777777777777778,
                            "#fb9f3a"
                          ],
                          [
                            0.8888888888888888,
                            "#fdca26"
                          ],
                          [
                            1,
                            "#f0f921"
                          ]
                        ],
                        "type": "surface"
                      }
                    ],
                    "table": [
                      {
                        "cells": {
                          "fill": {
                            "color": "#EBF0F8"
                          },
                          "line": {
                            "color": "white"
                          }
                        },
                        "header": {
                          "fill": {
                            "color": "#C8D4E3"
                          },
                          "line": {
                            "color": "white"
                          }
                        },
                        "type": "table"
                      }
                    ]
                  },
                  "layout": {
                    "annotationdefaults": {
                      "arrowcolor": "#2a3f5f",
                      "arrowhead": 0,
                      "arrowwidth": 1
                    },
                    "autotypenumbers": "strict",
                    "coloraxis": {
                      "colorbar": {
                        "outlinewidth": 0,
                        "ticks": ""
                      }
                    },
                    "colorscale": {
                      "diverging": [
                        [
                          0,
                          "#8e0152"
                        ],
                        [
                          0.1,
                          "#c51b7d"
                        ],
                        [
                          0.2,
                          "#de77ae"
                        ],
                        [
                          0.3,
                          "#f1b6da"
                        ],
                        [
                          0.4,
                          "#fde0ef"
                        ],
                        [
                          0.5,
                          "#f7f7f7"
                        ],
                        [
                          0.6,
                          "#e6f5d0"
                        ],
                        [
                          0.7,
                          "#b8e186"
                        ],
                        [
                          0.8,
                          "#7fbc41"
                        ],
                        [
                          0.9,
                          "#4d9221"
                        ],
                        [
                          1,
                          "#276419"
                        ]
                      ],
                      "sequential": [
                        [
                          0,
                          "#0d0887"
                        ],
                        [
                          0.1111111111111111,
                          "#46039f"
                        ],
                        [
                          0.2222222222222222,
                          "#7201a8"
                        ],
                        [
                          0.3333333333333333,
                          "#9c179e"
                        ],
                        [
                          0.4444444444444444,
                          "#bd3786"
                        ],
                        [
                          0.5555555555555556,
                          "#d8576b"
                        ],
                        [
                          0.6666666666666666,
                          "#ed7953"
                        ],
                        [
                          0.7777777777777778,
                          "#fb9f3a"
                        ],
                        [
                          0.8888888888888888,
                          "#fdca26"
                        ],
                        [
                          1,
                          "#f0f921"
                        ]
                      ],
                      "sequentialminus": [
                        [
                          0,
                          "#0d0887"
                        ],
                        [
                          0.1111111111111111,
                          "#46039f"
                        ],
                        [
                          0.2222222222222222,
                          "#7201a8"
                        ],
                        [
                          0.3333333333333333,
                          "#9c179e"
                        ],
                        [
                          0.4444444444444444,
                          "#bd3786"
                        ],
                        [
                          0.5555555555555556,
                          "#d8576b"
                        ],
                        [
                          0.6666666666666666,
                          "#ed7953"
                        ],
                        [
                          0.7777777777777778,
                          "#fb9f3a"
                        ],
                        [
                          0.8888888888888888,
                          "#fdca26"
                        ],
                        [
                          1,
                          "#f0f921"
                        ]
                      ]
                    },
                    "colorway": [
                      "#636efa",
                      "#EF553B",
                      "#00cc96",
                      "#ab63fa",
                      "#FFA15A",
                      "#19d3f3",
                      "#FF6692",
                      "#B6E880",
                      "#FF97FF",
                      "#FECB52"
                    ],
                    "font": {
                      "color": "#2a3f5f"
                    },
                    "geo": {
                      "bgcolor": "white",
                      "lakecolor": "white",
                      "landcolor": "#E5ECF6",
                      "showlakes": true,
                      "showland": true,
                      "subunitcolor": "white"
                    },
                    "hoverlabel": {
                      "align": "left"
                    },
                    "hovermode": "closest",
                    "mapbox": {
                      "style": "light"
                    },
                    "paper_bgcolor": "white",
                    "plot_bgcolor": "#E5ECF6",
                    "polar": {
                      "angularaxis": {
                        "gridcolor": "white",
                        "linecolor": "white",
                        "ticks": ""
                      },
                      "bgcolor": "#E5ECF6",
                      "radialaxis": {
                        "gridcolor": "white",
                        "linecolor": "white",
                        "ticks": ""
                      }
                    },
                    "scene": {
                      "xaxis": {
                        "backgroundcolor": "#E5ECF6",
                        "gridcolor": "white",
                        "gridwidth": 2,
                        "linecolor": "white",
                        "showbackground": true,
                        "ticks": "",
                        "zerolinecolor": "white"
                      },
                      "yaxis": {
                        "backgroundcolor": "#E5ECF6",
                        "gridcolor": "white",
                        "gridwidth": 2,
                        "linecolor": "white",
                        "showbackground": true,
                        "ticks": "",
                        "zerolinecolor": "white"
                      },
                      "zaxis": {
                        "backgroundcolor": "#E5ECF6",
                        "gridcolor": "white",
                        "gridwidth": 2,
                        "linecolor": "white",
                        "showbackground": true,
                        "ticks": "",
                        "zerolinecolor": "white"
                      }
                    },
                    "shapedefaults": {
                      "line": {
                        "color": "#2a3f5f"
                      }
                    },
                    "ternary": {
                      "aaxis": {
                        "gridcolor": "white",
                        "linecolor": "white",
                        "ticks": ""
                      },
                      "baxis": {
                        "gridcolor": "white",
                        "linecolor": "white",
                        "ticks": ""
                      },
                      "bgcolor": "#E5ECF6",
                      "caxis": {
                        "gridcolor": "white",
                        "linecolor": "white",
                        "ticks": ""
                      }
                    },
                    "title": {
                      "x": 0.05
                    },
                    "xaxis": {
                      "automargin": true,
                      "gridcolor": "white",
                      "linecolor": "white",
                      "ticks": "",
                      "title": {
                        "standoff": 15
                      },
                      "zerolinecolor": "white",
                      "zerolinewidth": 2
                    },
                    "yaxis": {
                      "automargin": true,
                      "gridcolor": "white",
                      "linecolor": "white",
                      "ticks": "",
                      "title": {
                        "standoff": 15
                      },
                      "zerolinecolor": "white",
                      "zerolinewidth": 2
                    }
                  }
                },
                "title": {
                  "text": "Average Methane Emissions from Cattle in Central Africa (2000-2021)"
                },
                "updatemenus": [
                  {
                    "active": 0,
                    "buttons": [
                      {
                        "args": [
                          {
                            "visible": [
                              true,
                              false,
                              false,
                              false,
                              false
                            ]
                          },
                          {
                            "title": "Average Methane Emissions from Cattle in Central Africa (2000-2021)"
                          }
                        ],
                        "label": "Central Africa",
                        "method": "update"
                      },
                      {
                        "args": [
                          {
                            "visible": [
                              false,
                              true,
                              false,
                              false,
                              false
                            ]
                          },
                          {
                            "title": "Average Methane Emissions from Cattle in East Africa (2000-2021)"
                          }
                        ],
                        "label": "East Africa",
                        "method": "update"
                      },
                      {
                        "args": [
                          {
                            "visible": [
                              false,
                              false,
                              true,
                              false,
                              false
                            ]
                          },
                          {
                            "title": "Average Methane Emissions from Cattle in North Africa (2000-2021)"
                          }
                        ],
                        "label": "North Africa",
                        "method": "update"
                      },
                      {
                        "args": [
                          {
                            "visible": [
                              false,
                              false,
                              false,
                              true,
                              false
                            ]
                          },
                          {
                            "title": "Average Methane Emissions from Cattle in Southern Africa (2000-2021)"
                          }
                        ],
                        "label": "Southern Africa",
                        "method": "update"
                      },
                      {
                        "args": [
                          {
                            "visible": [
                              false,
                              false,
                              false,
                              false,
                              true
                            ]
                          },
                          {
                            "title": "Average Methane Emissions from Cattle in West Africa (2000-2021)"
                          }
                        ],
                        "label": "West Africa",
                        "method": "update"
                      }
                    ],
                    "x": 1.15,
                    "y": 1.15
                  }
                ],
                "xaxis": {
                  "title": {
                    "text": "Year"
                  }
                },
                "yaxis": {
                  "title": {
                    "text": "Total Methane Emissions (kt)"
                  }
                }
              }
            }
          },
          "metadata": {},
          "output_type": "display_data"
        }
      ],
      "source": [
        "#@title Average Methane Emissions from Cattle by African Region (2000-2021)\n",
        "\n",
        "# Group the data by Region and year, and calculate the mean of the 'Value' column\n",
        "emissions_by_Region_year = africa_data.groupby(['Region', 'Year'])['Value'].mean().reset_index()\n",
        "\n",
        "# Create an empty figure\n",
        "fig = go.Figure()\n",
        "\n",
        "# Add a trace for each Region\n",
        "Regions = emissions_by_Region_year['Region'].unique()\n",
        "for Region in Regions:\n",
        "    Region_data = emissions_by_Region_year[emissions_by_Region_year['Region'] == Region]\n",
        "    fig.add_trace(go.Scatter(x=Region_data['Year'], y=Region_data['Value'], mode='lines+markers', name=Region, visible=False))\n",
        "\n",
        "# Make only the first Region visible\n",
        "fig.data[0].visible = True\n",
        "\n",
        "# Create dropdown menu options\n",
        "dropdown_buttons = []\n",
        "for i, Region in enumerate(Regions):\n",
        "    dropdown_buttons.append(dict(method='update',\n",
        "                                 label=Region,\n",
        "                                 args=[{'visible': [j == i for j in range(len(Regions))]},\n",
        "                                       {'title': f'Average Methane Emissions from Cattle in {Region} (2000-2021)'}]))\n",
        "\n",
        "# Add dropdown to the layout\n",
        "fig.update_layout(\n",
        "    updatemenus=[dict(active=0, buttons=dropdown_buttons, x=1.15, y=1.15)],\n",
        "    title=f'Average Methane Emissions from Cattle in {Regions[0]} (2000-2021)',\n",
        "    xaxis_title='Year',\n",
        "    yaxis_title='Total Methane Emissions (kt)',\n",
        ")\n",
        "\n",
        "# Show the figure\n",
        "fig.show()"
      ]
    },
    {
      "cell_type": "code",
      "execution_count": 38,
      "metadata": {
        "colab": {
          "base_uri": "https://localhost:8080/",
          "height": 542
        },
        "id": "HIRA3zifjiA9",
        "outputId": "e7df5a51-646b-4ae3-fbbd-cbe595f44f11"
      },
      "outputs": [
        {
          "data": {
            "application/vnd.plotly.v1+json": {
              "config": {
                "plotlyServerURL": "https://plot.ly"
              },
              "data": [
                {
                  "mode": "lines+markers",
                  "name": "Chad - Central Africa",
                  "type": "scatter",
                  "visible": true,
                  "x": [
                    2000,
                    2001,
                    2002,
                    2003,
                    2004,
                    2005,
                    2006,
                    2007,
                    2008,
                    2009,
                    2010,
                    2011,
                    2012,
                    2013,
                    2014,
                    2015,
                    2016,
                    2017,
                    2018,
                    2019,
                    2020,
                    2021
                  ],
                  "y": [
                    375.495,
                    395.161,
                    415.851,
                    437.661,
                    460.576,
                    484.722,
                    510.148,
                    536.8935,
                    565.0715,
                    594.762,
                    627.1728,
                    658.737,
                    693.135,
                    729.327,
                    767.486,
                    811.2795,
                    851.0499,
                    899.0103,
                    946.5592,
                    996.5791,
                    1049.2452,
                    1083.2803
                  ]
                },
                {
                  "mode": "lines+markers",
                  "name": "Cameroon - Central Africa",
                  "type": "scatter",
                  "visible": true,
                  "x": [
                    2000,
                    2001,
                    2002,
                    2003,
                    2004,
                    2005,
                    2006,
                    2007,
                    2008,
                    2009,
                    2010,
                    2011,
                    2012,
                    2013,
                    2014,
                    2015,
                    2016,
                    2017,
                    2018,
                    2019,
                    2020,
                    2021
                  ],
                  "y": [
                    192.124,
                    189.9433,
                    183.025,
                    189.5,
                    192.775,
                    196.05,
                    196.4653,
                    196.4675,
                    165.4015,
                    163.9146,
                    159.6293,
                    167.5421,
                    181.7431,
                    190.6445,
                    195.29,
                    198.6004,
                    201.5675,
                    197.8396,
                    202.0501,
                    201.9408,
                    203.1411,
                    203.978
                  ]
                },
                {
                  "mode": "lines+markers",
                  "name": "Angola - Central Africa",
                  "type": "scatter",
                  "visible": true,
                  "x": [
                    2000,
                    2001,
                    2002,
                    2003,
                    2004,
                    2005,
                    2006,
                    2007,
                    2008,
                    2009,
                    2010,
                    2011,
                    2012,
                    2013,
                    2014,
                    2015,
                    2016,
                    2017,
                    2018,
                    2019,
                    2020,
                    2021
                  ],
                  "y": [
                    135.404,
                    133.4082,
                    130.1055,
                    126.8022,
                    123.176,
                    134.5536,
                    137.474,
                    140.4895,
                    143.4514,
                    145.4014,
                    149.5509,
                    151.7999,
                    155.0392,
                    158.3992,
                    161.815,
                    166.1497,
                    169.0678,
                    165.8255,
                    168.2234,
                    170.0485,
                    171.5417,
                    172.7478
                  ]
                },
                {
                  "mode": "lines+markers",
                  "name": "Central African Republic - Central Africa",
                  "type": "scatter",
                  "visible": true,
                  "x": [
                    2000,
                    2001,
                    2002,
                    2003,
                    2004,
                    2005,
                    2006,
                    2007,
                    2008,
                    2009,
                    2010,
                    2011,
                    2012,
                    2013,
                    2014,
                    2015,
                    2016,
                    2017,
                    2018,
                    2019,
                    2020,
                    2021
                  ],
                  "y": [
                    103.6723,
                    106,
                    108.4672,
                    110.929,
                    113.436,
                    115.975,
                    119.1,
                    127.549,
                    123.186,
                    125.949,
                    128.776,
                    138.324,
                    140.35,
                    141.95,
                    143.8294,
                    146.7346,
                    149.7862,
                    147.0504,
                    149.7126,
                    152.3142,
                    154.8549,
                    157.3052
                  ]
                },
                {
                  "mode": "lines+markers",
                  "name": "Democratic Republic of the Congo - Central Africa",
                  "type": "scatter",
                  "visible": true,
                  "x": [
                    2000,
                    2001,
                    2002,
                    2003,
                    2004,
                    2005,
                    2006,
                    2007,
                    2008,
                    2009,
                    2010,
                    2011,
                    2012,
                    2013,
                    2014,
                    2015,
                    2016,
                    2017,
                    2018,
                    2019,
                    2020,
                    2021
                  ],
                  "y": [
                    26.4206,
                    25.4786,
                    24.4505,
                    24.4149,
                    24.3686,
                    24.3226,
                    24.2765,
                    24.2303,
                    24.1845,
                    24.1387,
                    24.0932,
                    24.0844,
                    28.7142,
                    30.4287,
                    30.4967,
                    32.2913,
                    33.5577,
                    34.7158,
                    36.7607,
                    38.9137,
                    43.145,
                    47.8366
                  ]
                },
                {
                  "mode": "lines+markers",
                  "name": "Ethiopia - East Africa",
                  "type": "scatter",
                  "visible": false,
                  "x": [
                    2000,
                    2001,
                    2002,
                    2003,
                    2004,
                    2005,
                    2006,
                    2007,
                    2008,
                    2009,
                    2010,
                    2011,
                    2012,
                    2013,
                    2014,
                    2015,
                    2016,
                    2017,
                    2018,
                    2019,
                    2020,
                    2021
                  ],
                  "y": [
                    1123.5106,
                    1205.766,
                    1362.0166,
                    1308.48,
                    1299.978,
                    1339.2231,
                    1446.3167,
                    1599.5568,
                    1682,
                    1772.7043,
                    1868.3819,
                    1826.7952,
                    1888.3542,
                    1925.8666,
                    1985.334,
                    2020.4558,
                    2081.071,
                    2111.0446,
                    2093.058,
                    2222.5249,
                    2362.6829,
                    2234.9462
                  ]
                },
                {
                  "mode": "lines+markers",
                  "name": "United Republic of Tanzania - East Africa",
                  "type": "scatter",
                  "visible": false,
                  "x": [
                    2000,
                    2001,
                    2002,
                    2003,
                    2004,
                    2005,
                    2006,
                    2007,
                    2008,
                    2009,
                    2010,
                    2011,
                    2012,
                    2013,
                    2014,
                    2015,
                    2016,
                    2017,
                    2018,
                    2019,
                    2020,
                    2021
                  ],
                  "y": [
                    585.816,
                    600.384,
                    618.369,
                    635.528,
                    636.8078,
                    649.5109,
                    683.5,
                    684.55,
                    700.9,
                    713.2,
                    719.3607,
                    785.1,
                    833.1,
                    889.2635,
                    930.6,
                    956.0554,
                    969.7903,
                    982.3044,
                    1008.4691,
                    1044.4879,
                    1070.756,
                    1097.0182
                  ]
                },
                {
                  "mode": "lines+markers",
                  "name": "Kenya - East Africa",
                  "type": "scatter",
                  "visible": false,
                  "x": [
                    2000,
                    2001,
                    2002,
                    2003,
                    2004,
                    2005,
                    2006,
                    2007,
                    2008,
                    2009,
                    2010,
                    2011,
                    2012,
                    2013,
                    2014,
                    2015,
                    2016,
                    2017,
                    2018,
                    2019,
                    2020,
                    2021
                  ],
                  "y": [
                    436.5836,
                    427.2276,
                    442.0793,
                    481.6349,
                    499.2172,
                    483.1197,
                    490.3207,
                    673.6946,
                    665.4714,
                    650.6758,
                    646.6353,
                    664.727,
                    697.9536,
                    666.532,
                    670.1742,
                    686.2984,
                    754.4341,
                    669.3419,
                    705.3301,
                    737.4971,
                    933.195,
                    806.5731
                  ]
                },
                {
                  "mode": "lines+markers",
                  "name": "Uganda - East Africa",
                  "type": "scatter",
                  "visible": false,
                  "x": [
                    2000,
                    2001,
                    2002,
                    2003,
                    2004,
                    2005,
                    2006,
                    2007,
                    2008,
                    2009,
                    2010,
                    2011,
                    2012,
                    2013,
                    2014,
                    2015,
                    2016,
                    2017,
                    2018,
                    2019,
                    2020,
                    2021
                  ],
                  "y": [
                    212.796,
                    219.108,
                    232.496,
                    248.913,
                    252.819,
                    260.89,
                    268.1392,
                    276.3334,
                    413.0797,
                    425.5321,
                    438.313,
                    449.9324,
                    461.5388,
                    467.2988,
                    488.436,
                    504.749,
                    513.7919,
                    509.6268,
                    523.1857,
                    530.7393,
                    521.2494,
                    525.1236
                  ]
                },
                {
                  "mode": "lines+markers",
                  "name": "Madagascar - East Africa",
                  "type": "scatter",
                  "visible": false,
                  "x": [
                    2000,
                    2001,
                    2002,
                    2003,
                    2004,
                    2005,
                    2006,
                    2007,
                    2008,
                    2009,
                    2010,
                    2011,
                    2012,
                    2013,
                    2014,
                    2015,
                    2016,
                    2017,
                    2018,
                    2019,
                    2020,
                    2021
                  ],
                  "y": [
                    360.148,
                    305.6,
                    275.3164,
                    279.9044,
                    283.36,
                    329.5044,
                    331.8453,
                    334.954,
                    338.36,
                    341.06,
                    343.4962,
                    346.256,
                    348.9532,
                    348.71,
                    354.1116,
                    356.9528,
                    357.6928,
                    358.4511,
                    299.6175,
                    302.8605,
                    299.4077,
                    307.64
                  ]
                },
                {
                  "mode": "lines+markers",
                  "name": "Egypt - North Africa",
                  "type": "scatter",
                  "visible": false,
                  "x": [
                    2000,
                    2001,
                    2002,
                    2003,
                    2004,
                    2005,
                    2006,
                    2007,
                    2008,
                    2009,
                    2010,
                    2011,
                    2012,
                    2013,
                    2014,
                    2015,
                    2016,
                    2017,
                    2018,
                    2019,
                    2020,
                    2021
                  ],
                  "y": [
                    133.5321,
                    145.0343,
                    154.592,
                    158.9923,
                    164.3373,
                    169.02,
                    173.095,
                    183.2015,
                    186.6048,
                    167.8708,
                    174.4191,
                    176.3518,
                    181.9851,
                    175.5766,
                    176.3997,
                    182.2989,
                    187.0368,
                    164.1502,
                    163.86,
                    115.9839,
                    113.7526,
                    116.2511
                  ]
                },
                {
                  "mode": "lines+markers",
                  "name": "Morocco - North Africa",
                  "type": "scatter",
                  "visible": false,
                  "x": [
                    2000,
                    2001,
                    2002,
                    2003,
                    2004,
                    2005,
                    2006,
                    2007,
                    2008,
                    2009,
                    2010,
                    2011,
                    2012,
                    2013,
                    2014,
                    2015,
                    2016,
                    2017,
                    2018,
                    2019,
                    2020,
                    2021
                  ],
                  "y": [
                    105.2072,
                    103.4572,
                    105.6772,
                    106.5852,
                    108.0216,
                    108.0944,
                    110.118,
                    110.4152,
                    111.888,
                    111.0442,
                    114.9406,
                    121.0338,
                    120.2588,
                    125.6255,
                    129.0933,
                    131.1477,
                    131.5095,
                    134.004,
                    137.0136,
                    132.6335,
                    126.3757,
                    126.8566
                  ]
                },
                {
                  "mode": "lines+markers",
                  "name": "Algeria - North Africa",
                  "type": "scatter",
                  "visible": false,
                  "x": [
                    2000,
                    2001,
                    2002,
                    2003,
                    2004,
                    2005,
                    2006,
                    2007,
                    2008,
                    2009,
                    2010,
                    2011,
                    2012,
                    2013,
                    2014,
                    2015,
                    2016,
                    2017,
                    2018,
                    2019,
                    2020,
                    2021
                  ],
                  "y": [
                    64.5483,
                    66.7373,
                    61.4546,
                    63.3324,
                    66.6834,
                    65.0042,
                    64.1671,
                    64.8241,
                    65.3062,
                    66.5879,
                    69.6574,
                    71.3948,
                    73.4972,
                    76.2676,
                    81.8789,
                    85.4026,
                    82.6012,
                    76.7497,
                    72.2634,
                    71.1564,
                    69.312,
                    69.1252
                  ]
                },
                {
                  "mode": "lines+markers",
                  "name": "Tunisia - North Africa",
                  "type": "scatter",
                  "visible": false,
                  "x": [
                    2000,
                    2001,
                    2002,
                    2003,
                    2004,
                    2005,
                    2006,
                    2007,
                    2008,
                    2009,
                    2010,
                    2011,
                    2012,
                    2013,
                    2014,
                    2015,
                    2016,
                    2017,
                    2018,
                    2019,
                    2020,
                    2021
                  ],
                  "y": [
                    32.794,
                    32.966,
                    32.946,
                    30.2921,
                    28.9682,
                    30.3622,
                    31.2008,
                    31.4992,
                    29.4488,
                    30.7306,
                    30.6188,
                    30.2834,
                    27.7911,
                    27.4588,
                    28.4994,
                    29.1073,
                    27.4666,
                    26.0076,
                    27.6341,
                    27.236,
                    27.0175,
                    26.8501
                  ]
                },
                {
                  "mode": "lines+markers",
                  "name": "Libya - North Africa",
                  "type": "scatter",
                  "visible": false,
                  "x": [
                    2000,
                    2001,
                    2002,
                    2003,
                    2004,
                    2005,
                    2006,
                    2007,
                    2008,
                    2009,
                    2010,
                    2011,
                    2012,
                    2013,
                    2014,
                    2015,
                    2016,
                    2017,
                    2018,
                    2019,
                    2020,
                    2021
                  ],
                  "y": [
                    5.3796,
                    5.3802,
                    5.94,
                    5.654,
                    5.9753,
                    6.1762,
                    7.5744,
                    7.5752,
                    7.576,
                    8.075,
                    8.265,
                    8.344,
                    8.391,
                    8.362,
                    8.395,
                    8.2338,
                    8.2933,
                    8.3461,
                    8.1007,
                    8.1357,
                    8.1516,
                    8.168
                  ]
                },
                {
                  "mode": "lines+markers",
                  "name": "South Africa - Southern Africa",
                  "type": "scatter",
                  "visible": false,
                  "x": [
                    2000,
                    2001,
                    2002,
                    2003,
                    2004,
                    2005,
                    2006,
                    2007,
                    2008,
                    2009,
                    2010,
                    2011,
                    2012,
                    2013,
                    2014,
                    2015,
                    2016,
                    2017,
                    2018,
                    2019,
                    2020,
                    2021
                  ],
                  "y": [
                    450.05,
                    446.85,
                    449.07,
                    445.066,
                    443.934,
                    453.58,
                    445.024,
                    457.0135,
                    458.3938,
                    455.3572,
                    454.3934,
                    452.5765,
                    458.3627,
                    458.4082,
                    459.5396,
                    452.4016,
                    443.9587,
                    429.5084,
                    424.2645,
                    417.8863,
                    408.5405,
                    406.4499
                  ]
                },
                {
                  "mode": "lines+markers",
                  "name": "Zimbabwe - Southern Africa",
                  "type": "scatter",
                  "visible": false,
                  "x": [
                    2000,
                    2001,
                    2002,
                    2003,
                    2004,
                    2005,
                    2006,
                    2007,
                    2008,
                    2009,
                    2010,
                    2011,
                    2012,
                    2013,
                    2014,
                    2015,
                    2016,
                    2017,
                    2018,
                    2019,
                    2020,
                    2021
                  ],
                  "y": [
                    214.6545,
                    217.974,
                    195.684,
                    187.27,
                    181.385,
                    180.737,
                    173.219,
                    175.063,
                    173.938,
                    184.173,
                    200.1107,
                    207.8184,
                    209.075,
                    210.675,
                    169.7374,
                    190.0132,
                    191.7624,
                    185.1184,
                    184.5572,
                    175.6972,
                    180.4147,
                    185.4718
                  ]
                },
                {
                  "mode": "lines+markers",
                  "name": "Namibia - Southern Africa",
                  "type": "scatter",
                  "visible": false,
                  "x": [
                    2000,
                    2001,
                    2002,
                    2003,
                    2004,
                    2005,
                    2006,
                    2007,
                    2008,
                    2009,
                    2010,
                    2011,
                    2012,
                    2013,
                    2014,
                    2015,
                    2016,
                    2017,
                    2018,
                    2019,
                    2020,
                    2021
                  ],
                  "y": [
                    83.4578,
                    83.7242,
                    77.6957,
                    77.935,
                    77.0505,
                    103.8094,
                    79.5117,
                    78.5069,
                    84.614,
                    82.372,
                    80.1,
                    78.5,
                    96.2724,
                    87.6464,
                    95.9103,
                    92.22,
                    105.5164,
                    98.1872,
                    96.3042,
                    100.0049,
                    98.1698,
                    98.164
                  ]
                },
                {
                  "mode": "lines+markers",
                  "name": "Botswana - Southern Africa",
                  "type": "scatter",
                  "visible": false,
                  "x": [
                    2000,
                    2001,
                    2002,
                    2003,
                    2004,
                    2005,
                    2006,
                    2007,
                    2008,
                    2009,
                    2010,
                    2011,
                    2012,
                    2013,
                    2014,
                    2015,
                    2016,
                    2017,
                    2018,
                    2019,
                    2020,
                    2021
                  ],
                  "y": [
                    88.3,
                    84.001,
                    68.0653,
                    69.246,
                    70.025,
                    72.5,
                    73.15,
                    73.8304,
                    75.6591,
                    82.0193,
                    89.8642,
                    86.6446,
                    76.8826,
                    71.6331,
                    54.6914,
                    59.4837,
                    51.375,
                    37.687,
                    38.3734,
                    32.9192,
                    28.2209,
                    35.8731
                  ]
                },
                {
                  "mode": "lines+markers",
                  "name": "Eswatini - Southern Africa",
                  "type": "scatter",
                  "visible": false,
                  "x": [
                    2000,
                    2001,
                    2002,
                    2003,
                    2004,
                    2005,
                    2006,
                    2007,
                    2008,
                    2009,
                    2010,
                    2011,
                    2012,
                    2013,
                    2014,
                    2015,
                    2016,
                    2017,
                    2018,
                    2019,
                    2020,
                    2021
                  ],
                  "y": [
                    20.7752,
                    17.9054,
                    18.7373,
                    21.3081,
                    21.5183,
                    21.705,
                    20.51,
                    20.745,
                    20.835,
                    20.895,
                    21.8709,
                    22.0452,
                    22.2195,
                    21.875,
                    21.8056,
                    21.5942,
                    21.3659,
                    21.2653,
                    21.4243,
                    21.6227,
                    21.6557,
                    21.6887
                  ]
                },
                {
                  "mode": "lines+markers",
                  "name": "Nigeria - West Africa",
                  "type": "scatter",
                  "visible": false,
                  "x": [
                    2000,
                    2001,
                    2002,
                    2003,
                    2004,
                    2005,
                    2006,
                    2007,
                    2008,
                    2009,
                    2010,
                    2011,
                    2012,
                    2013,
                    2014,
                    2015,
                    2016,
                    2017,
                    2018,
                    2019,
                    2020,
                    2021
                  ],
                  "y": [
                    507.5981,
                    508.1038,
                    509.7452,
                    510.2584,
                    528.305,
                    535.394,
                    541.3467,
                    546.1514,
                    547.1074,
                    555.4393,
                    558.0644,
                    643.8206,
                    649.8717,
                    655.4439,
                    667.804,
                    678.3137,
                    668.3181,
                    674.0649,
                    681.0841,
                    694.9749,
                    703.6657,
                    710.9404
                  ]
                },
                {
                  "mode": "lines+markers",
                  "name": "Niger - West Africa",
                  "type": "scatter",
                  "visible": false,
                  "x": [
                    2000,
                    2001,
                    2002,
                    2003,
                    2004,
                    2005,
                    2006,
                    2007,
                    2008,
                    2009,
                    2010,
                    2011,
                    2012,
                    2013,
                    2014,
                    2015,
                    2016,
                    2017,
                    2018,
                    2019,
                    2020,
                    2021
                  ],
                  "y": [
                    191.9225,
                    203.9478,
                    215.8547,
                    228.4309,
                    242.4668,
                    255.3048,
                    266.8625,
                    282.3169,
                    299.2559,
                    317.2112,
                    308.6575,
                    327.1769,
                    346.8075,
                    369.8818,
                    391.8071,
                    413.0533,
                    437.8365,
                    464.1066,
                    491.953,
                    521.4703,
                    552.7585,
                    581.7286
                  ]
                },
                {
                  "mode": "lines+markers",
                  "name": "Mali - West Africa",
                  "type": "scatter",
                  "visible": false,
                  "x": [
                    2000,
                    2001,
                    2002,
                    2003,
                    2004,
                    2005,
                    2006,
                    2007,
                    2008,
                    2009,
                    2010,
                    2011,
                    2012,
                    2013,
                    2014,
                    2015,
                    2016,
                    2017,
                    2018,
                    2019,
                    2020,
                    2021
                  ],
                  "y": [
                    202.3743,
                    208.5582,
                    232.881,
                    243.1001,
                    252.9031,
                    262.9086,
                    267.9205,
                    285.3757,
                    293.9371,
                    304.1075,
                    310.5895,
                    319.9101,
                    337.3618,
                    333.6725,
                    345.167,
                    355.5217,
                    376.381,
                    392.707,
                    404.4882,
                    416.0272,
                    429.1215,
                    441.9951
                  ]
                },
                {
                  "mode": "lines+markers",
                  "name": "Burkina Faso - West Africa",
                  "type": "scatter",
                  "visible": false,
                  "x": [
                    2000,
                    2001,
                    2002,
                    2003,
                    2004,
                    2005,
                    2006,
                    2007,
                    2008,
                    2009,
                    2010,
                    2011,
                    2012,
                    2013,
                    2014,
                    2015,
                    2016,
                    2017,
                    2018,
                    2019,
                    2020,
                    2021
                  ],
                  "y": [
                    163.3656,
                    166.633,
                    169.9657,
                    248.9368,
                    253.9149,
                    258.9924,
                    264.1716,
                    269.4542,
                    274.8425,
                    280.3385,
                    285.9445,
                    291.6627,
                    297.4952,
                    303.4457,
                    310.4024,
                    317.7203,
                    326.6539,
                    333.1563,
                    339.63,
                    346.684,
                    352.484,
                    357.8512
                  ]
                },
                {
                  "mode": "lines+markers",
                  "name": "Guinea - West Africa",
                  "type": "scatter",
                  "visible": false,
                  "x": [
                    2000,
                    2001,
                    2002,
                    2003,
                    2004,
                    2005,
                    2006,
                    2007,
                    2008,
                    2009,
                    2010,
                    2011,
                    2012,
                    2013,
                    2014,
                    2015,
                    2016,
                    2017,
                    2018,
                    2019,
                    2020,
                    2021
                  ],
                  "y": [
                    97.843,
                    103.1704,
                    108.6541,
                    114.6109,
                    120.8975,
                    127.5281,
                    134.7462,
                    142.0007,
                    149.6831,
                    157.8955,
                    166.6854,
                    175.854,
                    184.9867,
                    194.6352,
                    203.743,
                    215.9365,
                    227.6648,
                    238.936,
                    251.6818,
                    264.922,
                    278.7399,
                    293.4829
                  ]
                }
              ],
              "layout": {
                "template": {
                  "data": {
                    "bar": [
                      {
                        "error_x": {
                          "color": "#2a3f5f"
                        },
                        "error_y": {
                          "color": "#2a3f5f"
                        },
                        "marker": {
                          "line": {
                            "color": "white",
                            "width": 0.5
                          },
                          "pattern": {
                            "fillmode": "overlay",
                            "size": 10,
                            "solidity": 0.2
                          }
                        },
                        "type": "bar"
                      }
                    ],
                    "barpolar": [
                      {
                        "marker": {
                          "line": {
                            "color": "white",
                            "width": 0.5
                          },
                          "pattern": {
                            "fillmode": "overlay",
                            "size": 10,
                            "solidity": 0.2
                          }
                        },
                        "type": "barpolar"
                      }
                    ],
                    "carpet": [
                      {
                        "aaxis": {
                          "endlinecolor": "#2a3f5f",
                          "gridcolor": "#C8D4E3",
                          "linecolor": "#C8D4E3",
                          "minorgridcolor": "#C8D4E3",
                          "startlinecolor": "#2a3f5f"
                        },
                        "baxis": {
                          "endlinecolor": "#2a3f5f",
                          "gridcolor": "#C8D4E3",
                          "linecolor": "#C8D4E3",
                          "minorgridcolor": "#C8D4E3",
                          "startlinecolor": "#2a3f5f"
                        },
                        "type": "carpet"
                      }
                    ],
                    "choropleth": [
                      {
                        "colorbar": {
                          "outlinewidth": 0,
                          "ticks": ""
                        },
                        "type": "choropleth"
                      }
                    ],
                    "contour": [
                      {
                        "colorbar": {
                          "outlinewidth": 0,
                          "ticks": ""
                        },
                        "colorscale": [
                          [
                            0,
                            "#0d0887"
                          ],
                          [
                            0.1111111111111111,
                            "#46039f"
                          ],
                          [
                            0.2222222222222222,
                            "#7201a8"
                          ],
                          [
                            0.3333333333333333,
                            "#9c179e"
                          ],
                          [
                            0.4444444444444444,
                            "#bd3786"
                          ],
                          [
                            0.5555555555555556,
                            "#d8576b"
                          ],
                          [
                            0.6666666666666666,
                            "#ed7953"
                          ],
                          [
                            0.7777777777777778,
                            "#fb9f3a"
                          ],
                          [
                            0.8888888888888888,
                            "#fdca26"
                          ],
                          [
                            1,
                            "#f0f921"
                          ]
                        ],
                        "type": "contour"
                      }
                    ],
                    "contourcarpet": [
                      {
                        "colorbar": {
                          "outlinewidth": 0,
                          "ticks": ""
                        },
                        "type": "contourcarpet"
                      }
                    ],
                    "heatmap": [
                      {
                        "colorbar": {
                          "outlinewidth": 0,
                          "ticks": ""
                        },
                        "colorscale": [
                          [
                            0,
                            "#0d0887"
                          ],
                          [
                            0.1111111111111111,
                            "#46039f"
                          ],
                          [
                            0.2222222222222222,
                            "#7201a8"
                          ],
                          [
                            0.3333333333333333,
                            "#9c179e"
                          ],
                          [
                            0.4444444444444444,
                            "#bd3786"
                          ],
                          [
                            0.5555555555555556,
                            "#d8576b"
                          ],
                          [
                            0.6666666666666666,
                            "#ed7953"
                          ],
                          [
                            0.7777777777777778,
                            "#fb9f3a"
                          ],
                          [
                            0.8888888888888888,
                            "#fdca26"
                          ],
                          [
                            1,
                            "#f0f921"
                          ]
                        ],
                        "type": "heatmap"
                      }
                    ],
                    "heatmapgl": [
                      {
                        "colorbar": {
                          "outlinewidth": 0,
                          "ticks": ""
                        },
                        "colorscale": [
                          [
                            0,
                            "#0d0887"
                          ],
                          [
                            0.1111111111111111,
                            "#46039f"
                          ],
                          [
                            0.2222222222222222,
                            "#7201a8"
                          ],
                          [
                            0.3333333333333333,
                            "#9c179e"
                          ],
                          [
                            0.4444444444444444,
                            "#bd3786"
                          ],
                          [
                            0.5555555555555556,
                            "#d8576b"
                          ],
                          [
                            0.6666666666666666,
                            "#ed7953"
                          ],
                          [
                            0.7777777777777778,
                            "#fb9f3a"
                          ],
                          [
                            0.8888888888888888,
                            "#fdca26"
                          ],
                          [
                            1,
                            "#f0f921"
                          ]
                        ],
                        "type": "heatmapgl"
                      }
                    ],
                    "histogram": [
                      {
                        "marker": {
                          "pattern": {
                            "fillmode": "overlay",
                            "size": 10,
                            "solidity": 0.2
                          }
                        },
                        "type": "histogram"
                      }
                    ],
                    "histogram2d": [
                      {
                        "colorbar": {
                          "outlinewidth": 0,
                          "ticks": ""
                        },
                        "colorscale": [
                          [
                            0,
                            "#0d0887"
                          ],
                          [
                            0.1111111111111111,
                            "#46039f"
                          ],
                          [
                            0.2222222222222222,
                            "#7201a8"
                          ],
                          [
                            0.3333333333333333,
                            "#9c179e"
                          ],
                          [
                            0.4444444444444444,
                            "#bd3786"
                          ],
                          [
                            0.5555555555555556,
                            "#d8576b"
                          ],
                          [
                            0.6666666666666666,
                            "#ed7953"
                          ],
                          [
                            0.7777777777777778,
                            "#fb9f3a"
                          ],
                          [
                            0.8888888888888888,
                            "#fdca26"
                          ],
                          [
                            1,
                            "#f0f921"
                          ]
                        ],
                        "type": "histogram2d"
                      }
                    ],
                    "histogram2dcontour": [
                      {
                        "colorbar": {
                          "outlinewidth": 0,
                          "ticks": ""
                        },
                        "colorscale": [
                          [
                            0,
                            "#0d0887"
                          ],
                          [
                            0.1111111111111111,
                            "#46039f"
                          ],
                          [
                            0.2222222222222222,
                            "#7201a8"
                          ],
                          [
                            0.3333333333333333,
                            "#9c179e"
                          ],
                          [
                            0.4444444444444444,
                            "#bd3786"
                          ],
                          [
                            0.5555555555555556,
                            "#d8576b"
                          ],
                          [
                            0.6666666666666666,
                            "#ed7953"
                          ],
                          [
                            0.7777777777777778,
                            "#fb9f3a"
                          ],
                          [
                            0.8888888888888888,
                            "#fdca26"
                          ],
                          [
                            1,
                            "#f0f921"
                          ]
                        ],
                        "type": "histogram2dcontour"
                      }
                    ],
                    "mesh3d": [
                      {
                        "colorbar": {
                          "outlinewidth": 0,
                          "ticks": ""
                        },
                        "type": "mesh3d"
                      }
                    ],
                    "parcoords": [
                      {
                        "line": {
                          "colorbar": {
                            "outlinewidth": 0,
                            "ticks": ""
                          }
                        },
                        "type": "parcoords"
                      }
                    ],
                    "pie": [
                      {
                        "automargin": true,
                        "type": "pie"
                      }
                    ],
                    "scatter": [
                      {
                        "fillpattern": {
                          "fillmode": "overlay",
                          "size": 10,
                          "solidity": 0.2
                        },
                        "type": "scatter"
                      }
                    ],
                    "scatter3d": [
                      {
                        "line": {
                          "colorbar": {
                            "outlinewidth": 0,
                            "ticks": ""
                          }
                        },
                        "marker": {
                          "colorbar": {
                            "outlinewidth": 0,
                            "ticks": ""
                          }
                        },
                        "type": "scatter3d"
                      }
                    ],
                    "scattercarpet": [
                      {
                        "marker": {
                          "colorbar": {
                            "outlinewidth": 0,
                            "ticks": ""
                          }
                        },
                        "type": "scattercarpet"
                      }
                    ],
                    "scattergeo": [
                      {
                        "marker": {
                          "colorbar": {
                            "outlinewidth": 0,
                            "ticks": ""
                          }
                        },
                        "type": "scattergeo"
                      }
                    ],
                    "scattergl": [
                      {
                        "marker": {
                          "colorbar": {
                            "outlinewidth": 0,
                            "ticks": ""
                          }
                        },
                        "type": "scattergl"
                      }
                    ],
                    "scattermapbox": [
                      {
                        "marker": {
                          "colorbar": {
                            "outlinewidth": 0,
                            "ticks": ""
                          }
                        },
                        "type": "scattermapbox"
                      }
                    ],
                    "scatterpolar": [
                      {
                        "marker": {
                          "colorbar": {
                            "outlinewidth": 0,
                            "ticks": ""
                          }
                        },
                        "type": "scatterpolar"
                      }
                    ],
                    "scatterpolargl": [
                      {
                        "marker": {
                          "colorbar": {
                            "outlinewidth": 0,
                            "ticks": ""
                          }
                        },
                        "type": "scatterpolargl"
                      }
                    ],
                    "scatterternary": [
                      {
                        "marker": {
                          "colorbar": {
                            "outlinewidth": 0,
                            "ticks": ""
                          }
                        },
                        "type": "scatterternary"
                      }
                    ],
                    "surface": [
                      {
                        "colorbar": {
                          "outlinewidth": 0,
                          "ticks": ""
                        },
                        "colorscale": [
                          [
                            0,
                            "#0d0887"
                          ],
                          [
                            0.1111111111111111,
                            "#46039f"
                          ],
                          [
                            0.2222222222222222,
                            "#7201a8"
                          ],
                          [
                            0.3333333333333333,
                            "#9c179e"
                          ],
                          [
                            0.4444444444444444,
                            "#bd3786"
                          ],
                          [
                            0.5555555555555556,
                            "#d8576b"
                          ],
                          [
                            0.6666666666666666,
                            "#ed7953"
                          ],
                          [
                            0.7777777777777778,
                            "#fb9f3a"
                          ],
                          [
                            0.8888888888888888,
                            "#fdca26"
                          ],
                          [
                            1,
                            "#f0f921"
                          ]
                        ],
                        "type": "surface"
                      }
                    ],
                    "table": [
                      {
                        "cells": {
                          "fill": {
                            "color": "#EBF0F8"
                          },
                          "line": {
                            "color": "white"
                          }
                        },
                        "header": {
                          "fill": {
                            "color": "#C8D4E3"
                          },
                          "line": {
                            "color": "white"
                          }
                        },
                        "type": "table"
                      }
                    ]
                  },
                  "layout": {
                    "annotationdefaults": {
                      "arrowcolor": "#2a3f5f",
                      "arrowhead": 0,
                      "arrowwidth": 1
                    },
                    "autotypenumbers": "strict",
                    "coloraxis": {
                      "colorbar": {
                        "outlinewidth": 0,
                        "ticks": ""
                      }
                    },
                    "colorscale": {
                      "diverging": [
                        [
                          0,
                          "#8e0152"
                        ],
                        [
                          0.1,
                          "#c51b7d"
                        ],
                        [
                          0.2,
                          "#de77ae"
                        ],
                        [
                          0.3,
                          "#f1b6da"
                        ],
                        [
                          0.4,
                          "#fde0ef"
                        ],
                        [
                          0.5,
                          "#f7f7f7"
                        ],
                        [
                          0.6,
                          "#e6f5d0"
                        ],
                        [
                          0.7,
                          "#b8e186"
                        ],
                        [
                          0.8,
                          "#7fbc41"
                        ],
                        [
                          0.9,
                          "#4d9221"
                        ],
                        [
                          1,
                          "#276419"
                        ]
                      ],
                      "sequential": [
                        [
                          0,
                          "#0d0887"
                        ],
                        [
                          0.1111111111111111,
                          "#46039f"
                        ],
                        [
                          0.2222222222222222,
                          "#7201a8"
                        ],
                        [
                          0.3333333333333333,
                          "#9c179e"
                        ],
                        [
                          0.4444444444444444,
                          "#bd3786"
                        ],
                        [
                          0.5555555555555556,
                          "#d8576b"
                        ],
                        [
                          0.6666666666666666,
                          "#ed7953"
                        ],
                        [
                          0.7777777777777778,
                          "#fb9f3a"
                        ],
                        [
                          0.8888888888888888,
                          "#fdca26"
                        ],
                        [
                          1,
                          "#f0f921"
                        ]
                      ],
                      "sequentialminus": [
                        [
                          0,
                          "#0d0887"
                        ],
                        [
                          0.1111111111111111,
                          "#46039f"
                        ],
                        [
                          0.2222222222222222,
                          "#7201a8"
                        ],
                        [
                          0.3333333333333333,
                          "#9c179e"
                        ],
                        [
                          0.4444444444444444,
                          "#bd3786"
                        ],
                        [
                          0.5555555555555556,
                          "#d8576b"
                        ],
                        [
                          0.6666666666666666,
                          "#ed7953"
                        ],
                        [
                          0.7777777777777778,
                          "#fb9f3a"
                        ],
                        [
                          0.8888888888888888,
                          "#fdca26"
                        ],
                        [
                          1,
                          "#f0f921"
                        ]
                      ]
                    },
                    "colorway": [
                      "#636efa",
                      "#EF553B",
                      "#00cc96",
                      "#ab63fa",
                      "#FFA15A",
                      "#19d3f3",
                      "#FF6692",
                      "#B6E880",
                      "#FF97FF",
                      "#FECB52"
                    ],
                    "font": {
                      "color": "#2a3f5f"
                    },
                    "geo": {
                      "bgcolor": "white",
                      "lakecolor": "white",
                      "landcolor": "white",
                      "showlakes": true,
                      "showland": true,
                      "subunitcolor": "#C8D4E3"
                    },
                    "hoverlabel": {
                      "align": "left"
                    },
                    "hovermode": "closest",
                    "mapbox": {
                      "style": "light"
                    },
                    "paper_bgcolor": "white",
                    "plot_bgcolor": "white",
                    "polar": {
                      "angularaxis": {
                        "gridcolor": "#EBF0F8",
                        "linecolor": "#EBF0F8",
                        "ticks": ""
                      },
                      "bgcolor": "white",
                      "radialaxis": {
                        "gridcolor": "#EBF0F8",
                        "linecolor": "#EBF0F8",
                        "ticks": ""
                      }
                    },
                    "scene": {
                      "xaxis": {
                        "backgroundcolor": "white",
                        "gridcolor": "#DFE8F3",
                        "gridwidth": 2,
                        "linecolor": "#EBF0F8",
                        "showbackground": true,
                        "ticks": "",
                        "zerolinecolor": "#EBF0F8"
                      },
                      "yaxis": {
                        "backgroundcolor": "white",
                        "gridcolor": "#DFE8F3",
                        "gridwidth": 2,
                        "linecolor": "#EBF0F8",
                        "showbackground": true,
                        "ticks": "",
                        "zerolinecolor": "#EBF0F8"
                      },
                      "zaxis": {
                        "backgroundcolor": "white",
                        "gridcolor": "#DFE8F3",
                        "gridwidth": 2,
                        "linecolor": "#EBF0F8",
                        "showbackground": true,
                        "ticks": "",
                        "zerolinecolor": "#EBF0F8"
                      }
                    },
                    "shapedefaults": {
                      "line": {
                        "color": "#2a3f5f"
                      }
                    },
                    "ternary": {
                      "aaxis": {
                        "gridcolor": "#DFE8F3",
                        "linecolor": "#A2B1C6",
                        "ticks": ""
                      },
                      "baxis": {
                        "gridcolor": "#DFE8F3",
                        "linecolor": "#A2B1C6",
                        "ticks": ""
                      },
                      "bgcolor": "white",
                      "caxis": {
                        "gridcolor": "#DFE8F3",
                        "linecolor": "#A2B1C6",
                        "ticks": ""
                      }
                    },
                    "title": {
                      "x": 0.05
                    },
                    "xaxis": {
                      "automargin": true,
                      "gridcolor": "#EBF0F8",
                      "linecolor": "#EBF0F8",
                      "ticks": "",
                      "title": {
                        "standoff": 15
                      },
                      "zerolinecolor": "#EBF0F8",
                      "zerolinewidth": 2
                    },
                    "yaxis": {
                      "automargin": true,
                      "gridcolor": "#EBF0F8",
                      "linecolor": "#EBF0F8",
                      "ticks": "",
                      "title": {
                        "standoff": 15
                      },
                      "zerolinecolor": "#EBF0F8",
                      "zerolinewidth": 2
                    }
                  }
                },
                "title": {
                  "text": "Select an African Region to View Top 5 Countries' Methane Emissions"
                },
                "updatemenus": [
                  {
                    "active": 0,
                    "buttons": [
                      {
                        "args": [
                          {
                            "visible": [
                              true,
                              true,
                              true,
                              true,
                              true,
                              false,
                              false,
                              false,
                              false,
                              false,
                              false,
                              false,
                              false,
                              false,
                              false,
                              false,
                              false,
                              false,
                              false,
                              false,
                              false,
                              false,
                              false,
                              false,
                              false
                            ]
                          },
                          {
                            "title": "Top 5 Countries' Methane Emission in Central Africa (2000-2021)"
                          }
                        ],
                        "label": "Central Africa",
                        "method": "update"
                      },
                      {
                        "args": [
                          {
                            "visible": [
                              false,
                              false,
                              false,
                              false,
                              false,
                              true,
                              true,
                              true,
                              true,
                              true,
                              false,
                              false,
                              false,
                              false,
                              false,
                              false,
                              false,
                              false,
                              false,
                              false,
                              false,
                              false,
                              false,
                              false,
                              false
                            ]
                          },
                          {
                            "title": "Top 5 Countries' Methane Emission in East Africa (2000-2021)"
                          }
                        ],
                        "label": "East Africa",
                        "method": "update"
                      },
                      {
                        "args": [
                          {
                            "visible": [
                              false,
                              false,
                              false,
                              false,
                              false,
                              false,
                              false,
                              false,
                              false,
                              false,
                              true,
                              true,
                              true,
                              true,
                              true,
                              false,
                              false,
                              false,
                              false,
                              false,
                              false,
                              false,
                              false,
                              false,
                              false
                            ]
                          },
                          {
                            "title": "Top 5 Countries' Methane Emission in North Africa (2000-2021)"
                          }
                        ],
                        "label": "North Africa",
                        "method": "update"
                      },
                      {
                        "args": [
                          {
                            "visible": [
                              false,
                              false,
                              false,
                              false,
                              false,
                              false,
                              false,
                              false,
                              false,
                              false,
                              false,
                              false,
                              false,
                              false,
                              false,
                              true,
                              true,
                              true,
                              true,
                              true,
                              false,
                              false,
                              false,
                              false,
                              false
                            ]
                          },
                          {
                            "title": "Top 5 Countries' Methane Emission in Southern Africa (2000-2021)"
                          }
                        ],
                        "label": "Southern Africa",
                        "method": "update"
                      },
                      {
                        "args": [
                          {
                            "visible": [
                              false,
                              false,
                              false,
                              false,
                              false,
                              false,
                              false,
                              false,
                              false,
                              false,
                              false,
                              false,
                              false,
                              false,
                              false,
                              false,
                              false,
                              false,
                              false,
                              false,
                              true,
                              true,
                              true,
                              true,
                              true
                            ]
                          },
                          {
                            "title": "Top 5 Countries' Methane Emission in West Africa (2000-2021)"
                          }
                        ],
                        "label": "West Africa",
                        "method": "update"
                      }
                    ],
                    "x": 0.17,
                    "xanchor": "left",
                    "y": 1.15,
                    "yanchor": "top"
                  }
                ],
                "xaxis": {
                  "title": {
                    "text": "Year"
                  }
                },
                "yaxis": {
                  "title": {
                    "text": "Methane Emission Value (kt)"
                  }
                }
              }
            }
          },
          "metadata": {},
          "output_type": "display_data"
        }
      ],
      "source": [
        "# @title Top 5 Countries' Methane Emission in Africa Regions\n",
        "\n",
        "# Group by Region, Area, and Year, and average the 'Value'\n",
        "grouped = africa_data.groupby(['Region', 'Area', 'Year'])['Value'].mean().reset_index()\n",
        "\n",
        "# Find the top 5 countries per Region based on total Value\n",
        "top_countries_per_Region = grouped.groupby(['Region', 'Area'])['Value'].mean().reset_index()\n",
        "top_5_countries = top_countries_per_Region.groupby('Region').apply(lambda x: x.nlargest(5, 'Value')).reset_index(drop=True)\n",
        "\n",
        "# Create a figure with dropdown\n",
        "fig = go.Figure()\n",
        "\n",
        "# Create dropdown options for each Region\n",
        "for Region in top_5_countries['Region'].unique():\n",
        "    top_countries = top_5_countries[top_5_countries['Region'] == Region]['Area'].values\n",
        "    Region_data = grouped[(grouped['Region'] == Region) & (grouped['Area'].isin(top_countries))]\n",
        "\n",
        "    # Add trace for each country in the selected Region\n",
        "    for country in top_countries:\n",
        "        country_data = Region_data[Region_data['Area'] == country]\n",
        "        fig.add_trace(go.Scatter(x=country_data['Year'], y=country_data['Value'], mode='lines+markers',\n",
        "                                 name=f'{country} - {Region}',\n",
        "                                 visible=False))  # Initially set all traces to invisible\n",
        "\n",
        "# Add visibility toggle through dropdown buttons\n",
        "buttons = []\n",
        "for i, Region in enumerate(top_5_countries['Region'].unique()):\n",
        "    visible = [False] * len(fig.data)\n",
        "    start_idx = i * 5  # Each Region has 5 countries\n",
        "    visible[start_idx:start_idx + 5] = [True] * 5  # Show only the countries for the selected Region\n",
        "\n",
        "    buttons.append(dict(label=Region,\n",
        "                        method=\"update\",\n",
        "                        args=[{\"visible\": visible},\n",
        "                              {\"title\": f\"Top 5 Countries' Methane Emission in {Region} (2000-2021)\"}]))\n",
        "\n",
        "# Update layout with dropdown menu\n",
        "fig.update_layout(\n",
        "    updatemenus=[dict(active=0,\n",
        "                      buttons=buttons,\n",
        "                      x=0.17, y=1.15,  # Position the dropdown\n",
        "                      xanchor='left', yanchor='top')],\n",
        "    title=\"Select an African Region to View Top 5 Countries' Methane Emissions\",\n",
        "    xaxis_title=\"Year\",\n",
        "    yaxis_title=\"Methane Emission Value (kt)\",\n",
        "    template=\"plotly_white\"\n",
        ")\n",
        "\n",
        "# Make the first Region (default) visible\n",
        "for i in range(5):\n",
        "    fig.data[i].visible = True\n",
        "\n",
        "# Show the interactive plot\n",
        "fig.show()"
      ]
    },
    {
      "cell_type": "code",
      "execution_count": 39,
      "metadata": {
        "colab": {
          "base_uri": "https://localhost:8080/",
          "height": 564
        },
        "id": "7VbdvClfMNnj",
        "outputId": "7927f549-8e13-499f-da27-c3c26f99aefb"
      },
      "outputs": [],
      "source": [
        "# @title Livestock Methane Emmission Distribution for Nigeria (2000-2021)\n",
        "\n",
        "plt.figure(figsize=(10, 6))\n",
        "Nigeria_data = df[df['Area'] == 'Nigeria']\n",
        "plt.plot(Nigeria_data['Year'], Nigeria_data['Value'], marker='o')\n",
        "plt.title('Livestock Methane Emmission Distribution for Nigeria (2000-2021)')\n",
        "plt.xlabel('Year')\n",
        "plt.ylabel('Methane Value (kt)');"
      ]
    },
    {
      "cell_type": "code",
      "execution_count": 40,
      "metadata": {
        "colab": {
          "base_uri": "https://localhost:8080/",
          "height": 542
        },
        "id": "xXgYHVK-Eam9",
        "outputId": "0a8c5365-56d9-4458-a279-339eaf055816"
      },
      "outputs": [
        {
          "data": {
            "application/vnd.plotly.v1+json": {
              "config": {
                "plotlyServerURL": "https://plot.ly"
              },
              "data": [
                {
                  "hovertemplate": "Year=%{x}<br>Methane Value (kt)=%{y}<extra></extra>",
                  "legendgroup": "",
                  "line": {
                    "color": "#636efa",
                    "dash": "solid"
                  },
                  "marker": {
                    "symbol": "circle"
                  },
                  "mode": "lines+markers",
                  "name": "",
                  "orientation": "v",
                  "showlegend": false,
                  "type": "scatter",
                  "x": [
                    2000,
                    2001,
                    2002,
                    2003,
                    2004,
                    2005,
                    2006,
                    2007,
                    2008,
                    2009,
                    2010,
                    2011,
                    2012,
                    2013,
                    2014,
                    2015,
                    2016,
                    2017,
                    2018,
                    2019,
                    2020,
                    2021
                  ],
                  "xaxis": "x",
                  "y": [
                    507.5981,
                    508.1038,
                    509.7452,
                    510.2584,
                    528.305,
                    535.394,
                    541.3467,
                    546.1514,
                    547.1074,
                    555.4393,
                    558.0644,
                    643.8206,
                    649.8717,
                    655.4439,
                    667.804,
                    678.3137,
                    668.3181,
                    674.0649,
                    681.0841,
                    694.9749,
                    703.6657,
                    710.9404
                  ],
                  "yaxis": "y"
                }
              ],
              "layout": {
                "legend": {
                  "tracegroupgap": 0
                },
                "showlegend": false,
                "template": {
                  "data": {
                    "bar": [
                      {
                        "error_x": {
                          "color": "#2a3f5f"
                        },
                        "error_y": {
                          "color": "#2a3f5f"
                        },
                        "marker": {
                          "line": {
                            "color": "#E5ECF6",
                            "width": 0.5
                          },
                          "pattern": {
                            "fillmode": "overlay",
                            "size": 10,
                            "solidity": 0.2
                          }
                        },
                        "type": "bar"
                      }
                    ],
                    "barpolar": [
                      {
                        "marker": {
                          "line": {
                            "color": "#E5ECF6",
                            "width": 0.5
                          },
                          "pattern": {
                            "fillmode": "overlay",
                            "size": 10,
                            "solidity": 0.2
                          }
                        },
                        "type": "barpolar"
                      }
                    ],
                    "carpet": [
                      {
                        "aaxis": {
                          "endlinecolor": "#2a3f5f",
                          "gridcolor": "white",
                          "linecolor": "white",
                          "minorgridcolor": "white",
                          "startlinecolor": "#2a3f5f"
                        },
                        "baxis": {
                          "endlinecolor": "#2a3f5f",
                          "gridcolor": "white",
                          "linecolor": "white",
                          "minorgridcolor": "white",
                          "startlinecolor": "#2a3f5f"
                        },
                        "type": "carpet"
                      }
                    ],
                    "choropleth": [
                      {
                        "colorbar": {
                          "outlinewidth": 0,
                          "ticks": ""
                        },
                        "type": "choropleth"
                      }
                    ],
                    "contour": [
                      {
                        "colorbar": {
                          "outlinewidth": 0,
                          "ticks": ""
                        },
                        "colorscale": [
                          [
                            0,
                            "#0d0887"
                          ],
                          [
                            0.1111111111111111,
                            "#46039f"
                          ],
                          [
                            0.2222222222222222,
                            "#7201a8"
                          ],
                          [
                            0.3333333333333333,
                            "#9c179e"
                          ],
                          [
                            0.4444444444444444,
                            "#bd3786"
                          ],
                          [
                            0.5555555555555556,
                            "#d8576b"
                          ],
                          [
                            0.6666666666666666,
                            "#ed7953"
                          ],
                          [
                            0.7777777777777778,
                            "#fb9f3a"
                          ],
                          [
                            0.8888888888888888,
                            "#fdca26"
                          ],
                          [
                            1,
                            "#f0f921"
                          ]
                        ],
                        "type": "contour"
                      }
                    ],
                    "contourcarpet": [
                      {
                        "colorbar": {
                          "outlinewidth": 0,
                          "ticks": ""
                        },
                        "type": "contourcarpet"
                      }
                    ],
                    "heatmap": [
                      {
                        "colorbar": {
                          "outlinewidth": 0,
                          "ticks": ""
                        },
                        "colorscale": [
                          [
                            0,
                            "#0d0887"
                          ],
                          [
                            0.1111111111111111,
                            "#46039f"
                          ],
                          [
                            0.2222222222222222,
                            "#7201a8"
                          ],
                          [
                            0.3333333333333333,
                            "#9c179e"
                          ],
                          [
                            0.4444444444444444,
                            "#bd3786"
                          ],
                          [
                            0.5555555555555556,
                            "#d8576b"
                          ],
                          [
                            0.6666666666666666,
                            "#ed7953"
                          ],
                          [
                            0.7777777777777778,
                            "#fb9f3a"
                          ],
                          [
                            0.8888888888888888,
                            "#fdca26"
                          ],
                          [
                            1,
                            "#f0f921"
                          ]
                        ],
                        "type": "heatmap"
                      }
                    ],
                    "heatmapgl": [
                      {
                        "colorbar": {
                          "outlinewidth": 0,
                          "ticks": ""
                        },
                        "colorscale": [
                          [
                            0,
                            "#0d0887"
                          ],
                          [
                            0.1111111111111111,
                            "#46039f"
                          ],
                          [
                            0.2222222222222222,
                            "#7201a8"
                          ],
                          [
                            0.3333333333333333,
                            "#9c179e"
                          ],
                          [
                            0.4444444444444444,
                            "#bd3786"
                          ],
                          [
                            0.5555555555555556,
                            "#d8576b"
                          ],
                          [
                            0.6666666666666666,
                            "#ed7953"
                          ],
                          [
                            0.7777777777777778,
                            "#fb9f3a"
                          ],
                          [
                            0.8888888888888888,
                            "#fdca26"
                          ],
                          [
                            1,
                            "#f0f921"
                          ]
                        ],
                        "type": "heatmapgl"
                      }
                    ],
                    "histogram": [
                      {
                        "marker": {
                          "pattern": {
                            "fillmode": "overlay",
                            "size": 10,
                            "solidity": 0.2
                          }
                        },
                        "type": "histogram"
                      }
                    ],
                    "histogram2d": [
                      {
                        "colorbar": {
                          "outlinewidth": 0,
                          "ticks": ""
                        },
                        "colorscale": [
                          [
                            0,
                            "#0d0887"
                          ],
                          [
                            0.1111111111111111,
                            "#46039f"
                          ],
                          [
                            0.2222222222222222,
                            "#7201a8"
                          ],
                          [
                            0.3333333333333333,
                            "#9c179e"
                          ],
                          [
                            0.4444444444444444,
                            "#bd3786"
                          ],
                          [
                            0.5555555555555556,
                            "#d8576b"
                          ],
                          [
                            0.6666666666666666,
                            "#ed7953"
                          ],
                          [
                            0.7777777777777778,
                            "#fb9f3a"
                          ],
                          [
                            0.8888888888888888,
                            "#fdca26"
                          ],
                          [
                            1,
                            "#f0f921"
                          ]
                        ],
                        "type": "histogram2d"
                      }
                    ],
                    "histogram2dcontour": [
                      {
                        "colorbar": {
                          "outlinewidth": 0,
                          "ticks": ""
                        },
                        "colorscale": [
                          [
                            0,
                            "#0d0887"
                          ],
                          [
                            0.1111111111111111,
                            "#46039f"
                          ],
                          [
                            0.2222222222222222,
                            "#7201a8"
                          ],
                          [
                            0.3333333333333333,
                            "#9c179e"
                          ],
                          [
                            0.4444444444444444,
                            "#bd3786"
                          ],
                          [
                            0.5555555555555556,
                            "#d8576b"
                          ],
                          [
                            0.6666666666666666,
                            "#ed7953"
                          ],
                          [
                            0.7777777777777778,
                            "#fb9f3a"
                          ],
                          [
                            0.8888888888888888,
                            "#fdca26"
                          ],
                          [
                            1,
                            "#f0f921"
                          ]
                        ],
                        "type": "histogram2dcontour"
                      }
                    ],
                    "mesh3d": [
                      {
                        "colorbar": {
                          "outlinewidth": 0,
                          "ticks": ""
                        },
                        "type": "mesh3d"
                      }
                    ],
                    "parcoords": [
                      {
                        "line": {
                          "colorbar": {
                            "outlinewidth": 0,
                            "ticks": ""
                          }
                        },
                        "type": "parcoords"
                      }
                    ],
                    "pie": [
                      {
                        "automargin": true,
                        "type": "pie"
                      }
                    ],
                    "scatter": [
                      {
                        "fillpattern": {
                          "fillmode": "overlay",
                          "size": 10,
                          "solidity": 0.2
                        },
                        "type": "scatter"
                      }
                    ],
                    "scatter3d": [
                      {
                        "line": {
                          "colorbar": {
                            "outlinewidth": 0,
                            "ticks": ""
                          }
                        },
                        "marker": {
                          "colorbar": {
                            "outlinewidth": 0,
                            "ticks": ""
                          }
                        },
                        "type": "scatter3d"
                      }
                    ],
                    "scattercarpet": [
                      {
                        "marker": {
                          "colorbar": {
                            "outlinewidth": 0,
                            "ticks": ""
                          }
                        },
                        "type": "scattercarpet"
                      }
                    ],
                    "scattergeo": [
                      {
                        "marker": {
                          "colorbar": {
                            "outlinewidth": 0,
                            "ticks": ""
                          }
                        },
                        "type": "scattergeo"
                      }
                    ],
                    "scattergl": [
                      {
                        "marker": {
                          "colorbar": {
                            "outlinewidth": 0,
                            "ticks": ""
                          }
                        },
                        "type": "scattergl"
                      }
                    ],
                    "scattermapbox": [
                      {
                        "marker": {
                          "colorbar": {
                            "outlinewidth": 0,
                            "ticks": ""
                          }
                        },
                        "type": "scattermapbox"
                      }
                    ],
                    "scatterpolar": [
                      {
                        "marker": {
                          "colorbar": {
                            "outlinewidth": 0,
                            "ticks": ""
                          }
                        },
                        "type": "scatterpolar"
                      }
                    ],
                    "scatterpolargl": [
                      {
                        "marker": {
                          "colorbar": {
                            "outlinewidth": 0,
                            "ticks": ""
                          }
                        },
                        "type": "scatterpolargl"
                      }
                    ],
                    "scatterternary": [
                      {
                        "marker": {
                          "colorbar": {
                            "outlinewidth": 0,
                            "ticks": ""
                          }
                        },
                        "type": "scatterternary"
                      }
                    ],
                    "surface": [
                      {
                        "colorbar": {
                          "outlinewidth": 0,
                          "ticks": ""
                        },
                        "colorscale": [
                          [
                            0,
                            "#0d0887"
                          ],
                          [
                            0.1111111111111111,
                            "#46039f"
                          ],
                          [
                            0.2222222222222222,
                            "#7201a8"
                          ],
                          [
                            0.3333333333333333,
                            "#9c179e"
                          ],
                          [
                            0.4444444444444444,
                            "#bd3786"
                          ],
                          [
                            0.5555555555555556,
                            "#d8576b"
                          ],
                          [
                            0.6666666666666666,
                            "#ed7953"
                          ],
                          [
                            0.7777777777777778,
                            "#fb9f3a"
                          ],
                          [
                            0.8888888888888888,
                            "#fdca26"
                          ],
                          [
                            1,
                            "#f0f921"
                          ]
                        ],
                        "type": "surface"
                      }
                    ],
                    "table": [
                      {
                        "cells": {
                          "fill": {
                            "color": "#EBF0F8"
                          },
                          "line": {
                            "color": "white"
                          }
                        },
                        "header": {
                          "fill": {
                            "color": "#C8D4E3"
                          },
                          "line": {
                            "color": "white"
                          }
                        },
                        "type": "table"
                      }
                    ]
                  },
                  "layout": {
                    "annotationdefaults": {
                      "arrowcolor": "#2a3f5f",
                      "arrowhead": 0,
                      "arrowwidth": 1
                    },
                    "autotypenumbers": "strict",
                    "coloraxis": {
                      "colorbar": {
                        "outlinewidth": 0,
                        "ticks": ""
                      }
                    },
                    "colorscale": {
                      "diverging": [
                        [
                          0,
                          "#8e0152"
                        ],
                        [
                          0.1,
                          "#c51b7d"
                        ],
                        [
                          0.2,
                          "#de77ae"
                        ],
                        [
                          0.3,
                          "#f1b6da"
                        ],
                        [
                          0.4,
                          "#fde0ef"
                        ],
                        [
                          0.5,
                          "#f7f7f7"
                        ],
                        [
                          0.6,
                          "#e6f5d0"
                        ],
                        [
                          0.7,
                          "#b8e186"
                        ],
                        [
                          0.8,
                          "#7fbc41"
                        ],
                        [
                          0.9,
                          "#4d9221"
                        ],
                        [
                          1,
                          "#276419"
                        ]
                      ],
                      "sequential": [
                        [
                          0,
                          "#0d0887"
                        ],
                        [
                          0.1111111111111111,
                          "#46039f"
                        ],
                        [
                          0.2222222222222222,
                          "#7201a8"
                        ],
                        [
                          0.3333333333333333,
                          "#9c179e"
                        ],
                        [
                          0.4444444444444444,
                          "#bd3786"
                        ],
                        [
                          0.5555555555555556,
                          "#d8576b"
                        ],
                        [
                          0.6666666666666666,
                          "#ed7953"
                        ],
                        [
                          0.7777777777777778,
                          "#fb9f3a"
                        ],
                        [
                          0.8888888888888888,
                          "#fdca26"
                        ],
                        [
                          1,
                          "#f0f921"
                        ]
                      ],
                      "sequentialminus": [
                        [
                          0,
                          "#0d0887"
                        ],
                        [
                          0.1111111111111111,
                          "#46039f"
                        ],
                        [
                          0.2222222222222222,
                          "#7201a8"
                        ],
                        [
                          0.3333333333333333,
                          "#9c179e"
                        ],
                        [
                          0.4444444444444444,
                          "#bd3786"
                        ],
                        [
                          0.5555555555555556,
                          "#d8576b"
                        ],
                        [
                          0.6666666666666666,
                          "#ed7953"
                        ],
                        [
                          0.7777777777777778,
                          "#fb9f3a"
                        ],
                        [
                          0.8888888888888888,
                          "#fdca26"
                        ],
                        [
                          1,
                          "#f0f921"
                        ]
                      ]
                    },
                    "colorway": [
                      "#636efa",
                      "#EF553B",
                      "#00cc96",
                      "#ab63fa",
                      "#FFA15A",
                      "#19d3f3",
                      "#FF6692",
                      "#B6E880",
                      "#FF97FF",
                      "#FECB52"
                    ],
                    "font": {
                      "color": "#2a3f5f"
                    },
                    "geo": {
                      "bgcolor": "white",
                      "lakecolor": "white",
                      "landcolor": "#E5ECF6",
                      "showlakes": true,
                      "showland": true,
                      "subunitcolor": "white"
                    },
                    "hoverlabel": {
                      "align": "left"
                    },
                    "hovermode": "closest",
                    "mapbox": {
                      "style": "light"
                    },
                    "paper_bgcolor": "white",
                    "plot_bgcolor": "#E5ECF6",
                    "polar": {
                      "angularaxis": {
                        "gridcolor": "white",
                        "linecolor": "white",
                        "ticks": ""
                      },
                      "bgcolor": "#E5ECF6",
                      "radialaxis": {
                        "gridcolor": "white",
                        "linecolor": "white",
                        "ticks": ""
                      }
                    },
                    "scene": {
                      "xaxis": {
                        "backgroundcolor": "#E5ECF6",
                        "gridcolor": "white",
                        "gridwidth": 2,
                        "linecolor": "white",
                        "showbackground": true,
                        "ticks": "",
                        "zerolinecolor": "white"
                      },
                      "yaxis": {
                        "backgroundcolor": "#E5ECF6",
                        "gridcolor": "white",
                        "gridwidth": 2,
                        "linecolor": "white",
                        "showbackground": true,
                        "ticks": "",
                        "zerolinecolor": "white"
                      },
                      "zaxis": {
                        "backgroundcolor": "#E5ECF6",
                        "gridcolor": "white",
                        "gridwidth": 2,
                        "linecolor": "white",
                        "showbackground": true,
                        "ticks": "",
                        "zerolinecolor": "white"
                      }
                    },
                    "shapedefaults": {
                      "line": {
                        "color": "#2a3f5f"
                      }
                    },
                    "ternary": {
                      "aaxis": {
                        "gridcolor": "white",
                        "linecolor": "white",
                        "ticks": ""
                      },
                      "baxis": {
                        "gridcolor": "white",
                        "linecolor": "white",
                        "ticks": ""
                      },
                      "bgcolor": "#E5ECF6",
                      "caxis": {
                        "gridcolor": "white",
                        "linecolor": "white",
                        "ticks": ""
                      }
                    },
                    "title": {
                      "x": 0.05
                    },
                    "xaxis": {
                      "automargin": true,
                      "gridcolor": "white",
                      "linecolor": "white",
                      "ticks": "",
                      "title": {
                        "standoff": 15
                      },
                      "zerolinecolor": "white",
                      "zerolinewidth": 2
                    },
                    "yaxis": {
                      "automargin": true,
                      "gridcolor": "white",
                      "linecolor": "white",
                      "ticks": "",
                      "title": {
                        "standoff": 15
                      },
                      "zerolinecolor": "white",
                      "zerolinewidth": 2
                    }
                  }
                },
                "title": {
                  "text": "Livestock Methane Emission Distribution for Nigeria (2000-2021)",
                  "x": 0.5
                },
                "xaxis": {
                  "anchor": "y",
                  "domain": [
                    0,
                    1
                  ],
                  "title": {
                    "text": "Year"
                  }
                },
                "yaxis": {
                  "anchor": "x",
                  "domain": [
                    0,
                    1
                  ],
                  "title": {
                    "text": "Methane Value (kt)"
                  }
                }
              }
            }
          },
          "metadata": {},
          "output_type": "display_data"
        }
      ],
      "source": [
        "# Filter the data for Nigeria\n",
        "Nigeria_data = df[df['Area'] == 'Nigeria']\n",
        "\n",
        "# Plot the line chart using Plotly Express\n",
        "fig = px.line(Nigeria_data, x='Year', y='Value', markers=True,\n",
        "              title='Livestock Methane Emission Distribution for Nigeria (2000-2021)',\n",
        "              labels={'Value': 'Methane Value (kt)', 'Year': 'Year'})\n",
        "\n",
        "# Customize layout (optional)\n",
        "fig.update_layout(\n",
        "    title_x=0.5,  # Center title\n",
        "    xaxis_title='Year',\n",
        "    yaxis_title='Methane Value (kt)',\n",
        "    showlegend=False\n",
        ")\n",
        "\n",
        "# Display the plot\n",
        "fig.show()"
      ]
    },
    {
      "cell_type": "markdown",
      "metadata": {
        "id": "CGCTP4gbq9lO"
      },
      "source": [
        "## Modeling"
      ]
    },
    {
      "cell_type": "code",
      "execution_count": 60,
      "metadata": {
        "id": "FjgxefswrA1A"
      },
      "outputs": [],
      "source": [
        "# import libraries\n",
        "from prophet import Prophet\n",
        "\n",
        "from sklearn.metrics import mean_absolute_error, r2_score"
      ]
    },
    {
      "cell_type": "code",
      "execution_count": 42,
      "metadata": {
        "colab": {
          "base_uri": "https://localhost:8080/",
          "height": 206
        },
        "id": "SSV1brN_rKHJ",
        "outputId": "72b93643-8787-491b-ab90-71c0df045261"
      },
      "outputs": [
        {
          "data": {
            "text/html": [
              "<div>\n",
              "<style scoped>\n",
              "    .dataframe tbody tr th:only-of-type {\n",
              "        vertical-align: middle;\n",
              "    }\n",
              "\n",
              "    .dataframe tbody tr th {\n",
              "        vertical-align: top;\n",
              "    }\n",
              "\n",
              "    .dataframe thead th {\n",
              "        text-align: right;\n",
              "    }\n",
              "</style>\n",
              "<table border=\"1\" class=\"dataframe\">\n",
              "  <thead>\n",
              "    <tr style=\"text-align: right;\">\n",
              "      <th></th>\n",
              "      <th>Area</th>\n",
              "      <th>Year</th>\n",
              "      <th>Value</th>\n",
              "      <th>Continent</th>\n",
              "      <th>Area Code (ISO3)</th>\n",
              "    </tr>\n",
              "  </thead>\n",
              "  <tbody>\n",
              "    <tr>\n",
              "      <th>0</th>\n",
              "      <td>Afghanistan</td>\n",
              "      <td>2000</td>\n",
              "      <td>152.100</td>\n",
              "      <td>Asia</td>\n",
              "      <td>AFG</td>\n",
              "    </tr>\n",
              "    <tr>\n",
              "      <th>1</th>\n",
              "      <td>Afghanistan</td>\n",
              "      <td>2001</td>\n",
              "      <td>119.621</td>\n",
              "      <td>Asia</td>\n",
              "      <td>AFG</td>\n",
              "    </tr>\n",
              "    <tr>\n",
              "      <th>2</th>\n",
              "      <td>Afghanistan</td>\n",
              "      <td>2002</td>\n",
              "      <td>196.135</td>\n",
              "      <td>Asia</td>\n",
              "      <td>AFG</td>\n",
              "    </tr>\n",
              "    <tr>\n",
              "      <th>3</th>\n",
              "      <td>Afghanistan</td>\n",
              "      <td>2003</td>\n",
              "      <td>199.441</td>\n",
              "      <td>Asia</td>\n",
              "      <td>AFG</td>\n",
              "    </tr>\n",
              "    <tr>\n",
              "      <th>4</th>\n",
              "      <td>Afghanistan</td>\n",
              "      <td>2004</td>\n",
              "      <td>182.926</td>\n",
              "      <td>Asia</td>\n",
              "      <td>AFG</td>\n",
              "    </tr>\n",
              "  </tbody>\n",
              "</table>\n",
              "</div>"
            ],
            "text/plain": [
              "          Area  Year    Value Continent Area Code (ISO3)\n",
              "0  Afghanistan  2000  152.100      Asia              AFG\n",
              "1  Afghanistan  2001  119.621      Asia              AFG\n",
              "2  Afghanistan  2002  196.135      Asia              AFG\n",
              "3  Afghanistan  2003  199.441      Asia              AFG\n",
              "4  Afghanistan  2004  182.926      Asia              AFG"
            ]
          },
          "execution_count": 42,
          "metadata": {},
          "output_type": "execute_result"
        }
      ],
      "source": [
        "df.head()"
      ]
    },
    {
      "cell_type": "code",
      "execution_count": 43,
      "metadata": {
        "colab": {
          "base_uri": "https://localhost:8080/",
          "height": 206
        },
        "id": "3x5Gc1gTsi2G",
        "outputId": "efbfd5fb-e229-47b8-d80a-77e9cee77bc8"
      },
      "outputs": [
        {
          "data": {
            "text/html": [
              "<div>\n",
              "<style scoped>\n",
              "    .dataframe tbody tr th:only-of-type {\n",
              "        vertical-align: middle;\n",
              "    }\n",
              "\n",
              "    .dataframe tbody tr th {\n",
              "        vertical-align: top;\n",
              "    }\n",
              "\n",
              "    .dataframe thead th {\n",
              "        text-align: right;\n",
              "    }\n",
              "</style>\n",
              "<table border=\"1\" class=\"dataframe\">\n",
              "  <thead>\n",
              "    <tr style=\"text-align: right;\">\n",
              "      <th></th>\n",
              "      <th>Area</th>\n",
              "      <th>Year</th>\n",
              "      <th>Value</th>\n",
              "      <th>Continent</th>\n",
              "      <th>Area Code (ISO3)</th>\n",
              "    </tr>\n",
              "  </thead>\n",
              "  <tbody>\n",
              "    <tr>\n",
              "      <th>0</th>\n",
              "      <td>Afghanistan</td>\n",
              "      <td>2000-01-01</td>\n",
              "      <td>152.100</td>\n",
              "      <td>Asia</td>\n",
              "      <td>AFG</td>\n",
              "    </tr>\n",
              "    <tr>\n",
              "      <th>1</th>\n",
              "      <td>Afghanistan</td>\n",
              "      <td>2001-01-01</td>\n",
              "      <td>119.621</td>\n",
              "      <td>Asia</td>\n",
              "      <td>AFG</td>\n",
              "    </tr>\n",
              "    <tr>\n",
              "      <th>2</th>\n",
              "      <td>Afghanistan</td>\n",
              "      <td>2002-01-01</td>\n",
              "      <td>196.135</td>\n",
              "      <td>Asia</td>\n",
              "      <td>AFG</td>\n",
              "    </tr>\n",
              "    <tr>\n",
              "      <th>3</th>\n",
              "      <td>Afghanistan</td>\n",
              "      <td>2003-01-01</td>\n",
              "      <td>199.441</td>\n",
              "      <td>Asia</td>\n",
              "      <td>AFG</td>\n",
              "    </tr>\n",
              "    <tr>\n",
              "      <th>4</th>\n",
              "      <td>Afghanistan</td>\n",
              "      <td>2004-01-01</td>\n",
              "      <td>182.926</td>\n",
              "      <td>Asia</td>\n",
              "      <td>AFG</td>\n",
              "    </tr>\n",
              "  </tbody>\n",
              "</table>\n",
              "</div>"
            ],
            "text/plain": [
              "          Area       Year    Value Continent Area Code (ISO3)\n",
              "0  Afghanistan 2000-01-01  152.100      Asia              AFG\n",
              "1  Afghanistan 2001-01-01  119.621      Asia              AFG\n",
              "2  Afghanistan 2002-01-01  196.135      Asia              AFG\n",
              "3  Afghanistan 2003-01-01  199.441      Asia              AFG\n",
              "4  Afghanistan 2004-01-01  182.926      Asia              AFG"
            ]
          },
          "execution_count": 43,
          "metadata": {},
          "output_type": "execute_result"
        }
      ],
      "source": [
        "prophet_data = df.copy()\n",
        "prophet_data['Year'] = pd.to_datetime(prophet_data['Year'], format='%Y')\n",
        "prophet_data.head()"
      ]
    },
    {
      "cell_type": "code",
      "execution_count": 44,
      "metadata": {
        "colab": {
          "base_uri": "https://localhost:8080/",
          "height": 206
        },
        "id": "7cCRqDwurLqT",
        "outputId": "a0af82e0-4686-478a-bf90-09fb8146b3bc"
      },
      "outputs": [
        {
          "data": {
            "text/html": [
              "<div>\n",
              "<style scoped>\n",
              "    .dataframe tbody tr th:only-of-type {\n",
              "        vertical-align: middle;\n",
              "    }\n",
              "\n",
              "    .dataframe tbody tr th {\n",
              "        vertical-align: top;\n",
              "    }\n",
              "\n",
              "    .dataframe thead th {\n",
              "        text-align: right;\n",
              "    }\n",
              "</style>\n",
              "<table border=\"1\" class=\"dataframe\">\n",
              "  <thead>\n",
              "    <tr style=\"text-align: right;\">\n",
              "      <th></th>\n",
              "      <th>ds</th>\n",
              "      <th>y</th>\n",
              "    </tr>\n",
              "  </thead>\n",
              "  <tbody>\n",
              "    <tr>\n",
              "      <th>2810</th>\n",
              "      <td>2000-01-01</td>\n",
              "      <td>507.5981</td>\n",
              "    </tr>\n",
              "    <tr>\n",
              "      <th>2811</th>\n",
              "      <td>2001-01-01</td>\n",
              "      <td>508.1038</td>\n",
              "    </tr>\n",
              "    <tr>\n",
              "      <th>2812</th>\n",
              "      <td>2002-01-01</td>\n",
              "      <td>509.7452</td>\n",
              "    </tr>\n",
              "    <tr>\n",
              "      <th>2813</th>\n",
              "      <td>2003-01-01</td>\n",
              "      <td>510.2584</td>\n",
              "    </tr>\n",
              "    <tr>\n",
              "      <th>2814</th>\n",
              "      <td>2004-01-01</td>\n",
              "      <td>528.3050</td>\n",
              "    </tr>\n",
              "  </tbody>\n",
              "</table>\n",
              "</div>"
            ],
            "text/plain": [
              "             ds         y\n",
              "2810 2000-01-01  507.5981\n",
              "2811 2001-01-01  508.1038\n",
              "2812 2002-01-01  509.7452\n",
              "2813 2003-01-01  510.2584\n",
              "2814 2004-01-01  528.3050"
            ]
          },
          "execution_count": 44,
          "metadata": {},
          "output_type": "execute_result"
        }
      ],
      "source": [
        "# Select the country and prepare the data for Prophet\n",
        "selected_country = 'Nigeria'\n",
        "country_data = prophet_data[prophet_data['Area'] == selected_country]\n",
        "\n",
        "# Prepare the DataFrame for model\n",
        "model_data = country_data[['Year', 'Value']].rename(columns={'Year': 'ds', 'Value': 'y'})\n",
        "model_data.head()"
      ]
    },
    {
      "cell_type": "code",
      "execution_count": 57,
      "metadata": {
        "colab": {
          "base_uri": "https://localhost:8080/",
          "height": 996
        },
        "id": "wnBURDAdr1Tc",
        "outputId": "7b0383ac-a172-4c77-a6ab-7666f45fb7a4"
      },
      "outputs": [
        {
          "name": "stderr",
          "output_type": "stream",
          "text": [
            "22:15:50 - cmdstanpy - INFO - Chain [1] start processing\n",
            "22:15:51 - cmdstanpy - INFO - Chain [1] done processing\n"
          ]
        },
        {
          "data": {
            "image/png": "[encoded data removed]",
            "text/plain": [
              "<Figure size 720x432 with 1 Axes>"
            ]
          },
          "metadata": {},
          "output_type": "display_data"
        }
      ],
      "source": [
        "# Fit the Prophet model\n",
        "model = Prophet()\n",
        "model.fit(model_data)\n",
        "\n",
        "# Create future dates for prediction of 5 years ahead with a yearly frequency\n",
        "future = model.make_future_dataframe(periods=5, freq= 'Y')\n",
        "\n",
        "\n",
        "# predict the future values\n",
        "forecast = model.predict(future)\n",
        "\n",
        "# Plot the forecast\n",
        "fig = model.plot(forecast)\n",
        "plt.title(f'Time Series Forecast for {selected_country}')\n",
        "plt.xlabel('Year')\n",
        "plt.ylabel('Value')\n",
        "plt.show()"
      ]
    },
    {
      "cell_type": "code",
      "execution_count": 58,
      "metadata": {
        "colab": {
          "base_uri": "https://localhost:8080/",
          "height": 439
        },
        "id": "J0LaJWLjsSz4",
        "outputId": "f2a2ab0b-df49-4c7d-e8f2-0ed347e035c6"
      },
      "outputs": [
        {
          "data": {
            "text/plain": [
              "<Axes: xlabel='ds'>"
            ]
          },
          "execution_count": 58,
          "metadata": {},
          "output_type": "execute_result"
        },
        {
          "data": {
            "image/png": "[encoded data removed]",
            "text/plain": [
              "<Figure size 432x288 with 1 Axes>"
            ]
          },
          "metadata": {
            "needs_background": "light"
          },
          "output_type": "display_data"
        }
      ],
      "source": [
        "# plot of original and forecast methane emission value line chart\n",
        "pd.concat([model_data.set_index('ds')['y'],\n",
        "           forecast.set_index('ds')['yhat']],axis=1).plot()"
      ]
    },
    {
      "cell_type": "code",
      "execution_count": 61,
      "metadata": {
        "colab": {
          "base_uri": "https://localhost:8080/",
          "height": 1000
        },
        "id": "XpgamGlGu6xY",
        "outputId": "8541a28b-8e39-48ec-f223-3a90ffcba11c"
      },
      "outputs": [
        {
          "name": "stdout",
          "output_type": "stream",
          "text": [
            "Creating Prophet model for Ethiopia\n"
          ]
        },
        {
          "name": "stderr",
          "output_type": "stream",
          "text": [
            "22:21:07 - cmdstanpy - INFO - Chain [1] start processing\n",
            "22:21:15 - cmdstanpy - INFO - Chain [1] done processing\n"
          ]
        },
        {
          "name": "stdout",
          "output_type": "stream",
          "text": [
            "MAE for Ethiopia: 44.57535886621952\n",
            "R² for Ethiopia: 0.9749496094197461\n"
          ]
        },
        {
          "data": {
            "image/png": "[encoded data removed]",
            "text/plain": [
              "<Figure size 432x288 with 1 Axes>"
            ]
          },
          "metadata": {
            "needs_background": "light"
          },
          "output_type": "display_data"
        },
        {
          "name": "stdout",
          "output_type": "stream",
          "text": [
            "Creating Prophet model for India\n"
          ]
        },
        {
          "name": "stderr",
          "output_type": "stream",
          "text": [
            "22:21:27 - cmdstanpy - INFO - Chain [1] start processing\n",
            "22:21:28 - cmdstanpy - INFO - Chain [1] done processing\n"
          ]
        },
        {
          "name": "stdout",
          "output_type": "stream",
          "text": [
            "MAE for India: 17.925007665576437\n",
            "R² for India: 0.9933014834862365\n"
          ]
        },
        {
          "data": {
            "image/png": "[encoded data removed]",
            "text/plain": [
              "<Figure size 432x288 with 1 Axes>"
            ]
          },
          "metadata": {
            "needs_background": "light"
          },
          "output_type": "display_data"
        },
        {
          "name": "stdout",
          "output_type": "stream",
          "text": [
            "Creating Prophet model for Russian Federation\n"
          ]
        },
        {
          "name": "stderr",
          "output_type": "stream",
          "text": [
            "22:21:32 - cmdstanpy - INFO - Chain [1] start processing\n",
            "22:21:33 - cmdstanpy - INFO - Chain [1] done processing\n"
          ]
        },
        {
          "name": "stdout",
          "output_type": "stream",
          "text": [
            "MAE for Russian Federation: 23.1325346531322\n",
            "R² for Russian Federation: 0.9887772177966299\n"
          ]
        },
        {
          "data": {
            "image/png": "[encoded data removed]",
            "text/plain": [
              "<Figure size 432x288 with 1 Axes>"
            ]
          },
          "metadata": {
            "needs_background": "light"
          },
          "output_type": "display_data"
        },
        {
          "name": "stdout",
          "output_type": "stream",
          "text": [
            "Creating Prophet model for United States of America\n"
          ]
        },
        {
          "name": "stderr",
          "output_type": "stream",
          "text": [
            "22:21:37 - cmdstanpy - INFO - Chain [1] start processing\n",
            "22:21:38 - cmdstanpy - INFO - Chain [1] done processing\n"
          ]
        },
        {
          "name": "stdout",
          "output_type": "stream",
          "text": [
            "MAE for United States of America: 49.57958489085501\n",
            "R² for United States of America: 0.8216750545987191\n"
          ]
        },
        {
          "data": {
            "image/png": "[encoded data removed]",
            "text/plain": [
              "<Figure size 432x288 with 1 Axes>"
            ]
          },
          "metadata": {
            "needs_background": "light"
          },
          "output_type": "display_data"
        },
        {
          "name": "stdout",
          "output_type": "stream",
          "text": [
            "Creating Prophet model for Australia\n"
          ]
        },
        {
          "name": "stderr",
          "output_type": "stream",
          "text": [
            "22:21:43 - cmdstanpy - INFO - Chain [1] start processing\n",
            "22:21:43 - cmdstanpy - INFO - Chain [1] done processing\n"
          ]
        },
        {
          "name": "stdout",
          "output_type": "stream",
          "text": [
            "MAE for Australia: 34.913250886826475\n",
            "R² for Australia: 0.8157179511508579\n"
          ]
        },
        {
          "data": {
            "image/png": "[encoded data removed]",
            "text/plain": [
              "<Figure size 432x288 with 1 Axes>"
            ]
          },
          "metadata": {
            "needs_background": "light"
          },
          "output_type": "display_data"
        },
        {
          "name": "stdout",
          "output_type": "stream",
          "text": [
            "Creating Prophet model for Brazil\n"
          ]
        },
        {
          "name": "stderr",
          "output_type": "stream",
          "text": [
            "22:21:47 - cmdstanpy - INFO - Chain [1] start processing\n",
            "22:21:48 - cmdstanpy - INFO - Chain [1] done processing\n"
          ]
        },
        {
          "name": "stdout",
          "output_type": "stream",
          "text": [
            "MAE for Brazil: 137.4721859797933\n",
            "R² for Brazil: 0.9580724434575435\n"
          ]
        },
        {
          "data": {
            "image/png": "[encoded data removed]",
            "text/plain": [
              "<Figure size 432x288 with 1 Axes>"
            ]
          },
          "metadata": {
            "needs_background": "light"
          },
          "output_type": "display_data"
        },
        {
          "name": "stdout",
          "output_type": "stream",
          "text": [
            "Creating Prophet model for Seychelles\n"
          ]
        },
        {
          "name": "stderr",
          "output_type": "stream",
          "text": [
            "22:21:52 - cmdstanpy - INFO - Chain [1] start processing\n",
            "22:21:52 - cmdstanpy - INFO - Chain [1] done processing\n"
          ]
        },
        {
          "name": "stdout",
          "output_type": "stream",
          "text": [
            "MAE for Seychelles: 0.006924255319175849\n",
            "R² for Seychelles: 0.739395919546934\n"
          ]
        },
        {
          "data": {
            "image/png": "[encoded data removed]",
            "text/plain": [
              "<Figure size 432x288 with 1 Axes>"
            ]
          },
          "metadata": {
            "needs_background": "light"
          },
          "output_type": "display_data"
        },
        {
          "name": "stdout",
          "output_type": "stream",
          "text": [
            "Creating Prophet model for Singapore\n"
          ]
        },
        {
          "name": "stderr",
          "output_type": "stream",
          "text": [
            "22:21:57 - cmdstanpy - INFO - Chain [1] start processing\n",
            "22:21:57 - cmdstanpy - INFO - Chain [1] done processing\n"
          ]
        },
        {
          "name": "stdout",
          "output_type": "stream",
          "text": [
            "MAE for Singapore: 9.779936015118758e-05\n",
            "R² for Singapore: 0.8005729778228964\n"
          ]
        },
        {
          "data": {
            "image/png": "[encoded data removed]",
            "text/plain": [
              "<Figure size 432x288 with 1 Axes>"
            ]
          },
          "metadata": {
            "needs_background": "light"
          },
          "output_type": "display_data"
        },
        {
          "name": "stdout",
          "output_type": "stream",
          "text": [
            "Creating Prophet model for Faroe Islands\n"
          ]
        },
        {
          "name": "stderr",
          "output_type": "stream",
          "text": [
            "22:22:01 - cmdstanpy - INFO - Chain [1] start processing\n",
            "22:22:01 - cmdstanpy - INFO - Chain [1] done processing\n"
          ]
        },
        {
          "name": "stdout",
          "output_type": "stream",
          "text": [
            "MAE for Faroe Islands: 0.0038223289417423077\n",
            "R² for Faroe Islands: 0.9452330785028423\n"
          ]
        },
        {
          "data": {
            "image/png": "[encoded data removed]",
            "text/plain": [
              "<Figure size 432x288 with 1 Axes>"
            ]
          },
          "metadata": {
            "needs_background": "light"
          },
          "output_type": "display_data"
        },
        {
          "name": "stdout",
          "output_type": "stream",
          "text": [
            "Creating Prophet model for Bahamas\n"
          ]
        },
        {
          "name": "stderr",
          "output_type": "stream",
          "text": [
            "22:22:06 - cmdstanpy - INFO - Chain [1] start processing\n",
            "22:22:06 - cmdstanpy - INFO - Chain [1] done processing\n"
          ]
        },
        {
          "name": "stdout",
          "output_type": "stream",
          "text": [
            "MAE for Bahamas: 0.0006360218288794296\n",
            "R² for Bahamas: 0.8650001498249493\n"
          ]
        },
        {
          "data": {
            "image/png": "[encoded data removed]",
            "text/plain": [
              "<Figure size 432x288 with 1 Axes>"
            ]
          },
          "metadata": {
            "needs_background": "light"
          },
          "output_type": "display_data"
        },
        {
          "name": "stdout",
          "output_type": "stream",
          "text": [
            "Creating Prophet model for Cook Islands\n"
          ]
        },
        {
          "name": "stderr",
          "output_type": "stream",
          "text": [
            "22:22:11 - cmdstanpy - INFO - Chain [1] start processing\n",
            "22:22:12 - cmdstanpy - INFO - Chain [1] done processing\n"
          ]
        },
        {
          "name": "stdout",
          "output_type": "stream",
          "text": [
            "MAE for Cook Islands: 0.0005662875027114612\n",
            "R² for Cook Islands: 0.4787846932418842\n"
          ]
        },
        {
          "data": {
            "image/png": "[encoded data removed]",
            "text/plain": [
              "<Figure size 432x288 with 1 Axes>"
            ]
          },
          "metadata": {
            "needs_background": "light"
          },
          "output_type": "display_data"
        },
        {
          "name": "stdout",
          "output_type": "stream",
          "text": [
            "Creating Prophet model for French Guiana\n"
          ]
        },
        {
          "name": "stderr",
          "output_type": "stream",
          "text": [
            "22:22:18 - cmdstanpy - INFO - Chain [1] start processing\n",
            "22:22:18 - cmdstanpy - INFO - Chain [1] done processing\n"
          ]
        },
        {
          "name": "stdout",
          "output_type": "stream",
          "text": [
            "MAE for French Guiana: 0.14693036228840448\n",
            "R² for French Guiana: 0.5901894950110582\n"
          ]
        },
        {
          "data": {
            "image/png": "[encoded data removed]",
            "text/plain": [
              "<Figure size 432x288 with 1 Axes>"
            ]
          },
          "metadata": {
            "needs_background": "light"
          },
          "output_type": "display_data"
        }
      ],
      "source": [
        "# Function to create Prophet model for each country, plot, and calculate metrics\n",
        "def create_prophet_model(country, df):\n",
        "    # Filter the data for the selected country\n",
        "    country_data = df[df['Area'] == country]\n",
        "\n",
        "    # Prepare the DataFrame for Prophet\n",
        "    model_data = country_data[['Year', 'Value']].rename(columns={'Year': 'ds', 'Value': 'y'})\n",
        "\n",
        "    # Initialize Prophet model\n",
        "    model = Prophet()\n",
        "\n",
        "    # Fit the model on the data\n",
        "    model.fit(model_data)\n",
        "\n",
        "    # Create a dataframe for future predictions\n",
        "    future = model.make_future_dataframe(periods=6, freq='Y')  # Predict the next 6 years\n",
        "\n",
        "    # Make predictions\n",
        "    forecast = model.predict(future)\n",
        "\n",
        "    # Combine actual and predicted values for plotting\n",
        "    combined_data = pd.concat([model_data.set_index('ds')['y'],\n",
        "                               forecast.set_index('ds')['yhat']], axis=1)\n",
        "\n",
        "    # Drop any future values that do not have actual data\n",
        "    combined_data = combined_data.dropna()\n",
        "\n",
        "    # Calculate MAE and R² for historical data\n",
        "    mae = mean_absolute_error(combined_data['y'], combined_data['yhat'])\n",
        "    r2 = r2_score(combined_data['y'], combined_data['yhat'])\n",
        "\n",
        "    # Print MAE and R²\n",
        "    print(f\"MAE for {country}: {mae}\")\n",
        "    print(f\"R² for {country}: {r2}\")\n",
        "\n",
        "    # Plot original and forecast methane emission value line chart\n",
        "    combined_data.plot(title=f'{country} Methane Emission: Original vs Forecast')\n",
        "    plt.xlabel('Year')\n",
        "    plt.ylabel('Methane Emission Value (kt)')\n",
        "    plt.legend(['Original', 'Forecast'])\n",
        "    plt.show()\n",
        "\n",
        "    return mae, r2\n",
        "\n",
        "# Loop through top and low countries to create models, forecasts, and calculate metrics\n",
        "for country in top_country_list + low_country_list:\n",
        "    print(f\"Creating Prophet model for {country}\")\n",
        "    mae, r2 = create_prophet_model(country, prophet_data)"
      ]
    },
    {
      "cell_type": "markdown",
      "metadata": {},
      "source": [
        "Based on the minimal MAE score and the R² score close to a perfect fit of 1.0, the model fits the historical data very well, capturing most of the variance and trends for each country's methane emissions."
      ]
    }
  ],
  "metadata": {
    "colab": {
      "authorship_tag": "ABX9TyNlTzFRSC4OJKRmmIwug/F2",
      "include_colab_link": true,
      "provenance": []
    },
    "kernelspec": {
      "display_name": "Python 3",
      "name": "python3"
    },
    "language_info": {
      "codemirror_mode": {
        "name": "ipython",
        "version": 3
      },
      "file_extension": ".py",
      "mimetype": "text/x-python",
      "name": "python",
      "nbconvert_exporter": "python",
      "pygments_lexer": "ipython3",
      "version": "3.9.13"
    }
  },
  "nbformat": 4,
  "nbformat_minor": 0
}
